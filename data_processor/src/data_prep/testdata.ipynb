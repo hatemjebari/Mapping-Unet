{
 "cells": [
  {
   "cell_type": "code",
   "execution_count": 1,
   "id": "6c4a071e-4040-420b-b3d0-ae7194bfb4de",
   "metadata": {},
   "outputs": [
    {
     "name": "stderr",
     "output_type": "stream",
     "text": [
      "/home/resifis/miniconda3/envs/kaustenv/lib/python3.9/site-packages/tqdm/auto.py:22: TqdmWarning: IProgress not found. Please update jupyter and ipywidgets. See https://ipywidgets.readthedocs.io/en/stable/user_install.html\n",
      "  from .autonotebook import tqdm as notebook_tqdm\n"
     ]
    }
   ],
   "source": [
    "import matplotlib.pyplot as plt\n",
    "from netCDF4 import Dataset\n",
    "import netCDF4 as nc\n",
    "import pandas as pd\n",
    "import numpy as np \n",
    "import torch\n",
    "import os\n",
    "plt.style.use('classic')"
   ]
  },
  {
   "cell_type": "code",
   "execution_count": 2,
   "id": "06f08e50-0d4a-4cb6-98d1-ab52025be27b",
   "metadata": {},
   "outputs": [],
   "source": [
    "DATAPATH = os.environ.get(\"DATAPATH\",\"/home/resifis/Desktop/kaustcode/Packages/data\")"
   ]
  },
  {
   "cell_type": "code",
   "execution_count": 3,
   "id": "627ae116-b5b0-4292-bdbc-f5b44ed843b5",
   "metadata": {},
   "outputs": [],
   "source": [
    "timestep = 1"
   ]
  },
  {
   "cell_type": "markdown",
   "id": "5db6f947-92cd-41d7-8d4b-20bf4424705c",
   "metadata": {},
   "source": [
    "# Aod_data"
   ]
  },
  {
   "cell_type": "code",
   "execution_count": 4,
   "id": "807ec188-e6cf-405d-bc78-c8d10f7728f8",
   "metadata": {},
   "outputs": [],
   "source": [
    "data_path_aod = os.path.join(DATAPATH,\"AOD_2010-2019_VI.nc\") \n",
    "netcdf_dataset_aod = Dataset(data_path_aod,mode = 'r')"
   ]
  },
  {
   "cell_type": "code",
   "execution_count": 5,
   "id": "75a7f56f-cbe0-4393-bea9-17c65529a170",
   "metadata": {},
   "outputs": [
    {
     "data": {
      "text/plain": [
       "<class 'netCDF4._netCDF4.Variable'>\n",
       "float64 time(time)\n",
       "    standard_name: time\n",
       "    units: hours since 1-1-1 00:00:00\n",
       "    calendar: standard\n",
       "    axis: T\n",
       "unlimited dimensions: time\n",
       "current shape = (87648,)\n",
       "filling on, default _FillValue of 9.969209968386869e+36 used"
      ]
     },
     "execution_count": 5,
     "metadata": {},
     "output_type": "execute_result"
    }
   ],
   "source": [
    "netcdf_dataset_aod.variables['time']"
   ]
  },
  {
   "cell_type": "code",
   "execution_count": 6,
   "id": "ca654461-da77-414f-ad34-1ba79cc49b89",
   "metadata": {},
   "outputs": [],
   "source": [
    "time_data_aod = np.array(netcdf_dataset_aod.variables['time'][:])"
   ]
  },
  {
   "cell_type": "code",
   "execution_count": 7,
   "id": "398b2aba-2a44-4fcd-93c4-5777c296e34a",
   "metadata": {},
   "outputs": [
    {
     "name": "stdout",
     "output_type": "stream",
     "text": [
      "17610600.0\n",
      "17698247.0\n"
     ]
    }
   ],
   "source": [
    "print(time_data_aod[0])\n",
    "print(time_data_aod[-1])"
   ]
  },
  {
   "cell_type": "code",
   "execution_count": 8,
   "id": "5ad843f2-0dca-4082-9da9-23b360cb0d2b",
   "metadata": {},
   "outputs": [
    {
     "name": "stdout",
     "output_type": "stream",
     "text": [
      "Thursday, July 23, 1970 10:50:00\n",
      "Friday, July 24, 1970 11:10:47\n"
     ]
    }
   ],
   "source": [
    "from datetime import datetime\n",
    "print(datetime.fromtimestamp(time_data_aod[0]).strftime(\"%A, %B %d, %Y %I:%M:%S\"))\n",
    "print(datetime.fromtimestamp(time_data_aod[-1]).strftime(\"%A, %B %d, %Y %I:%M:%S\"))"
   ]
  },
  {
   "cell_type": "markdown",
   "id": "f5ef526a-6b51-4eed-aeba-5d9e07ee1cb7",
   "metadata": {},
   "source": [
    "# Ozone"
   ]
  },
  {
   "cell_type": "code",
   "execution_count": 9,
   "id": "0e5c0dac-277a-482c-b6c5-cd563f3919a9",
   "metadata": {},
   "outputs": [],
   "source": [
    "data_path_ozone = os.path.join(DATAPATH,\"O3_2010-2019_VI.nc\") \n",
    "netcdf_dataset_ozone = Dataset(data_path_ozone,mode = 'r')"
   ]
  },
  {
   "cell_type": "code",
   "execution_count": 10,
   "id": "9d88c44c-23fb-421c-a8f5-39b0b7947a2c",
   "metadata": {},
   "outputs": [
    {
     "data": {
      "text/plain": [
       "<class 'netCDF4._netCDF4.Variable'>\n",
       "float64 time(time)\n",
       "    standard_name: time\n",
       "    units: hours since 1-1-1 00:00:00\n",
       "    calendar: standard\n",
       "    axis: T\n",
       "unlimited dimensions: time\n",
       "current shape = (87648,)\n",
       "filling on, default _FillValue of 9.969209968386869e+36 used"
      ]
     },
     "execution_count": 10,
     "metadata": {},
     "output_type": "execute_result"
    }
   ],
   "source": [
    "netcdf_dataset_ozone.variables['time']"
   ]
  },
  {
   "cell_type": "code",
   "execution_count": 11,
   "id": "b4a94799-037d-419d-83f1-3ac2c62ba297",
   "metadata": {},
   "outputs": [
    {
     "name": "stdout",
     "output_type": "stream",
     "text": [
      "Thursday, July 23, 1970 10:50:00\n",
      "Friday, July 24, 1970 11:10:47\n"
     ]
    }
   ],
   "source": [
    "time_data_ozone = np.array(netcdf_dataset_ozone.variables['time'][:])\n",
    "print(datetime.fromtimestamp(time_data_ozone[0]).strftime(\"%A, %B %d, %Y %I:%M:%S\"))\n",
    "print(datetime.fromtimestamp(time_data_ozone[-1]).strftime(\"%A, %B %d, %Y %I:%M:%S\"))"
   ]
  },
  {
   "cell_type": "code",
   "execution_count": 12,
   "id": "1e2ad9ca-a5d1-4049-ad68-4920fa526958",
   "metadata": {},
   "outputs": [
    {
     "name": "stdout",
     "output_type": "stream",
     "text": [
      "17610600.0\n",
      "17698247.0\n"
     ]
    }
   ],
   "source": [
    "print(time_data_ozone[0])\n",
    "print(time_data_ozone[-1])"
   ]
  },
  {
   "cell_type": "markdown",
   "id": "63849209-fe7f-4776-be5c-e0adbca7c0c3",
   "metadata": {},
   "source": [
    "# water_vapor"
   ]
  },
  {
   "cell_type": "code",
   "execution_count": 13,
   "id": "b239202f-1d59-4dea-bd34-8c34ce96daad",
   "metadata": {},
   "outputs": [],
   "source": [
    "data_path_wv = os.path.join(DATAPATH,\"Qvapor_2010-2019_VI.nc\") \n",
    "netcdf_dataset_wv = Dataset(data_path_wv,mode = 'r')"
   ]
  },
  {
   "cell_type": "code",
   "execution_count": 15,
   "id": "f4c1bee5-c0ba-4513-849e-9f0da6b1c7c6",
   "metadata": {},
   "outputs": [
    {
     "name": "stdout",
     "output_type": "stream",
     "text": [
      "Thursday, July 23, 1970 10:50:00\n",
      "Friday, July 24, 1970 11:10:47\n"
     ]
    }
   ],
   "source": [
    "time_data_wv = np.array(netcdf_dataset_wv.variables['time'][:])\n",
    "print(datetime.fromtimestamp(time_data_wv[0]).strftime(\"%A, %B %d, %Y %I:%M:%S\"))\n",
    "print(datetime.fromtimestamp(time_data_wv[-1]).strftime(\"%A, %B %d, %Y %I:%M:%S\"))"
   ]
  },
  {
   "cell_type": "code",
   "execution_count": 16,
   "id": "2981fb32-ce50-435c-8a4f-6c39758a6b72",
   "metadata": {},
   "outputs": [
    {
     "name": "stdout",
     "output_type": "stream",
     "text": [
      "17610600.0\n",
      "17698247.0\n"
     ]
    }
   ],
   "source": [
    "print(time_data_wv[0])\n",
    "print(time_data_wv[-1])"
   ]
  },
  {
   "cell_type": "markdown",
   "id": "504c2b55-e625-4caf-9f00-8e1dbe91950e",
   "metadata": {},
   "source": [
    "# Clouds"
   ]
  },
  {
   "cell_type": "markdown",
   "id": "46add94f-34cc-408e-bebf-d4d7cf78a7e1",
   "metadata": {},
   "source": [
    "## Cloud low"
   ]
  },
  {
   "cell_type": "code",
   "execution_count": 17,
   "id": "47d8d4c6-194e-490c-9c7e-7e43b9fe110d",
   "metadata": {},
   "outputs": [
    {
     "name": "stdout",
     "output_type": "stream",
     "text": [
      "Friday, January 01, 2010 03:00:00\n",
      "Wednesday, January 01, 2020 02:00:00\n"
     ]
    }
   ],
   "source": [
    "def loat_clouds(cloud_type):\n",
    "    if cloud_type == \"high\":\n",
    "        data_path = os.path.join(DATAPATH,\"High_cloud_2010-19.nc\")\n",
    "        netcdf_dataset_cc = Dataset(data_path,mode = 'r')\n",
    "    elif cloud_type == \"meduim\":\n",
    "        data_path = os.path.join(DATAPATH,\"Medium_cloud_2010-19.nc\")\n",
    "        netcdf_dataset_cc = Dataset(data_path,mode = 'r')\n",
    "    else :\n",
    "        data_path = os.path.join(DATAPATH,\"Low_cloud_2010-19.nc\")\n",
    "        netcdf_dataset_cc = Dataset(data_path,mode = 'r')\n",
    "    return netcdf_dataset_cc\n",
    "ctype = \"low\"\n",
    "netcdf_dataset_cc_low = loat_clouds(ctype)\n",
    "netcdf_dataset_cc_low.variables['time']\n",
    "time_data_cl = np.array(netcdf_dataset_cc_low.variables['time'][:])\n",
    "print(datetime.fromtimestamp(time_data_cl[0]).strftime(\"%A, %B %d, %Y %I:%M:%S\"))\n",
    "print(datetime.fromtimestamp(time_data_cl[-1]).strftime(\"%A, %B %d, %Y %I:%M:%S\"))"
   ]
  },
  {
   "cell_type": "markdown",
   "id": "57ce6bff-1bce-4c60-8c2c-59425db37d8f",
   "metadata": {},
   "source": [
    "# cloud high"
   ]
  },
  {
   "cell_type": "code",
   "execution_count": 18,
   "id": "3ce32d2b-73bc-4b3d-a78c-b1804c6cfbdd",
   "metadata": {},
   "outputs": [
    {
     "name": "stdout",
     "output_type": "stream",
     "text": [
      "Friday, January 01, 2010 03:00:00\n",
      "Wednesday, January 01, 2020 02:00:00\n"
     ]
    }
   ],
   "source": [
    "ctype = \"high\"\n",
    "netcdf_dataset_cc_high = loat_clouds(ctype)\n",
    "netcdf_dataset_cc_high.variables['time']\n",
    "time_data_ch = np.array(netcdf_dataset_cc_high.variables['time'][:])\n",
    "print(datetime.fromtimestamp(time_data_ch[0]).strftime(\"%A, %B %d, %Y %I:%M:%S\"))\n",
    "print(datetime.fromtimestamp(time_data_ch[-1]).strftime(\"%A, %B %d, %Y %I:%M:%S\"))"
   ]
  },
  {
   "cell_type": "code",
   "execution_count": 19,
   "id": "57c0fa3e-04d7-48e6-add3-a49de561abd8",
   "metadata": {},
   "outputs": [
    {
     "name": "stdout",
     "output_type": "stream",
     "text": [
      "1262304000.0\n",
      "1577833200.0\n"
     ]
    }
   ],
   "source": [
    "print(time_data_ch[0])\n",
    "print(time_data_ch[-1])"
   ]
  },
  {
   "cell_type": "markdown",
   "id": "f8ad8657-bea4-4476-a1a7-ed6b9c37c03f",
   "metadata": {},
   "source": [
    "# Cloud Meduim"
   ]
  },
  {
   "cell_type": "code",
   "execution_count": 20,
   "id": "739a039c-73b9-4bf5-8036-9887520ad42a",
   "metadata": {},
   "outputs": [
    {
     "name": "stdout",
     "output_type": "stream",
     "text": [
      "Friday, January 01, 2010 03:00:00\n",
      "Wednesday, January 01, 2020 02:00:00\n"
     ]
    }
   ],
   "source": [
    "ctype = \"meduim\"\n",
    "netcdf_dataset_cc_med = loat_clouds(ctype)\n",
    "netcdf_dataset_cc_med.variables['time']\n",
    "time_data_cm = np.array(netcdf_dataset_cc_med.variables['time'][:])\n",
    "print(datetime.fromtimestamp(time_data_cm[0]).strftime(\"%A, %B %d, %Y %I:%M:%S\"))\n",
    "print(datetime.fromtimestamp(time_data_cm[-1]).strftime(\"%A, %B %d, %Y %I:%M:%S\"))"
   ]
  },
  {
   "cell_type": "code",
   "execution_count": 21,
   "id": "70743813-dfb4-4205-a209-26918a7425d5",
   "metadata": {},
   "outputs": [
    {
     "name": "stdout",
     "output_type": "stream",
     "text": [
      "1262304000.0\n",
      "1577833200.0\n"
     ]
    }
   ],
   "source": [
    "print(time_data_cm[0])\n",
    "print(time_data_cm[-1])"
   ]
  },
  {
   "cell_type": "markdown",
   "id": "2cf1e0b6-7704-4fee-a8e3-ecfbaf7a3795",
   "metadata": {},
   "source": [
    "# GHI "
   ]
  },
  {
   "cell_type": "code",
   "execution_count": 22,
   "id": "d60623a8-21fb-4928-8fa5-6af017bd4a68",
   "metadata": {},
   "outputs": [
    {
     "data": {
      "text/plain": [
       "<class 'netCDF4._netCDF4.Variable'>\n",
       "float64 time(time)\n",
       "    standard_name: time\n",
       "    units: hours since 1-1-1 00:00:00\n",
       "    calendar: standard\n",
       "    axis: T\n",
       "unlimited dimensions: time\n",
       "current shape = (87648,)\n",
       "filling on, default _FillValue of 9.969209968386869e+36 used"
      ]
     },
     "execution_count": 22,
     "metadata": {},
     "output_type": "execute_result"
    }
   ],
   "source": [
    "data_path_GHI = os.path.join(DATAPATH,\"GHI_2010-2019.nc\") \n",
    "GHI = Dataset(data_path_GHI,mode = 'r')\n",
    "GHI.variables['time']"
   ]
  },
  {
   "cell_type": "code",
   "execution_count": 23,
   "id": "a45f22fc-6b08-4e92-a974-c77bc76696be",
   "metadata": {},
   "outputs": [
    {
     "name": "stdout",
     "output_type": "stream",
     "text": [
      "Thursday, July 23, 1970 10:50:00\n",
      "Friday, July 24, 1970 11:10:47\n"
     ]
    }
   ],
   "source": [
    "time_data_GHI = np.array(GHI.variables['time'][:])\n",
    "print(datetime.fromtimestamp(time_data_GHI[0]).strftime(\"%A, %B %d, %Y %I:%M:%S\"))\n",
    "print(datetime.fromtimestamp(time_data_GHI[-1]).strftime(\"%A, %B %d, %Y %I:%M:%S\"))"
   ]
  },
  {
   "cell_type": "code",
   "execution_count": 24,
   "id": "fb2bcf94-2d54-4ea4-90c1-a8ae3d1c29a8",
   "metadata": {},
   "outputs": [
    {
     "name": "stdout",
     "output_type": "stream",
     "text": [
      "17610600.0\n",
      "17698247.0\n"
     ]
    }
   ],
   "source": [
    "print(time_data_GHI[0])\n",
    "print(time_data_GHI[-1])"
   ]
  },
  {
   "cell_type": "markdown",
   "id": "cdb45adf-a37a-4703-a701-6bc8909d7f0f",
   "metadata": {},
   "source": [
    "# DNI "
   ]
  },
  {
   "cell_type": "code",
   "execution_count": 25,
   "id": "6549d73f-e7eb-4384-b06e-27853f64d9e2",
   "metadata": {},
   "outputs": [
    {
     "data": {
      "text/plain": [
       "<class 'netCDF4._netCDF4.Variable'>\n",
       "float64 time(time)\n",
       "    standard_name: time\n",
       "    units: hours since 1-1-1 00:00:00\n",
       "    calendar: standard\n",
       "    axis: T\n",
       "unlimited dimensions: time\n",
       "current shape = (87648,)\n",
       "filling on, default _FillValue of 9.969209968386869e+36 used"
      ]
     },
     "execution_count": 25,
     "metadata": {},
     "output_type": "execute_result"
    }
   ],
   "source": [
    "data_path_DNI = os.path.join(DATAPATH,\"DNI_2010-2019.nc\") \n",
    "DNI = Dataset(data_path_DNI,mode = 'r')\n",
    "DNI.variables['time']"
   ]
  },
  {
   "cell_type": "code",
   "execution_count": 26,
   "id": "f8971d35-7574-48e7-b7fa-43799c45c92c",
   "metadata": {},
   "outputs": [
    {
     "name": "stdout",
     "output_type": "stream",
     "text": [
      "Thursday, July 23, 1970 10:50:00\n",
      "Friday, July 24, 1970 11:10:47\n"
     ]
    }
   ],
   "source": [
    "time_data_DNI = np.array(DNI.variables['time'][:])\n",
    "print(datetime.fromtimestamp(time_data_DNI[0]).strftime(\"%A, %B %d, %Y %I:%M:%S\"))\n",
    "print(datetime.fromtimestamp(time_data_DNI[-1]).strftime(\"%A, %B %d, %Y %I:%M:%S\"))"
   ]
  },
  {
   "cell_type": "code",
   "execution_count": 27,
   "id": "66997de5-0283-4378-afc2-8de617ead72f",
   "metadata": {},
   "outputs": [
    {
     "name": "stdout",
     "output_type": "stream",
     "text": [
      "17610600.0\n",
      "17698247.0\n"
     ]
    }
   ],
   "source": [
    "print(time_data_DNI[0])\n",
    "print(time_data_DNI[-1])"
   ]
  },
  {
   "cell_type": "markdown",
   "id": "fc9b1e4e-a951-4b7c-920d-11dbfb874e6d",
   "metadata": {},
   "source": [
    "# DHI"
   ]
  },
  {
   "cell_type": "code",
   "execution_count": 28,
   "id": "7245204c-87d9-4f38-9d18-68e80258f961",
   "metadata": {},
   "outputs": [
    {
     "data": {
      "text/plain": [
       "<class 'netCDF4._netCDF4.Variable'>\n",
       "float64 time(time)\n",
       "    standard_name: time\n",
       "    units: hours since 1-1-1 00:00:00\n",
       "    calendar: standard\n",
       "    axis: T\n",
       "unlimited dimensions: time\n",
       "current shape = (87648,)\n",
       "filling on, default _FillValue of 9.969209968386869e+36 used"
      ]
     },
     "execution_count": 28,
     "metadata": {},
     "output_type": "execute_result"
    }
   ],
   "source": [
    "data_path_DHI = os.path.join(DATAPATH,\"DHI_2010-2019.nc\") \n",
    "DHI = Dataset(data_path_DHI,mode = 'r')\n",
    "DHI.variables['time']"
   ]
  },
  {
   "cell_type": "code",
   "execution_count": 29,
   "id": "affba23a-8053-47be-9ce5-5d5f3e2672f2",
   "metadata": {},
   "outputs": [
    {
     "name": "stdout",
     "output_type": "stream",
     "text": [
      "Thursday, July 23, 1970 10:50:00\n",
      "Friday, July 24, 1970 11:10:47\n"
     ]
    }
   ],
   "source": [
    "time_data_DHI = np.array(DHI.variables['time'][:])\n",
    "print(datetime.fromtimestamp(time_data_DHI[0]).strftime(\"%A, %B %d, %Y %I:%M:%S\"))\n",
    "print(datetime.fromtimestamp(time_data_DHI[-1]).strftime(\"%A, %B %d, %Y %I:%M:%S\"))"
   ]
  },
  {
   "cell_type": "code",
   "execution_count": 30,
   "id": "e7c07b55-ae8e-46e0-9e98-6bf3d9aa4cea",
   "metadata": {},
   "outputs": [
    {
     "name": "stdout",
     "output_type": "stream",
     "text": [
      "17610600.0\n",
      "17698247.0\n"
     ]
    }
   ],
   "source": [
    "print(time_data_DHI[0])\n",
    "print(time_data_DHI[-1])"
   ]
  },
  {
   "cell_type": "code",
   "execution_count": null,
   "id": "b10fd2a2-59cd-4897-9bb7-5c87af7773f6",
   "metadata": {},
   "outputs": [],
   "source": []
  }
 ],
 "metadata": {
  "kernelspec": {
   "display_name": "Python 3 (ipykernel)",
   "language": "python",
   "name": "python3"
  },
  "language_info": {
   "codemirror_mode": {
    "name": "ipython",
    "version": 3
   },
   "file_extension": ".py",
   "mimetype": "text/x-python",
   "name": "python",
   "nbconvert_exporter": "python",
   "pygments_lexer": "ipython3",
   "version": "3.9.12"
  }
 },
 "nbformat": 4,
 "nbformat_minor": 5
}
