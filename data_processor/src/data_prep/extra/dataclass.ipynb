{
 "cells": [
  {
   "cell_type": "code",
   "execution_count": 1,
   "id": "e21d9499-9e0d-4c00-8ae5-0e7b92591616",
   "metadata": {},
   "outputs": [
    {
     "name": "stderr",
     "output_type": "stream",
     "text": [
      "/home/resifis/anaconda3/envs/kaustenv/lib/python3.9/site-packages/tqdm/auto.py:22: TqdmWarning: IProgress not found. Please update jupyter and ipywidgets. See https://ipywidgets.readthedocs.io/en/stable/user_install.html\n",
      "  from .autonotebook import tqdm as notebook_tqdm\n"
     ]
    }
   ],
   "source": [
    "from netCDF4 import Dataset\n",
    "from skimage import filters\n",
    "import torch.nn as nn\n",
    "import netCDF4 as nc\n",
    "import pandas as pd\n",
    "import numpy as np\n",
    "import random\n",
    "import torch\n",
    "import os\n",
    "import matplotlib.pyplot as plt\n",
    "from models.forecastors.GeneralUnet.general_unet import *\n",
    "from models.forecastors.utils.loss import * \n",
    "import torch.optim as optim\n",
    "from models.utils.configtrain import *\n",
    "from data_prep.config.env import *\n",
    "from skimage.transform import rotate"
   ]
  },
  {
   "cell_type": "code",
   "execution_count": 2,
   "id": "8665036d-2cc3-4d0d-9f05-7a505d5cc1e8",
   "metadata": {},
   "outputs": [],
   "source": [
    "def setup_seed(seed):\n",
    "    np.random.seed(seed)\n",
    "    random.seed(seed)\n",
    "    torch.manual_seed(seed)  # cpu\n",
    "    torch.cuda.manual_seed_all(seed)  \n",
    "    torch.backends.cudnn.deterministic = True  \n",
    "    torch.backends.cudnn.benchmark = True \n",
    "setup_seed(30)"
   ]
  },
  {
   "cell_type": "code",
   "execution_count": 3,
   "id": "1de9b0f6-89f9-489d-a56a-9ab70ac77396",
   "metadata": {},
   "outputs": [],
   "source": [
    "import matplotlib.pyplot as plt\n",
    "from netCDF4 import Dataset\n",
    "from skimage import filters\n",
    "import torch.nn as nn\n",
    "import netCDF4 as nc\n",
    "import pandas as pd\n",
    "import numpy as np\n",
    "import random\n",
    "import torch\n",
    "import os\n",
    "from skimage import filters\n",
    "from skimage.util import random_noise\n",
    "\n",
    "\n",
    "DATAPATH = os.environ.get(\"DATAPATH\",\"/home/resifis/Desktop/kaustcode/Packages/processed_clean_data\")\n",
    "\n",
    "\n",
    "\n",
    "class Dataset2D():\n",
    "    def __init__(self,solar_type,data_type = \"Train\"):\n",
    "        self.solar_type  = \"DHI\"\n",
    "        self.hcloud = Dataset2D._read_data(\"hcloud\")\n",
    "        self.mcloud = Dataset2D._read_data(\"mcloud\")\n",
    "        self.lcloud = Dataset2D._read_data(\"lcloud\")\n",
    "        self.water_vapor = Dataset2D._read_data(\"water_vapor\")\n",
    "        self.ozone = Dataset2D._read_data(\"ozone\")\n",
    "        self.aerosol = Dataset2D._read_data(\"aerosol\")\n",
    "        self.len = 48222\n",
    "        self.solar_type = solar_type\n",
    "        self.target_data = Dataset2D._read_target(self.solar_type)\n",
    "        self.output = dict()\n",
    "        self.eps = 1e-5\n",
    "        \n",
    "    \n",
    "    @staticmethod\n",
    "    def _read_data(data_type):\n",
    "        if data_type == \"hcloud\":\n",
    "            hcloud = Dataset(os.path.join(DATAPATH,\"hcloud.nc\"))\n",
    "            return hcloud\n",
    "        elif data_type == \"mcloud\":\n",
    "            mcloud = Dataset(os.path.join(DATAPATH,\"mcloud.nc\"))\n",
    "            return mcloud\n",
    "        elif data_type == \"lcloud\":\n",
    "            lcloud = Dataset(os.path.join(DATAPATH,\"lcloud.nc\"))\n",
    "            return lcloud\n",
    "        elif data_type == \"water_vapor\":\n",
    "            water_vapor = Dataset(os.path.join(DATAPATH,\"water_vapor_new.nc\"))\n",
    "            return water_vapor\n",
    "        elif data_type == \"ozone\":\n",
    "            ozone = Dataset(os.path.join(DATAPATH,\"ozone.nc\"))\n",
    "            return ozone\n",
    "        else:\n",
    "            aerosol = Dataset(os.path.join(DATAPATH,\"aod.nc\"))\n",
    "            return aerosol\n",
    "    @staticmethod\n",
    "    def _read_target(target_type):\n",
    "        if target_type == \"GHI\":\n",
    "            GHI = Dataset(os.path.join(DATAPATH,\"ghi.nc\"))\n",
    "            return GHI\n",
    "        elif target_type == \"DHI\":\n",
    "            DHI = Dataset(os.path.join(DATAPATH,\"dhi.nc\"))\n",
    "            return DHI\n",
    "        else :\n",
    "            DNI = Dataset(os.path.join(DATAPATH,\"dni.nc\"))\n",
    "            return DNI\n",
    "        \n",
    "        \n",
    "    @staticmethod\n",
    "    def _filtering(list_data):\n",
    "        data = list_data.copy()\n",
    "        list_tensors = []\n",
    "        for i in range(len(data)):\n",
    "            arr = filters.sobel(np.array(data[i]))\n",
    "            list_tensors.append(torch.tensor(arr,dtype = torch.float))\n",
    "        return list_tensors\n",
    "    @staticmethod\n",
    "    def _augment_data(list_data):\n",
    "        train_data = []\n",
    "        for i in range(len(list_data)):\n",
    "            arr = np.array(list_data[i])\n",
    "            train_data.append(arr)\n",
    "            train_data.append(rotate(arr, angle=45, mode = 'wrap'))\n",
    "            train_data.append(np.fliplr(arr))\n",
    "            train_data.append(np.flipud(arr))\n",
    "            train_data.append(random_noise(arr,var=0.2**2))\n",
    "            \n",
    "        for i in range(len(train_data)):\n",
    "            train_data[i] = torch.tensor(np.array(train_data[i]),dtype = torch.float).unsqueeze(0)\n",
    "\n",
    "        out = torch.cat(train_data,dim = 0)\n",
    "        return out \n",
    "        \n",
    "    \n",
    "    def _get_tensors(self,item):\n",
    "        all_data = []\n",
    "        data_hcloud =  torch.tensor(self.hcloud.variables[\"cc\"][item,:,:],dtype = torch.float)\n",
    "        data_mcloud =  torch.tensor(self.mcloud.variables[\"cc\"][item,:,:],dtype = torch.float)\n",
    "        data_lcloud =  torch.tensor(self.lcloud.variables[\"cc\"][item,:,:],dtype = torch.float)\n",
    "        data_aerosol = torch.tensor(self.aerosol.variables[\"aod5503d\"][item,:,:],dtype = torch.float)\n",
    "        data_ozone =   torch.tensor(self.ozone.variables[\"o3rad\"][item,:,:],dtype = torch.float)\n",
    "        data_water_vapor = torch.tensor(self.water_vapor.variables[\"qvapor\"][item,:,:],dtype = torch.float)\n",
    "        \n",
    "        \n",
    "        \n",
    "        \n",
    "        all_data.extend([torch.flip(data_hcloud,dims = [0])/(data_hcloud.max()+self.eps),\n",
    "                         torch.flip(data_mcloud,dims = [0])/(data_mcloud.max()+self.eps),\n",
    "                         torch.flip(data_lcloud,dims = [0])/(data_lcloud.max()+self.eps),\n",
    "                         torch.flip(data_aerosol,dims = [0])/(data_aerosol.max()+self.eps),\n",
    "                         torch.flip(data_ozone,dims = [0])/(data_ozone.max()+self.eps),\n",
    "                         torch.flip(data_water_vapor,dims = [0])/(data_water_vapor.max()+self.eps),\n",
    "                        ])\n",
    "        final_data = []\n",
    "        final_data = Dataset2D._augment_data(all_data)\n",
    "            \n",
    "        #filtered = Dataset2D._filtering(all_data)\n",
    "        #all_data.extend(filtered)\n",
    "        target = torch.tensor(self.target_data.variables[self.solar_type.lower()][item],dtype = torch.float)\n",
    "        target = torch.flip(target,dims = [0])\n",
    "        return final_data,target\n",
    "        \n",
    "    def __len__(self):\n",
    "        return self.len\n",
    "    \n",
    "    \n",
    "    def __getitem__(self,item):\n",
    "        out = dict()\n",
    "        all_data,target = self._get_tensors(item)\n",
    "        out['data'] = all_data\n",
    "        out['target'] = target/target.max()\n",
    "        return out\n",
    "        "
   ]
  },
  {
   "cell_type": "code",
   "execution_count": 4,
   "id": "b5a8b10b-2020-4bf3-8299-fe657c2e270b",
   "metadata": {},
   "outputs": [],
   "source": [
    "DataSet = Dataset2D(\"GHI\")"
   ]
  },
  {
   "cell_type": "code",
   "execution_count": 5,
   "id": "76b59a80-9184-4e56-83f5-010b485857e1",
   "metadata": {},
   "outputs": [],
   "source": [
    "input_features = 30\n",
    "output_feature = 1\n",
    "model = UNet2D(in_channels = input_features,\n",
    "               out_channels = output_feature,\n",
    "            )\n",
    "\n",
    "def init_weights(m):\n",
    "    if isinstance(m,nn.Conv2d):\n",
    "        torch.nn.init.normal_(m.weight)\n",
    "        m.bias.data.fill_(1)\n",
    "    if isinstance(m,nn.ConvTranspose2d):\n",
    "        torch.nn.init.normal_(m.weight)\n",
    "        m.bias.data.fill_(1)\n",
    "    if isinstance(m,nn.BatchNorm2d):\n",
    "        torch.nn.init.normal_(m.weight)\n",
    "        m.bias.data.fill_(1)\n",
    "    if isinstance(m, nn.Linear):\n",
    "        torch.nn.init.xavier_uniform(m.weight)\n",
    "        m.bias.data.fill_(1)\n",
    "\n",
    "criterion = nn.MSELoss()\n",
    "device = \"cuda:0\" if torch.cuda.is_available() else \"cpu\"\n",
    "criterion = criterion.to(device)\n",
    "model = model.to(device)\n",
    "optimizer = optim.SGD(model.parameters(), lr=0.001)\n",
    "scheduler = torch.optim.lr_scheduler.ReduceLROnPlateau(optimizer,\n",
    "                                                       factor = 0.2,\n",
    "                                                       patience = 10,\n",
    "                                                       verbose = True)\n",
    "\n",
    "shuffle_trainloader = False\n",
    "train_batch_size = 6\n",
    "shuffle_validloader = False\n",
    "valid_batch_size = 6\n",
    "epochs = 100\n",
    "verbose = True"
   ]
  },
  {
   "cell_type": "code",
   "execution_count": 6,
   "id": "484bfca1-6c04-40e8-a200-f510964e0511",
   "metadata": {},
   "outputs": [
    {
     "data": {
      "text/plain": [
       "MSELoss()"
      ]
     },
     "execution_count": 6,
     "metadata": {},
     "output_type": "execute_result"
    }
   ],
   "source": [
    "criterion"
   ]
  },
  {
   "cell_type": "code",
   "execution_count": 7,
   "id": "c48086cf-1b58-4024-bc62-5cad28f78fde",
   "metadata": {
    "tags": []
   },
   "outputs": [],
   "source": [
    "from tqdm import tqdm\n",
    "import torch\n",
    "import os\n",
    "from tqdm import tqdm\n",
    "import torch.nn as nn\n",
    "import torchvision\n",
    "import neptune.new as neptune\n",
    "from neptune.new.types import File\n",
    "import torch.nn.init as weight_init\n",
    "from torch.utils.data import RandomSampler\n",
    "import matplotlib.pyplot as plt\n",
    "plt.style.use('classic')\n",
    "\n",
    "\n",
    "\n",
    "\n",
    "\n",
    "MODELS_WEIGHTS = os.environ.get(\"MODELS_WEIGHTS\",\"/home/resifis/Desktop/kaustcode/Packages/weights2d\")\n",
    "\n",
    "\n",
    "class AverageMeter:\n",
    "    \"\"\"\n",
    "    Computes and stores the average and current value\n",
    "    \"\"\"\n",
    "\n",
    "    def __init__(self):\n",
    "        self.reset()\n",
    "\n",
    "    def reset(self):\n",
    "        self.val = 0\n",
    "        self.avg = 0\n",
    "        self.sum = 0\n",
    "        self.count = 0\n",
    "\n",
    "    def update(self, val, n=1):\n",
    "        self.val = val\n",
    "        self.sum += val * n\n",
    "        self.count += n\n",
    "        self.avg = self.sum / self.count\n",
    "\n",
    "\n",
    "class Training():\n",
    "    def __init__(self):\n",
    "        self.aa = 1\n",
    "        \n",
    "    def _initialize_weights(self,net):\n",
    "        for name, param in net.named_parameters(): \n",
    "            weight_init.normal_(param)\n",
    "        \n",
    "    def train_fn(self,model,train_loader):\n",
    "        model.train()\n",
    "        \n",
    "        tr_loss = 0\n",
    "        counter = 0\n",
    "        losses = AverageMeter()\n",
    "        tqt = tqdm(enumerate(train_loader),total = len(train_loader))\n",
    "        for index,train_batch in tqt:\n",
    "            list_sparse = []\n",
    "            data = train_batch[\"data\"].to(device)\n",
    "            target = train_batch[\"target\"].to(device)\n",
    "            pred_target = model(data)\n",
    "            pred_target = pred_target.squeeze(1)\n",
    "            train_loss = criterion(pred_target,target)\n",
    "            optimizer.zero_grad()\n",
    "            train_loss.backward()\n",
    "            optimizer.step()\n",
    "            tr_loss += train_loss.item()        \n",
    "            counter = counter + 1\n",
    "            losses.update(train_loss.item(),pred_target.size(0))\n",
    "            tqt.set_postfix(Loss = losses.avg, Batch_number = index )\n",
    "        return tr_loss/counter\n",
    "\n",
    "    def valid_fn(self,model,validation_loader):\n",
    "        model.eval()\n",
    "        val_loss = 0\n",
    "        counter = 0\n",
    "        losses = AverageMeter()\n",
    "        tqt = tqdm(enumerate(validation_loader),total = len(validation_loader))\n",
    "        with torch.no_grad():\n",
    "            for index, valid_batch in tqt :\n",
    "                list_sparse = []\n",
    "                data = valid_batch[\"data\"].to(device)\n",
    "                target = valid_batch[\"target\"].to(device)\n",
    "                optimizer.zero_grad()\n",
    "                pred_target = model(data)\n",
    "                pred_target = pred_target.squeeze(1)\n",
    "                validation_loss = criterion(pred_target,target)\n",
    "                val_loss += validation_loss.item()        \n",
    "                counter = counter + 1\n",
    "                losses.update(validation_loss.item(),pred_target.size(0))\n",
    "                tqt.set_postfix(loss = losses.avg, batch_number = index)\n",
    "        return losses.avg\n",
    "    \n",
    "    \n",
    "    \n",
    "    @staticmethod\n",
    "    def checkpoints(epoch,model,optimizer,loss):\n",
    "        path = os.path.join(MODELS_WEIGHTS,f\"epoch_{epoch}.pt\")\n",
    "        torch.save({\n",
    "                'epoch': epoch,\n",
    "                'model_state_dict': model.state_dict(),\n",
    "                'optimizer_state_dict': optimizer.state_dict(),\n",
    "                'loss': loss,\n",
    "                }, path)\n",
    "        \n",
    "    def get_dataloader(self,train_dataset,valid_dataset):\n",
    "\n",
    "        train_sampler = RandomSampler(train_dataset,replacement = True,num_samples = 1500)\n",
    "        valid_sampler = RandomSampler(valid_dataset,replacement = True,num_samples = 1000)\n",
    "\n",
    "        train_data_loader = torch.utils.data.DataLoader(train_dataset,\n",
    "                                                        shuffle = shuffle_trainloader,\n",
    "                                                        batch_size = train_batch_size,\n",
    "                                                        sampler = train_sampler,\n",
    "                                                       )\n",
    "        valid_data_loader = torch.utils.data.DataLoader(valid_dataset,\n",
    "                                                        shuffle = shuffle_validloader,\n",
    "                                                        batch_size = valid_batch_size,\n",
    "                                                        sampler = valid_sampler,\n",
    "                                                       )\n",
    "        return train_data_loader,valid_data_loader\n",
    "        \n",
    "    def fit(self,model,train_dataset,valid_dataset):\n",
    "        train_loss = []\n",
    "        valid_loss = []\n",
    "        best = 5000\n",
    "        self._initialize_weights(model)\n",
    "        model = model.apply(init_weights)\n",
    "        for epoch in range(epochs):\n",
    "            train_data_loader,valid_data_loader = self.get_dataloader(train_dataset,valid_dataset)\n",
    "            if verbose :\n",
    "                print(f\".........EPOCH {epoch}........\")\n",
    "            tr_loss = self.train_fn(model,train_data_loader)\n",
    "            train_loss.append(tr_loss)\n",
    "            if verbose :\n",
    "                print(f\".........Train Loss = {tr_loss}........\")\n",
    "            val_loss = self.valid_fn(model,valid_data_loader)\n",
    "            valid_loss.append(val_loss)\n",
    "            Training.checkpoints(epoch,model,optimizer,val_loss)\n",
    "            scheduler.step(val_loss)\n",
    "            if verbose:\n",
    "                print(f\"...........Validation Loss = {val_loss}.......\")\n",
    "\n",
    "            if val_loss < best :\n",
    "                best = val_loss\n",
    "                patience = 0\n",
    "            else:\n",
    "                print(\"Score is not improving with patient = \",patience)\n",
    "                patience +=1\n",
    "\n",
    "            if patience >= epochs:\n",
    "                print(f\"Early Stopping on Epoch {epoch}\")\n",
    "                print(f\"Best Loss = {best}\")\n",
    "                break\n",
    "                \n",
    "        \n",
    "        PATH = os.path.join(MODELS_WEIGHTS,\"model_2d.pth\")\n",
    "        torch.save(model.state_dict(),PATH)\n",
    "        model.load_state_dict(torch.load(PATH))"
   ]
  },
  {
   "cell_type": "code",
   "execution_count": 8,
   "id": "0e97a978-bd0c-4450-a075-56861b319e1b",
   "metadata": {
    "tags": []
   },
   "outputs": [
    {
     "name": "stdout",
     "output_type": "stream",
     "text": [
      ".........EPOCH 0........\n"
     ]
    },
    {
     "name": "stderr",
     "output_type": "stream",
     "text": [
      "100%|███████████| 250/250 [03:03<00:00,  1.36it/s, Batch_number=249, Loss=0.207]\n"
     ]
    },
    {
     "name": "stdout",
     "output_type": "stream",
     "text": [
      ".........Train Loss = 0.20659096005931496........\n"
     ]
    },
    {
     "name": "stderr",
     "output_type": "stream",
     "text": [
      "100%|███████████| 167/167 [01:45<00:00,  1.58it/s, batch_number=166, loss=0.189]\n"
     ]
    },
    {
     "name": "stdout",
     "output_type": "stream",
     "text": [
      "...........Validation Loss = 0.1888845816962421.......\n",
      ".........EPOCH 1........\n"
     ]
    },
    {
     "name": "stderr",
     "output_type": "stream",
     "text": [
      "100%|███████████| 250/250 [02:46<00:00,  1.50it/s, Batch_number=249, Loss=0.208]\n"
     ]
    },
    {
     "name": "stdout",
     "output_type": "stream",
     "text": [
      ".........Train Loss = 0.20836136659234764........\n"
     ]
    },
    {
     "name": "stderr",
     "output_type": "stream",
     "text": [
      "100%|███████████| 167/167 [01:41<00:00,  1.64it/s, batch_number=166, loss=0.199]\n"
     ]
    },
    {
     "name": "stdout",
     "output_type": "stream",
     "text": [
      "...........Validation Loss = 0.19888990359939634.......\n",
      "Score is not improving with patient =  0\n",
      ".........EPOCH 2........\n"
     ]
    },
    {
     "name": "stderr",
     "output_type": "stream",
     "text": [
      "100%|███████████| 250/250 [02:46<00:00,  1.50it/s, Batch_number=249, Loss=0.215]\n"
     ]
    },
    {
     "name": "stdout",
     "output_type": "stream",
     "text": [
      ".........Train Loss = 0.2147007873132825........\n"
     ]
    },
    {
     "name": "stderr",
     "output_type": "stream",
     "text": [
      "100%|███████████| 167/167 [01:40<00:00,  1.66it/s, batch_number=166, loss=0.195]\n"
     ]
    },
    {
     "name": "stdout",
     "output_type": "stream",
     "text": [
      "...........Validation Loss = 0.1950716391466558.......\n",
      "Score is not improving with patient =  1\n",
      ".........EPOCH 3........\n"
     ]
    },
    {
     "name": "stderr",
     "output_type": "stream",
     "text": [
      "100%|███████████| 250/250 [02:41<00:00,  1.55it/s, Batch_number=249, Loss=0.201]\n"
     ]
    },
    {
     "name": "stdout",
     "output_type": "stream",
     "text": [
      ".........Train Loss = 0.20050641327351332........\n"
     ]
    },
    {
     "name": "stderr",
     "output_type": "stream",
     "text": [
      "100%|███████████| 167/167 [01:36<00:00,  1.73it/s, batch_number=166, loss=0.208]\n"
     ]
    },
    {
     "name": "stdout",
     "output_type": "stream",
     "text": [
      "...........Validation Loss = 0.20784259589388968.......\n",
      "Score is not improving with patient =  2\n",
      ".........EPOCH 4........\n"
     ]
    },
    {
     "name": "stderr",
     "output_type": "stream",
     "text": [
      "100%|███████████| 250/250 [02:36<00:00,  1.60it/s, Batch_number=249, Loss=0.203]\n"
     ]
    },
    {
     "name": "stdout",
     "output_type": "stream",
     "text": [
      ".........Train Loss = 0.20305439301580192........\n"
     ]
    },
    {
     "name": "stderr",
     "output_type": "stream",
     "text": [
      "100%|███████████| 167/167 [01:33<00:00,  1.78it/s, batch_number=166, loss=0.217]\n"
     ]
    },
    {
     "name": "stdout",
     "output_type": "stream",
     "text": [
      "...........Validation Loss = 0.21729643580317498.......\n",
      "Score is not improving with patient =  3\n",
      ".........EPOCH 5........\n"
     ]
    },
    {
     "name": "stderr",
     "output_type": "stream",
     "text": [
      "100%|███████████| 250/250 [02:31<00:00,  1.65it/s, Batch_number=249, Loss=0.199]\n"
     ]
    },
    {
     "name": "stdout",
     "output_type": "stream",
     "text": [
      ".........Train Loss = 0.19912981867045165........\n"
     ]
    },
    {
     "name": "stderr",
     "output_type": "stream",
     "text": [
      "100%|█████████████| 167/167 [01:29<00:00,  1.86it/s, batch_number=166, loss=0.2]\n"
     ]
    },
    {
     "name": "stdout",
     "output_type": "stream",
     "text": [
      "...........Validation Loss = 0.19990388847142457.......\n",
      "Score is not improving with patient =  4\n",
      ".........EPOCH 6........\n"
     ]
    },
    {
     "name": "stderr",
     "output_type": "stream",
     "text": [
      "100%|███████████| 250/250 [02:29<00:00,  1.67it/s, Batch_number=249, Loss=0.212]\n"
     ]
    },
    {
     "name": "stdout",
     "output_type": "stream",
     "text": [
      ".........Train Loss = 0.21175327670946717........\n"
     ]
    },
    {
     "name": "stderr",
     "output_type": "stream",
     "text": [
      "100%|███████████| 167/167 [01:28<00:00,  1.88it/s, batch_number=166, loss=0.208]\n"
     ]
    },
    {
     "name": "stdout",
     "output_type": "stream",
     "text": [
      "...........Validation Loss = 0.20844895589351653.......\n",
      "Score is not improving with patient =  5\n",
      ".........EPOCH 7........\n"
     ]
    },
    {
     "name": "stderr",
     "output_type": "stream",
     "text": [
      "100%|███████████| 250/250 [02:27<00:00,  1.70it/s, Batch_number=249, Loss=0.204]\n"
     ]
    },
    {
     "name": "stdout",
     "output_type": "stream",
     "text": [
      ".........Train Loss = 0.204244311273098........\n"
     ]
    },
    {
     "name": "stderr",
     "output_type": "stream",
     "text": [
      "100%|████████████| 167/167 [01:26<00:00,  1.93it/s, batch_number=166, loss=0.19]\n"
     ]
    },
    {
     "name": "stdout",
     "output_type": "stream",
     "text": [
      "...........Validation Loss = 0.18985690394788982.......\n",
      "Score is not improving with patient =  6\n",
      ".........EPOCH 8........\n"
     ]
    },
    {
     "name": "stderr",
     "output_type": "stream",
     "text": [
      "100%|████████████| 250/250 [02:23<00:00,  1.74it/s, Batch_number=249, Loss=0.21]\n"
     ]
    },
    {
     "name": "stdout",
     "output_type": "stream",
     "text": [
      ".........Train Loss = 0.21044817654788495........\n"
     ]
    },
    {
     "name": "stderr",
     "output_type": "stream",
     "text": [
      "100%|███████████| 167/167 [01:23<00:00,  2.01it/s, batch_number=166, loss=0.206]\n"
     ]
    },
    {
     "name": "stdout",
     "output_type": "stream",
     "text": [
      "...........Validation Loss = 0.20647568923979998.......\n",
      "Score is not improving with patient =  7\n",
      ".........EPOCH 9........\n"
     ]
    },
    {
     "name": "stderr",
     "output_type": "stream",
     "text": [
      "100%|███████████| 250/250 [02:20<00:00,  1.77it/s, Batch_number=249, Loss=0.215]\n"
     ]
    },
    {
     "name": "stdout",
     "output_type": "stream",
     "text": [
      ".........Train Loss = 0.21464631025493144........\n"
     ]
    },
    {
     "name": "stderr",
     "output_type": "stream",
     "text": [
      "100%|███████████| 167/167 [01:24<00:00,  1.97it/s, batch_number=166, loss=0.212]\n"
     ]
    },
    {
     "name": "stdout",
     "output_type": "stream",
     "text": [
      "...........Validation Loss = 0.21157229620218276.......\n",
      "Score is not improving with patient =  8\n",
      ".........EPOCH 10........\n"
     ]
    },
    {
     "name": "stderr",
     "output_type": "stream",
     "text": [
      "100%|███████████| 250/250 [02:18<00:00,  1.81it/s, Batch_number=249, Loss=0.206]\n"
     ]
    },
    {
     "name": "stdout",
     "output_type": "stream",
     "text": [
      ".........Train Loss = 0.20577782045677304........\n"
     ]
    },
    {
     "name": "stderr",
     "output_type": "stream",
     "text": [
      "100%|███████████| 167/167 [01:22<00:00,  2.03it/s, batch_number=166, loss=0.206]\n"
     ]
    },
    {
     "name": "stdout",
     "output_type": "stream",
     "text": [
      "...........Validation Loss = 0.20598865485936405.......\n",
      "Score is not improving with patient =  9\n",
      ".........EPOCH 11........\n"
     ]
    },
    {
     "name": "stderr",
     "output_type": "stream",
     "text": [
      "100%|███████████| 250/250 [02:15<00:00,  1.85it/s, Batch_number=249, Loss=0.217]\n"
     ]
    },
    {
     "name": "stdout",
     "output_type": "stream",
     "text": [
      ".........Train Loss = 0.2165208538249135........\n"
     ]
    },
    {
     "name": "stderr",
     "output_type": "stream",
     "text": [
      "100%|███████████| 167/167 [01:19<00:00,  2.10it/s, batch_number=166, loss=0.207]\n"
     ]
    },
    {
     "name": "stdout",
     "output_type": "stream",
     "text": [
      "Epoch 00012: reducing learning rate of group 0 to 2.0000e-04.\n",
      "...........Validation Loss = 0.20672191156819464.......\n",
      "Score is not improving with patient =  10\n",
      ".........EPOCH 12........\n"
     ]
    },
    {
     "name": "stderr",
     "output_type": "stream",
     "text": [
      "100%|███████████| 250/250 [02:16<00:00,  1.84it/s, Batch_number=249, Loss=0.193]\n"
     ]
    },
    {
     "name": "stdout",
     "output_type": "stream",
     "text": [
      ".........Train Loss = 0.19254700461775065........\n"
     ]
    },
    {
     "name": "stderr",
     "output_type": "stream",
     "text": [
      "100%|███████████| 167/167 [01:17<00:00,  2.14it/s, batch_number=166, loss=0.196]\n"
     ]
    },
    {
     "name": "stdout",
     "output_type": "stream",
     "text": [
      "...........Validation Loss = 0.19589164373651147.......\n",
      "Score is not improving with patient =  11\n",
      ".........EPOCH 13........\n"
     ]
    },
    {
     "name": "stderr",
     "output_type": "stream",
     "text": [
      "100%|███████████| 250/250 [02:10<00:00,  1.91it/s, Batch_number=249, Loss=0.206]\n"
     ]
    },
    {
     "name": "stdout",
     "output_type": "stream",
     "text": [
      ".........Train Loss = 0.20597228361666203........\n"
     ]
    },
    {
     "name": "stderr",
     "output_type": "stream",
     "text": [
      "100%|███████████| 167/167 [01:16<00:00,  2.19it/s, batch_number=166, loss=0.202]\n"
     ]
    },
    {
     "name": "stdout",
     "output_type": "stream",
     "text": [
      "...........Validation Loss = 0.20211016418039798.......\n",
      "Score is not improving with patient =  12\n",
      ".........EPOCH 14........\n"
     ]
    },
    {
     "name": "stderr",
     "output_type": "stream",
     "text": [
      "100%|███████████| 250/250 [02:08<00:00,  1.94it/s, Batch_number=249, Loss=0.203]\n"
     ]
    },
    {
     "name": "stdout",
     "output_type": "stream",
     "text": [
      ".........Train Loss = 0.20325257228314877........\n"
     ]
    },
    {
     "name": "stderr",
     "output_type": "stream",
     "text": [
      "100%|████████████| 167/167 [01:12<00:00,  2.31it/s, batch_number=166, loss=0.19]\n"
     ]
    },
    {
     "name": "stdout",
     "output_type": "stream",
     "text": [
      "...........Validation Loss = 0.19004472744464873.......\n",
      "Score is not improving with patient =  13\n",
      ".........EPOCH 15........\n"
     ]
    },
    {
     "name": "stderr",
     "output_type": "stream",
     "text": [
      "100%|███████████| 250/250 [02:04<00:00,  2.00it/s, Batch_number=249, Loss=0.198]\n"
     ]
    },
    {
     "name": "stdout",
     "output_type": "stream",
     "text": [
      ".........Train Loss = 0.19805814238637687........\n"
     ]
    },
    {
     "name": "stderr",
     "output_type": "stream",
     "text": [
      "100%|███████████| 167/167 [01:14<00:00,  2.24it/s, batch_number=166, loss=0.185]\n"
     ]
    },
    {
     "name": "stdout",
     "output_type": "stream",
     "text": [
      "...........Validation Loss = 0.18497660586610437.......\n",
      ".........EPOCH 16........\n"
     ]
    },
    {
     "name": "stderr",
     "output_type": "stream",
     "text": [
      "100%|███████████| 250/250 [02:08<00:00,  1.95it/s, Batch_number=249, Loss=0.217]\n"
     ]
    },
    {
     "name": "stdout",
     "output_type": "stream",
     "text": [
      ".........Train Loss = 0.21650794256478548........\n"
     ]
    },
    {
     "name": "stderr",
     "output_type": "stream",
     "text": [
      "100%|███████████| 167/167 [01:13<00:00,  2.27it/s, batch_number=166, loss=0.208]\n"
     ]
    },
    {
     "name": "stdout",
     "output_type": "stream",
     "text": [
      "...........Validation Loss = 0.207865909807384.......\n",
      "Score is not improving with patient =  0\n",
      ".........EPOCH 17........\n"
     ]
    },
    {
     "name": "stderr",
     "output_type": "stream",
     "text": [
      "100%|███████████| 250/250 [02:04<00:00,  2.01it/s, Batch_number=249, Loss=0.199]\n"
     ]
    },
    {
     "name": "stdout",
     "output_type": "stream",
     "text": [
      ".........Train Loss = 0.19933405979722738........\n"
     ]
    },
    {
     "name": "stderr",
     "output_type": "stream",
     "text": [
      "100%|███████████| 167/167 [01:12<00:00,  2.31it/s, batch_number=166, loss=0.219]\n"
     ]
    },
    {
     "name": "stdout",
     "output_type": "stream",
     "text": [
      "...........Validation Loss = 0.21899074101820587.......\n",
      "Score is not improving with patient =  1\n",
      ".........EPOCH 18........\n"
     ]
    },
    {
     "name": "stderr",
     "output_type": "stream",
     "text": [
      "100%|███████████| 250/250 [02:03<00:00,  2.02it/s, Batch_number=249, Loss=0.218]\n"
     ]
    },
    {
     "name": "stdout",
     "output_type": "stream",
     "text": [
      ".........Train Loss = 0.21766643702983857........\n"
     ]
    },
    {
     "name": "stderr",
     "output_type": "stream",
     "text": [
      "100%|███████████| 167/167 [01:11<00:00,  2.35it/s, batch_number=166, loss=0.215]\n"
     ]
    },
    {
     "name": "stdout",
     "output_type": "stream",
     "text": [
      "...........Validation Loss = 0.2151039811447263.......\n",
      "Score is not improving with patient =  2\n",
      ".........EPOCH 19........\n"
     ]
    },
    {
     "name": "stderr",
     "output_type": "stream",
     "text": [
      "100%|████████████| 250/250 [01:59<00:00,  2.09it/s, Batch_number=249, Loss=0.21]\n"
     ]
    },
    {
     "name": "stdout",
     "output_type": "stream",
     "text": [
      ".........Train Loss = 0.21033106391131878........\n"
     ]
    },
    {
     "name": "stderr",
     "output_type": "stream",
     "text": [
      "100%|███████████| 167/167 [01:12<00:00,  2.31it/s, batch_number=166, loss=0.202]\n"
     ]
    },
    {
     "name": "stdout",
     "output_type": "stream",
     "text": [
      "...........Validation Loss = 0.2019331434480846.......\n",
      "Score is not improving with patient =  3\n",
      ".........EPOCH 20........\n"
     ]
    },
    {
     "name": "stderr",
     "output_type": "stream",
     "text": [
      "100%|███████████| 250/250 [01:58<00:00,  2.10it/s, Batch_number=249, Loss=0.212]\n"
     ]
    },
    {
     "name": "stdout",
     "output_type": "stream",
     "text": [
      ".........Train Loss = 0.2117260435372591........\n"
     ]
    },
    {
     "name": "stderr",
     "output_type": "stream",
     "text": [
      "100%|███████████| 167/167 [01:10<00:00,  2.37it/s, batch_number=166, loss=0.207]\n"
     ]
    },
    {
     "name": "stdout",
     "output_type": "stream",
     "text": [
      "...........Validation Loss = 0.2065820888392627.......\n",
      "Score is not improving with patient =  4\n",
      ".........EPOCH 21........\n"
     ]
    },
    {
     "name": "stderr",
     "output_type": "stream",
     "text": [
      "100%|███████████| 250/250 [01:59<00:00,  2.09it/s, Batch_number=249, Loss=0.199]\n"
     ]
    },
    {
     "name": "stdout",
     "output_type": "stream",
     "text": [
      ".........Train Loss = 0.19871078706532716........\n"
     ]
    },
    {
     "name": "stderr",
     "output_type": "stream",
     "text": [
      "100%|███████████| 167/167 [01:08<00:00,  2.45it/s, batch_number=166, loss=0.218]\n"
     ]
    },
    {
     "name": "stdout",
     "output_type": "stream",
     "text": [
      "...........Validation Loss = 0.21786674118973315.......\n",
      "Score is not improving with patient =  5\n",
      ".........EPOCH 22........\n"
     ]
    },
    {
     "name": "stderr",
     "output_type": "stream",
     "text": [
      "100%|███████████| 250/250 [01:55<00:00,  2.16it/s, Batch_number=249, Loss=0.202]\n"
     ]
    },
    {
     "name": "stdout",
     "output_type": "stream",
     "text": [
      ".........Train Loss = 0.20217561737447978........\n"
     ]
    },
    {
     "name": "stderr",
     "output_type": "stream",
     "text": [
      "100%|███████████| 167/167 [01:08<00:00,  2.44it/s, batch_number=166, loss=0.224]\n"
     ]
    },
    {
     "name": "stdout",
     "output_type": "stream",
     "text": [
      "...........Validation Loss = 0.2239291561730206.......\n",
      "Score is not improving with patient =  6\n",
      ".........EPOCH 23........\n"
     ]
    },
    {
     "name": "stderr",
     "output_type": "stream",
     "text": [
      "100%|███████████| 250/250 [01:52<00:00,  2.22it/s, Batch_number=249, Loss=0.211]\n"
     ]
    },
    {
     "name": "stdout",
     "output_type": "stream",
     "text": [
      ".........Train Loss = 0.21093120017647743........\n"
     ]
    },
    {
     "name": "stderr",
     "output_type": "stream",
     "text": [
      "100%|███████████| 167/167 [01:05<00:00,  2.55it/s, batch_number=166, loss=0.218]\n"
     ]
    },
    {
     "name": "stdout",
     "output_type": "stream",
     "text": [
      "...........Validation Loss = 0.21805796986073256.......\n",
      "Score is not improving with patient =  7\n",
      ".........EPOCH 24........\n"
     ]
    },
    {
     "name": "stderr",
     "output_type": "stream",
     "text": [
      "100%|███████████| 250/250 [01:54<00:00,  2.18it/s, Batch_number=249, Loss=0.214]\n"
     ]
    },
    {
     "name": "stdout",
     "output_type": "stream",
     "text": [
      ".........Train Loss = 0.21444364315643907........\n"
     ]
    },
    {
     "name": "stderr",
     "output_type": "stream",
     "text": [
      "100%|███████████| 167/167 [01:06<00:00,  2.53it/s, batch_number=166, loss=0.206]\n"
     ]
    },
    {
     "name": "stdout",
     "output_type": "stream",
     "text": [
      "...........Validation Loss = 0.20574505288153888.......\n",
      "Score is not improving with patient =  8\n",
      ".........EPOCH 25........\n"
     ]
    },
    {
     "name": "stderr",
     "output_type": "stream",
     "text": [
      "100%|███████████| 250/250 [01:52<00:00,  2.21it/s, Batch_number=249, Loss=0.201]\n"
     ]
    },
    {
     "name": "stdout",
     "output_type": "stream",
     "text": [
      ".........Train Loss = 0.20101435964554548........\n"
     ]
    },
    {
     "name": "stderr",
     "output_type": "stream",
     "text": [
      "100%|███████████| 167/167 [01:04<00:00,  2.61it/s, batch_number=166, loss=0.198]\n"
     ]
    },
    {
     "name": "stdout",
     "output_type": "stream",
     "text": [
      "...........Validation Loss = 0.19813450527191162.......\n",
      "Score is not improving with patient =  9\n",
      ".........EPOCH 26........\n"
     ]
    },
    {
     "name": "stderr",
     "output_type": "stream",
     "text": [
      "100%|████████████| 250/250 [01:51<00:00,  2.25it/s, Batch_number=249, Loss=0.22]\n"
     ]
    },
    {
     "name": "stdout",
     "output_type": "stream",
     "text": [
      ".........Train Loss = 0.21992081315815448........\n"
     ]
    },
    {
     "name": "stderr",
     "output_type": "stream",
     "text": [
      "100%|███████████| 167/167 [01:02<00:00,  2.69it/s, batch_number=166, loss=0.203]\n"
     ]
    },
    {
     "name": "stdout",
     "output_type": "stream",
     "text": [
      "Epoch 00027: reducing learning rate of group 0 to 4.0000e-05.\n",
      "...........Validation Loss = 0.20327706973999737.......\n",
      "Score is not improving with patient =  10\n",
      ".........EPOCH 27........\n"
     ]
    },
    {
     "name": "stderr",
     "output_type": "stream",
     "text": [
      "100%|███████████| 250/250 [01:51<00:00,  2.25it/s, Batch_number=249, Loss=0.207]\n"
     ]
    },
    {
     "name": "stdout",
     "output_type": "stream",
     "text": [
      ".........Train Loss = 0.20682430290803314........\n"
     ]
    },
    {
     "name": "stderr",
     "output_type": "stream",
     "text": [
      "100%|███████████| 167/167 [01:03<00:00,  2.64it/s, batch_number=166, loss=0.192]\n"
     ]
    },
    {
     "name": "stdout",
     "output_type": "stream",
     "text": [
      "...........Validation Loss = 0.19199069051072.......\n",
      "Score is not improving with patient =  11\n",
      ".........EPOCH 28........\n"
     ]
    },
    {
     "name": "stderr",
     "output_type": "stream",
     "text": [
      "100%|███████████| 250/250 [01:47<00:00,  2.32it/s, Batch_number=249, Loss=0.207]\n"
     ]
    },
    {
     "name": "stdout",
     "output_type": "stream",
     "text": [
      ".........Train Loss = 0.20657563339173793........\n"
     ]
    },
    {
     "name": "stderr",
     "output_type": "stream",
     "text": [
      "100%|████████████| 167/167 [01:02<00:00,  2.67it/s, batch_number=166, loss=0.19]\n"
     ]
    },
    {
     "name": "stdout",
     "output_type": "stream",
     "text": [
      "...........Validation Loss = 0.1904763953220099.......\n",
      "Score is not improving with patient =  12\n",
      ".........EPOCH 29........\n"
     ]
    },
    {
     "name": "stderr",
     "output_type": "stream",
     "text": [
      "100%|███████████| 250/250 [01:45<00:00,  2.36it/s, Batch_number=249, Loss=0.211]\n"
     ]
    },
    {
     "name": "stdout",
     "output_type": "stream",
     "text": [
      ".........Train Loss = 0.21133402417600156........\n"
     ]
    },
    {
     "name": "stderr",
     "output_type": "stream",
     "text": [
      "100%|███████████| 167/167 [01:01<00:00,  2.71it/s, batch_number=166, loss=0.203]\n"
     ]
    },
    {
     "name": "stdout",
     "output_type": "stream",
     "text": [
      "...........Validation Loss = 0.2031346226260066.......\n",
      "Score is not improving with patient =  13\n",
      ".........EPOCH 30........\n"
     ]
    },
    {
     "name": "stderr",
     "output_type": "stream",
     "text": [
      "100%|███████████| 250/250 [01:45<00:00,  2.38it/s, Batch_number=249, Loss=0.211]\n"
     ]
    },
    {
     "name": "stdout",
     "output_type": "stream",
     "text": [
      ".........Train Loss = 0.2106592162400484........\n"
     ]
    },
    {
     "name": "stderr",
     "output_type": "stream",
     "text": [
      "100%|███████████| 167/167 [01:00<00:00,  2.75it/s, batch_number=166, loss=0.207]\n"
     ]
    },
    {
     "name": "stdout",
     "output_type": "stream",
     "text": [
      "...........Validation Loss = 0.20671952638402583.......\n",
      "Score is not improving with patient =  14\n",
      ".........EPOCH 31........\n"
     ]
    },
    {
     "name": "stderr",
     "output_type": "stream",
     "text": [
      "100%|███████████| 250/250 [01:45<00:00,  2.38it/s, Batch_number=249, Loss=0.206]\n"
     ]
    },
    {
     "name": "stdout",
     "output_type": "stream",
     "text": [
      ".........Train Loss = 0.20644753712415695........\n"
     ]
    },
    {
     "name": "stderr",
     "output_type": "stream",
     "text": [
      "100%|███████████| 167/167 [00:59<00:00,  2.83it/s, batch_number=166, loss=0.219]\n"
     ]
    },
    {
     "name": "stdout",
     "output_type": "stream",
     "text": [
      "...........Validation Loss = 0.21900216471031309.......\n",
      "Score is not improving with patient =  15\n",
      ".........EPOCH 32........\n"
     ]
    },
    {
     "name": "stderr",
     "output_type": "stream",
     "text": [
      "100%|███████████| 250/250 [01:44<00:00,  2.40it/s, Batch_number=249, Loss=0.206]\n"
     ]
    },
    {
     "name": "stdout",
     "output_type": "stream",
     "text": [
      ".........Train Loss = 0.20601314524561168........\n"
     ]
    },
    {
     "name": "stderr",
     "output_type": "stream",
     "text": [
      "100%|███████████| 167/167 [01:00<00:00,  2.76it/s, batch_number=166, loss=0.208]\n"
     ]
    },
    {
     "name": "stdout",
     "output_type": "stream",
     "text": [
      "...........Validation Loss = 0.20830946574360132.......\n",
      "Score is not improving with patient =  16\n",
      ".........EPOCH 33........\n"
     ]
    },
    {
     "name": "stderr",
     "output_type": "stream",
     "text": [
      "100%|███████████| 250/250 [01:45<00:00,  2.38it/s, Batch_number=249, Loss=0.205]\n"
     ]
    },
    {
     "name": "stdout",
     "output_type": "stream",
     "text": [
      ".........Train Loss = 0.20491667222976684........\n"
     ]
    },
    {
     "name": "stderr",
     "output_type": "stream",
     "text": [
      "100%|███████████| 167/167 [00:59<00:00,  2.79it/s, batch_number=166, loss=0.199]\n"
     ]
    },
    {
     "name": "stdout",
     "output_type": "stream",
     "text": [
      "...........Validation Loss = 0.1993318412564695.......\n",
      "Score is not improving with patient =  17\n",
      ".........EPOCH 34........\n"
     ]
    },
    {
     "name": "stderr",
     "output_type": "stream",
     "text": [
      "100%|███████████| 250/250 [01:42<00:00,  2.44it/s, Batch_number=249, Loss=0.201]\n"
     ]
    },
    {
     "name": "stdout",
     "output_type": "stream",
     "text": [
      ".........Train Loss = 0.20105469984561206........\n"
     ]
    },
    {
     "name": "stderr",
     "output_type": "stream",
     "text": [
      "100%|███████████| 167/167 [00:57<00:00,  2.92it/s, batch_number=166, loss=0.209]\n"
     ]
    },
    {
     "name": "stdout",
     "output_type": "stream",
     "text": [
      "...........Validation Loss = 0.2087915144972503.......\n",
      "Score is not improving with patient =  18\n",
      ".........EPOCH 35........\n"
     ]
    },
    {
     "name": "stderr",
     "output_type": "stream",
     "text": [
      "100%|████████████| 250/250 [01:42<00:00,  2.44it/s, Batch_number=249, Loss=0.21]\n"
     ]
    },
    {
     "name": "stdout",
     "output_type": "stream",
     "text": [
      ".........Train Loss = 0.21031931257992983........\n"
     ]
    },
    {
     "name": "stderr",
     "output_type": "stream",
     "text": [
      "100%|███████████| 167/167 [00:57<00:00,  2.91it/s, batch_number=166, loss=0.217]\n"
     ]
    },
    {
     "name": "stdout",
     "output_type": "stream",
     "text": [
      "...........Validation Loss = 0.2167882212549448.......\n",
      "Score is not improving with patient =  19\n",
      ".........EPOCH 36........\n"
     ]
    },
    {
     "name": "stderr",
     "output_type": "stream",
     "text": [
      "100%|███████████| 250/250 [01:40<00:00,  2.48it/s, Batch_number=249, Loss=0.197]\n"
     ]
    },
    {
     "name": "stdout",
     "output_type": "stream",
     "text": [
      ".........Train Loss = 0.1971373244076967........\n"
     ]
    },
    {
     "name": "stderr",
     "output_type": "stream",
     "text": [
      "100%|███████████| 167/167 [00:57<00:00,  2.88it/s, batch_number=166, loss=0.213]\n"
     ]
    },
    {
     "name": "stdout",
     "output_type": "stream",
     "text": [
      "...........Validation Loss = 0.21298448229581118.......\n",
      "Score is not improving with patient =  20\n",
      ".........EPOCH 37........\n"
     ]
    },
    {
     "name": "stderr",
     "output_type": "stream",
     "text": [
      "100%|████████████| 250/250 [01:37<00:00,  2.55it/s, Batch_number=249, Loss=0.21]\n"
     ]
    },
    {
     "name": "stdout",
     "output_type": "stream",
     "text": [
      ".........Train Loss = 0.20979118146002293........\n"
     ]
    },
    {
     "name": "stderr",
     "output_type": "stream",
     "text": [
      "100%|███████████| 167/167 [00:56<00:00,  2.98it/s, batch_number=166, loss=0.202]\n"
     ]
    },
    {
     "name": "stdout",
     "output_type": "stream",
     "text": [
      "Epoch 00038: reducing learning rate of group 0 to 8.0000e-06.\n",
      "...........Validation Loss = 0.20228586265072226.......\n",
      "Score is not improving with patient =  21\n",
      ".........EPOCH 38........\n"
     ]
    },
    {
     "name": "stderr",
     "output_type": "stream",
     "text": [
      "100%|███████████| 250/250 [01:39<00:00,  2.50it/s, Batch_number=249, Loss=0.193]\n"
     ]
    },
    {
     "name": "stdout",
     "output_type": "stream",
     "text": [
      ".........Train Loss = 0.19298146876692773........\n"
     ]
    },
    {
     "name": "stderr",
     "output_type": "stream",
     "text": [
      "100%|███████████| 167/167 [00:56<00:00,  2.93it/s, batch_number=166, loss=0.198]\n"
     ]
    },
    {
     "name": "stdout",
     "output_type": "stream",
     "text": [
      "...........Validation Loss = 0.19753452457487583.......\n",
      "Score is not improving with patient =  22\n",
      ".........EPOCH 39........\n"
     ]
    },
    {
     "name": "stderr",
     "output_type": "stream",
     "text": [
      "100%|███████████| 250/250 [01:38<00:00,  2.53it/s, Batch_number=249, Loss=0.197]\n"
     ]
    },
    {
     "name": "stdout",
     "output_type": "stream",
     "text": [
      ".........Train Loss = 0.19731445589661598........\n"
     ]
    },
    {
     "name": "stderr",
     "output_type": "stream",
     "text": [
      "100%|███████████| 167/167 [00:57<00:00,  2.91it/s, batch_number=166, loss=0.201]\n"
     ]
    },
    {
     "name": "stdout",
     "output_type": "stream",
     "text": [
      "...........Validation Loss = 0.20114083733409643.......\n",
      "Score is not improving with patient =  23\n",
      ".........EPOCH 40........\n"
     ]
    },
    {
     "name": "stderr",
     "output_type": "stream",
     "text": [
      "100%|███████████| 250/250 [01:37<00:00,  2.57it/s, Batch_number=249, Loss=0.205]\n"
     ]
    },
    {
     "name": "stdout",
     "output_type": "stream",
     "text": [
      ".........Train Loss = 0.20462321861833335........\n"
     ]
    },
    {
     "name": "stderr",
     "output_type": "stream",
     "text": [
      "100%|███████████| 167/167 [00:56<00:00,  2.95it/s, batch_number=166, loss=0.207]\n"
     ]
    },
    {
     "name": "stdout",
     "output_type": "stream",
     "text": [
      "...........Validation Loss = 0.20688267331011592.......\n",
      "Score is not improving with patient =  24\n",
      ".........EPOCH 41........\n"
     ]
    },
    {
     "name": "stderr",
     "output_type": "stream",
     "text": [
      "100%|███████████| 250/250 [01:36<00:00,  2.59it/s, Batch_number=249, Loss=0.224]\n"
     ]
    },
    {
     "name": "stdout",
     "output_type": "stream",
     "text": [
      ".........Train Loss = 0.224199449300766........\n"
     ]
    },
    {
     "name": "stderr",
     "output_type": "stream",
     "text": [
      "100%|███████████| 167/167 [00:56<00:00,  2.93it/s, batch_number=166, loss=0.189]\n"
     ]
    },
    {
     "name": "stdout",
     "output_type": "stream",
     "text": [
      "...........Validation Loss = 0.18908324927464126.......\n",
      "Score is not improving with patient =  25\n",
      ".........EPOCH 42........\n"
     ]
    },
    {
     "name": "stderr",
     "output_type": "stream",
     "text": [
      "100%|███████████| 250/250 [01:37<00:00,  2.56it/s, Batch_number=249, Loss=0.204]\n"
     ]
    },
    {
     "name": "stdout",
     "output_type": "stream",
     "text": [
      ".........Train Loss = 0.20424886695295572........\n"
     ]
    },
    {
     "name": "stderr",
     "output_type": "stream",
     "text": [
      "100%|███████████| 167/167 [00:53<00:00,  3.09it/s, batch_number=166, loss=0.206]\n"
     ]
    },
    {
     "name": "stdout",
     "output_type": "stream",
     "text": [
      "...........Validation Loss = 0.20645336641184986.......\n",
      "Score is not improving with patient =  26\n",
      ".........EPOCH 43........\n"
     ]
    },
    {
     "name": "stderr",
     "output_type": "stream",
     "text": [
      "100%|███████████| 250/250 [01:36<00:00,  2.58it/s, Batch_number=249, Loss=0.205]\n"
     ]
    },
    {
     "name": "stdout",
     "output_type": "stream",
     "text": [
      ".........Train Loss = 0.20473711213469506........\n"
     ]
    },
    {
     "name": "stderr",
     "output_type": "stream",
     "text": [
      "100%|███████████| 167/167 [00:53<00:00,  3.10it/s, batch_number=166, loss=0.215]\n"
     ]
    },
    {
     "name": "stdout",
     "output_type": "stream",
     "text": [
      "...........Validation Loss = 0.2145277762673795.......\n",
      "Score is not improving with patient =  27\n",
      ".........EPOCH 44........\n"
     ]
    },
    {
     "name": "stderr",
     "output_type": "stream",
     "text": [
      "100%|███████████| 250/250 [01:35<00:00,  2.62it/s, Batch_number=249, Loss=0.213]\n"
     ]
    },
    {
     "name": "stdout",
     "output_type": "stream",
     "text": [
      ".........Train Loss = 0.2134779327660799........\n"
     ]
    },
    {
     "name": "stderr",
     "output_type": "stream",
     "text": [
      "100%|████████████| 167/167 [00:54<00:00,  3.06it/s, batch_number=166, loss=0.21]\n"
     ]
    },
    {
     "name": "stdout",
     "output_type": "stream",
     "text": [
      "...........Validation Loss = 0.20966715922579168.......\n",
      "Score is not improving with patient =  28\n",
      ".........EPOCH 45........\n"
     ]
    },
    {
     "name": "stderr",
     "output_type": "stream",
     "text": [
      "100%|███████████| 250/250 [01:33<00:00,  2.67it/s, Batch_number=249, Loss=0.205]\n"
     ]
    },
    {
     "name": "stdout",
     "output_type": "stream",
     "text": [
      ".........Train Loss = 0.2046976398229599........\n"
     ]
    },
    {
     "name": "stderr",
     "output_type": "stream",
     "text": [
      "100%|███████████| 167/167 [00:53<00:00,  3.12it/s, batch_number=166, loss=0.203]\n"
     ]
    },
    {
     "name": "stdout",
     "output_type": "stream",
     "text": [
      "...........Validation Loss = 0.20264392508193851.......\n",
      "Score is not improving with patient =  29\n",
      ".........EPOCH 46........\n"
     ]
    },
    {
     "name": "stderr",
     "output_type": "stream",
     "text": [
      "100%|███████████| 250/250 [01:34<00:00,  2.65it/s, Batch_number=249, Loss=0.196]\n"
     ]
    },
    {
     "name": "stdout",
     "output_type": "stream",
     "text": [
      ".........Train Loss = 0.19573379781097175........\n"
     ]
    },
    {
     "name": "stderr",
     "output_type": "stream",
     "text": [
      "100%|███████████| 167/167 [00:53<00:00,  3.15it/s, batch_number=166, loss=0.209]\n"
     ]
    },
    {
     "name": "stdout",
     "output_type": "stream",
     "text": [
      "...........Validation Loss = 0.2090068238452077.......\n",
      "Score is not improving with patient =  30\n",
      ".........EPOCH 47........\n"
     ]
    },
    {
     "name": "stderr",
     "output_type": "stream",
     "text": [
      "100%|███████████| 250/250 [01:35<00:00,  2.63it/s, Batch_number=249, Loss=0.206]\n"
     ]
    },
    {
     "name": "stdout",
     "output_type": "stream",
     "text": [
      ".........Train Loss = 0.20613473400473595........\n"
     ]
    },
    {
     "name": "stderr",
     "output_type": "stream",
     "text": [
      "100%|███████████| 167/167 [00:52<00:00,  3.19it/s, batch_number=166, loss=0.204]\n"
     ]
    },
    {
     "name": "stdout",
     "output_type": "stream",
     "text": [
      "...........Validation Loss = 0.20426464386098087.......\n",
      "Score is not improving with patient =  31\n",
      ".........EPOCH 48........\n"
     ]
    },
    {
     "name": "stderr",
     "output_type": "stream",
     "text": [
      "100%|███████████| 250/250 [01:34<00:00,  2.66it/s, Batch_number=249, Loss=0.207]\n"
     ]
    },
    {
     "name": "stdout",
     "output_type": "stream",
     "text": [
      ".........Train Loss = 0.20705064674839377........\n"
     ]
    },
    {
     "name": "stderr",
     "output_type": "stream",
     "text": [
      "100%|███████████| 167/167 [00:52<00:00,  3.16it/s, batch_number=166, loss=0.207]\n"
     ]
    },
    {
     "name": "stdout",
     "output_type": "stream",
     "text": [
      "Epoch 00049: reducing learning rate of group 0 to 1.6000e-06.\n",
      "...........Validation Loss = 0.20724855874851347.......\n",
      "Score is not improving with patient =  32\n",
      ".........EPOCH 49........\n"
     ]
    },
    {
     "name": "stderr",
     "output_type": "stream",
     "text": [
      "100%|█████████████| 250/250 [01:34<00:00,  2.64it/s, Batch_number=249, Loss=0.2]\n"
     ]
    },
    {
     "name": "stdout",
     "output_type": "stream",
     "text": [
      ".........Train Loss = 0.19968719770014287........\n"
     ]
    },
    {
     "name": "stderr",
     "output_type": "stream",
     "text": [
      "100%|███████████| 167/167 [00:51<00:00,  3.22it/s, batch_number=166, loss=0.213]\n"
     ]
    },
    {
     "name": "stdout",
     "output_type": "stream",
     "text": [
      "...........Validation Loss = 0.212652451261878.......\n",
      "Score is not improving with patient =  33\n",
      ".........EPOCH 50........\n"
     ]
    },
    {
     "name": "stderr",
     "output_type": "stream",
     "text": [
      "100%|███████████| 250/250 [01:33<00:00,  2.68it/s, Batch_number=249, Loss=0.204]\n"
     ]
    },
    {
     "name": "stdout",
     "output_type": "stream",
     "text": [
      ".........Train Loss = 0.20431213422864675........\n"
     ]
    },
    {
     "name": "stderr",
     "output_type": "stream",
     "text": [
      "100%|███████████| 167/167 [00:52<00:00,  3.21it/s, batch_number=166, loss=0.206]\n"
     ]
    },
    {
     "name": "stdout",
     "output_type": "stream",
     "text": [
      "...........Validation Loss = 0.20631023079529404.......\n",
      "Score is not improving with patient =  34\n",
      ".........EPOCH 51........\n"
     ]
    },
    {
     "name": "stderr",
     "output_type": "stream",
     "text": [
      "100%|████████████| 250/250 [01:30<00:00,  2.76it/s, Batch_number=249, Loss=0.21]\n"
     ]
    },
    {
     "name": "stdout",
     "output_type": "stream",
     "text": [
      ".........Train Loss = 0.20974062891304493........\n"
     ]
    },
    {
     "name": "stderr",
     "output_type": "stream",
     "text": [
      "100%|███████████| 167/167 [00:52<00:00,  3.21it/s, batch_number=166, loss=0.211]\n"
     ]
    },
    {
     "name": "stdout",
     "output_type": "stream",
     "text": [
      "...........Validation Loss = 0.21117301532253624.......\n",
      "Score is not improving with patient =  35\n",
      ".........EPOCH 52........\n"
     ]
    },
    {
     "name": "stderr",
     "output_type": "stream",
     "text": [
      "100%|█████████████| 250/250 [01:31<00:00,  2.72it/s, Batch_number=249, Loss=0.2]\n"
     ]
    },
    {
     "name": "stdout",
     "output_type": "stream",
     "text": [
      ".........Train Loss = 0.20024810791760683........\n"
     ]
    },
    {
     "name": "stderr",
     "output_type": "stream",
     "text": [
      "100%|███████████| 167/167 [00:51<00:00,  3.27it/s, batch_number=166, loss=0.204]\n"
     ]
    },
    {
     "name": "stdout",
     "output_type": "stream",
     "text": [
      "...........Validation Loss = 0.20403186452761293.......\n",
      "Score is not improving with patient =  36\n",
      ".........EPOCH 53........\n"
     ]
    },
    {
     "name": "stderr",
     "output_type": "stream",
     "text": [
      "100%|███████████| 250/250 [01:33<00:00,  2.69it/s, Batch_number=249, Loss=0.205]\n"
     ]
    },
    {
     "name": "stdout",
     "output_type": "stream",
     "text": [
      ".........Train Loss = 0.2048738050982356........\n"
     ]
    },
    {
     "name": "stderr",
     "output_type": "stream",
     "text": [
      "100%|████████████| 167/167 [00:51<00:00,  3.26it/s, batch_number=166, loss=0.22]\n"
     ]
    },
    {
     "name": "stdout",
     "output_type": "stream",
     "text": [
      "...........Validation Loss = 0.21969520530849695.......\n",
      "Score is not improving with patient =  37\n",
      ".........EPOCH 54........\n"
     ]
    },
    {
     "name": "stderr",
     "output_type": "stream",
     "text": [
      "100%|███████████| 250/250 [01:31<00:00,  2.73it/s, Batch_number=249, Loss=0.215]\n"
     ]
    },
    {
     "name": "stdout",
     "output_type": "stream",
     "text": [
      ".........Train Loss = 0.21490442345663904........\n"
     ]
    },
    {
     "name": "stderr",
     "output_type": "stream",
     "text": [
      "100%|███████████| 167/167 [00:51<00:00,  3.25it/s, batch_number=166, loss=0.197]\n"
     ]
    },
    {
     "name": "stdout",
     "output_type": "stream",
     "text": [
      "...........Validation Loss = 0.1967659294977784.......\n",
      "Score is not improving with patient =  38\n",
      ".........EPOCH 55........\n"
     ]
    },
    {
     "name": "stderr",
     "output_type": "stream",
     "text": [
      "100%|█████████████| 250/250 [01:32<00:00,  2.71it/s, Batch_number=249, Loss=0.2]\n"
     ]
    },
    {
     "name": "stdout",
     "output_type": "stream",
     "text": [
      ".........Train Loss = 0.19955169671028852........\n"
     ]
    },
    {
     "name": "stderr",
     "output_type": "stream",
     "text": [
      "100%|████████████| 167/167 [00:51<00:00,  3.26it/s, batch_number=166, loss=0.22]\n"
     ]
    },
    {
     "name": "stdout",
     "output_type": "stream",
     "text": [
      "...........Validation Loss = 0.21995389169827104.......\n",
      "Score is not improving with patient =  39\n",
      ".........EPOCH 56........\n"
     ]
    },
    {
     "name": "stderr",
     "output_type": "stream",
     "text": [
      "100%|███████████| 250/250 [01:30<00:00,  2.77it/s, Batch_number=249, Loss=0.204]\n"
     ]
    },
    {
     "name": "stdout",
     "output_type": "stream",
     "text": [
      ".........Train Loss = 0.20447422132641077........\n"
     ]
    },
    {
     "name": "stderr",
     "output_type": "stream",
     "text": [
      "100%|███████████| 167/167 [00:50<00:00,  3.30it/s, batch_number=166, loss=0.217]\n"
     ]
    },
    {
     "name": "stdout",
     "output_type": "stream",
     "text": [
      "...........Validation Loss = 0.21746564592421055.......\n",
      "Score is not improving with patient =  40\n",
      ".........EPOCH 57........\n"
     ]
    },
    {
     "name": "stderr",
     "output_type": "stream",
     "text": [
      "100%|███████████| 250/250 [01:30<00:00,  2.78it/s, Batch_number=249, Loss=0.209]\n"
     ]
    },
    {
     "name": "stdout",
     "output_type": "stream",
     "text": [
      ".........Train Loss = 0.2091641189455986........\n"
     ]
    },
    {
     "name": "stderr",
     "output_type": "stream",
     "text": [
      "100%|███████████| 167/167 [00:51<00:00,  3.25it/s, batch_number=166, loss=0.203]\n"
     ]
    },
    {
     "name": "stdout",
     "output_type": "stream",
     "text": [
      "...........Validation Loss = 0.20258757120370866.......\n",
      "Score is not improving with patient =  41\n",
      ".........EPOCH 58........\n"
     ]
    },
    {
     "name": "stderr",
     "output_type": "stream",
     "text": [
      "100%|████████████| 250/250 [01:30<00:00,  2.76it/s, Batch_number=249, Loss=0.21]\n"
     ]
    },
    {
     "name": "stdout",
     "output_type": "stream",
     "text": [
      ".........Train Loss = 0.20956955683231354........\n"
     ]
    },
    {
     "name": "stderr",
     "output_type": "stream",
     "text": [
      "100%|███████████| 167/167 [00:50<00:00,  3.34it/s, batch_number=166, loss=0.205]\n"
     ]
    },
    {
     "name": "stdout",
     "output_type": "stream",
     "text": [
      "...........Validation Loss = 0.20520820196159184.......\n",
      "Score is not improving with patient =  42\n",
      ".........EPOCH 59........\n"
     ]
    },
    {
     "name": "stderr",
     "output_type": "stream",
     "text": [
      "100%|███████████| 250/250 [01:30<00:00,  2.76it/s, Batch_number=249, Loss=0.208]\n"
     ]
    },
    {
     "name": "stdout",
     "output_type": "stream",
     "text": [
      ".........Train Loss = 0.20796261244639755........\n"
     ]
    },
    {
     "name": "stderr",
     "output_type": "stream",
     "text": [
      "100%|███████████| 167/167 [00:50<00:00,  3.28it/s, batch_number=166, loss=0.203]\n"
     ]
    },
    {
     "name": "stdout",
     "output_type": "stream",
     "text": [
      "Epoch 00060: reducing learning rate of group 0 to 3.2000e-07.\n",
      "...........Validation Loss = 0.203097405385226.......\n",
      "Score is not improving with patient =  43\n",
      ".........EPOCH 60........\n"
     ]
    },
    {
     "name": "stderr",
     "output_type": "stream",
     "text": [
      "100%|███████████| 250/250 [01:31<00:00,  2.73it/s, Batch_number=249, Loss=0.202]\n"
     ]
    },
    {
     "name": "stdout",
     "output_type": "stream",
     "text": [
      ".........Train Loss = 0.20198991279304027........\n"
     ]
    },
    {
     "name": "stderr",
     "output_type": "stream",
     "text": [
      "100%|███████████| 167/167 [00:49<00:00,  3.40it/s, batch_number=166, loss=0.215]\n"
     ]
    },
    {
     "name": "stdout",
     "output_type": "stream",
     "text": [
      "...........Validation Loss = 0.21461816841363907.......\n",
      "Score is not improving with patient =  44\n",
      ".........EPOCH 61........\n"
     ]
    },
    {
     "name": "stderr",
     "output_type": "stream",
     "text": [
      "100%|███████████| 250/250 [01:28<00:00,  2.83it/s, Batch_number=249, Loss=0.205]\n"
     ]
    },
    {
     "name": "stdout",
     "output_type": "stream",
     "text": [
      ".........Train Loss = 0.20497012174874543........\n"
     ]
    },
    {
     "name": "stderr",
     "output_type": "stream",
     "text": [
      "100%|███████████| 167/167 [00:49<00:00,  3.40it/s, batch_number=166, loss=0.205]\n"
     ]
    },
    {
     "name": "stdout",
     "output_type": "stream",
     "text": [
      "...........Validation Loss = 0.20524735229462385.......\n",
      "Score is not improving with patient =  45\n",
      ".........EPOCH 62........\n"
     ]
    },
    {
     "name": "stderr",
     "output_type": "stream",
     "text": [
      "100%|█████████████| 250/250 [01:28<00:00,  2.81it/s, Batch_number=249, Loss=0.2]\n"
     ]
    },
    {
     "name": "stdout",
     "output_type": "stream",
     "text": [
      ".........Train Loss = 0.19952962251752615........\n"
     ]
    },
    {
     "name": "stderr",
     "output_type": "stream",
     "text": [
      "100%|███████████| 167/167 [00:50<00:00,  3.33it/s, batch_number=166, loss=0.211]\n"
     ]
    },
    {
     "name": "stdout",
     "output_type": "stream",
     "text": [
      "...........Validation Loss = 0.21050227470323443.......\n",
      "Score is not improving with patient =  46\n",
      ".........EPOCH 63........\n"
     ]
    },
    {
     "name": "stderr",
     "output_type": "stream",
     "text": [
      "100%|███████████| 250/250 [01:28<00:00,  2.83it/s, Batch_number=249, Loss=0.209]\n"
     ]
    },
    {
     "name": "stdout",
     "output_type": "stream",
     "text": [
      ".........Train Loss = 0.20925876761972903........\n"
     ]
    },
    {
     "name": "stderr",
     "output_type": "stream",
     "text": [
      "100%|███████████| 167/167 [00:49<00:00,  3.36it/s, batch_number=166, loss=0.207]\n"
     ]
    },
    {
     "name": "stdout",
     "output_type": "stream",
     "text": [
      "...........Validation Loss = 0.2066636783592403.......\n",
      "Score is not improving with patient =  47\n",
      ".........EPOCH 64........\n"
     ]
    },
    {
     "name": "stderr",
     "output_type": "stream",
     "text": [
      "100%|███████████| 250/250 [01:29<00:00,  2.81it/s, Batch_number=249, Loss=0.201]\n"
     ]
    },
    {
     "name": "stdout",
     "output_type": "stream",
     "text": [
      ".........Train Loss = 0.2009360010959208........\n"
     ]
    },
    {
     "name": "stderr",
     "output_type": "stream",
     "text": [
      "100%|███████████| 167/167 [00:49<00:00,  3.36it/s, batch_number=166, loss=0.207]\n"
     ]
    },
    {
     "name": "stdout",
     "output_type": "stream",
     "text": [
      "...........Validation Loss = 0.2071875867806375.......\n",
      "Score is not improving with patient =  48\n",
      ".........EPOCH 65........\n"
     ]
    },
    {
     "name": "stderr",
     "output_type": "stream",
     "text": [
      "100%|███████████| 250/250 [01:28<00:00,  2.83it/s, Batch_number=249, Loss=0.207]\n"
     ]
    },
    {
     "name": "stdout",
     "output_type": "stream",
     "text": [
      ".........Train Loss = 0.20675328422337771........\n"
     ]
    },
    {
     "name": "stderr",
     "output_type": "stream",
     "text": [
      "100%|███████████| 167/167 [00:49<00:00,  3.40it/s, batch_number=166, loss=0.196]\n"
     ]
    },
    {
     "name": "stdout",
     "output_type": "stream",
     "text": [
      "...........Validation Loss = 0.19622453961893915.......\n",
      "Score is not improving with patient =  49\n",
      ".........EPOCH 66........\n"
     ]
    },
    {
     "name": "stderr",
     "output_type": "stream",
     "text": [
      "100%|███████████| 250/250 [01:28<00:00,  2.83it/s, Batch_number=249, Loss=0.206]\n"
     ]
    },
    {
     "name": "stdout",
     "output_type": "stream",
     "text": [
      ".........Train Loss = 0.2058971276804805........\n"
     ]
    },
    {
     "name": "stderr",
     "output_type": "stream",
     "text": [
      "100%|███████████| 167/167 [00:49<00:00,  3.38it/s, batch_number=166, loss=0.207]\n"
     ]
    },
    {
     "name": "stdout",
     "output_type": "stream",
     "text": [
      "...........Validation Loss = 0.20730829376913606.......\n",
      "Score is not improving with patient =  50\n",
      ".........EPOCH 67........\n"
     ]
    },
    {
     "name": "stderr",
     "output_type": "stream",
     "text": [
      "100%|███████████| 250/250 [01:28<00:00,  2.83it/s, Batch_number=249, Loss=0.197]\n"
     ]
    },
    {
     "name": "stdout",
     "output_type": "stream",
     "text": [
      ".........Train Loss = 0.19744898793101312........\n"
     ]
    },
    {
     "name": "stderr",
     "output_type": "stream",
     "text": [
      "100%|███████████| 167/167 [00:48<00:00,  3.43it/s, batch_number=166, loss=0.203]\n"
     ]
    },
    {
     "name": "stdout",
     "output_type": "stream",
     "text": [
      "...........Validation Loss = 0.20322336945310235.......\n",
      "Score is not improving with patient =  51\n",
      ".........EPOCH 68........\n"
     ]
    },
    {
     "name": "stderr",
     "output_type": "stream",
     "text": [
      "100%|███████████| 250/250 [01:27<00:00,  2.87it/s, Batch_number=249, Loss=0.209]\n"
     ]
    },
    {
     "name": "stdout",
     "output_type": "stream",
     "text": [
      ".........Train Loss = 0.20863577269017697........\n"
     ]
    },
    {
     "name": "stderr",
     "output_type": "stream",
     "text": [
      "100%|███████████| 167/167 [00:49<00:00,  3.39it/s, batch_number=166, loss=0.214]\n"
     ]
    },
    {
     "name": "stdout",
     "output_type": "stream",
     "text": [
      "...........Validation Loss = 0.21386701910197733.......\n",
      "Score is not improving with patient =  52\n",
      ".........EPOCH 69........\n"
     ]
    },
    {
     "name": "stderr",
     "output_type": "stream",
     "text": [
      "100%|███████████| 250/250 [01:27<00:00,  2.84it/s, Batch_number=249, Loss=0.193]\n"
     ]
    },
    {
     "name": "stdout",
     "output_type": "stream",
     "text": [
      ".........Train Loss = 0.19343555235117674........\n"
     ]
    },
    {
     "name": "stderr",
     "output_type": "stream",
     "text": [
      "100%|███████████| 167/167 [00:48<00:00,  3.46it/s, batch_number=166, loss=0.184]\n"
     ]
    },
    {
     "name": "stdout",
     "output_type": "stream",
     "text": [
      "...........Validation Loss = 0.18382817546837033.......\n",
      ".........EPOCH 70........\n"
     ]
    },
    {
     "name": "stderr",
     "output_type": "stream",
     "text": [
      "100%|███████████| 250/250 [01:29<00:00,  2.81it/s, Batch_number=249, Loss=0.196]\n"
     ]
    },
    {
     "name": "stdout",
     "output_type": "stream",
     "text": [
      ".........Train Loss = 0.1959327841475606........\n"
     ]
    },
    {
     "name": "stderr",
     "output_type": "stream",
     "text": [
      "100%|███████████| 167/167 [00:48<00:00,  3.42it/s, batch_number=166, loss=0.209]\n"
     ]
    },
    {
     "name": "stdout",
     "output_type": "stream",
     "text": [
      "...........Validation Loss = 0.2087206516303122.......\n",
      "Score is not improving with patient =  0\n",
      ".........EPOCH 71........\n"
     ]
    },
    {
     "name": "stderr",
     "output_type": "stream",
     "text": [
      "100%|███████████| 250/250 [01:27<00:00,  2.85it/s, Batch_number=249, Loss=0.203]\n"
     ]
    },
    {
     "name": "stdout",
     "output_type": "stream",
     "text": [
      ".........Train Loss = 0.20307935599982738........\n"
     ]
    },
    {
     "name": "stderr",
     "output_type": "stream",
     "text": [
      "100%|█████████████| 167/167 [00:49<00:00,  3.36it/s, batch_number=166, loss=0.2]\n"
     ]
    },
    {
     "name": "stdout",
     "output_type": "stream",
     "text": [
      "...........Validation Loss = 0.19956333927437664.......\n",
      "Score is not improving with patient =  1\n",
      ".........EPOCH 72........\n"
     ]
    },
    {
     "name": "stderr",
     "output_type": "stream",
     "text": [
      "100%|███████████| 250/250 [01:27<00:00,  2.86it/s, Batch_number=249, Loss=0.202]\n"
     ]
    },
    {
     "name": "stdout",
     "output_type": "stream",
     "text": [
      ".........Train Loss = 0.20183431321382522........\n"
     ]
    },
    {
     "name": "stderr",
     "output_type": "stream",
     "text": [
      "100%|███████████| 167/167 [00:48<00:00,  3.44it/s, batch_number=166, loss=0.194]\n"
     ]
    },
    {
     "name": "stdout",
     "output_type": "stream",
     "text": [
      "...........Validation Loss = 0.19443184291012586.......\n",
      "Score is not improving with patient =  2\n",
      ".........EPOCH 73........\n"
     ]
    },
    {
     "name": "stderr",
     "output_type": "stream",
     "text": [
      "100%|███████████| 250/250 [01:27<00:00,  2.85it/s, Batch_number=249, Loss=0.192]\n"
     ]
    },
    {
     "name": "stdout",
     "output_type": "stream",
     "text": [
      ".........Train Loss = 0.1923643109612167........\n"
     ]
    },
    {
     "name": "stderr",
     "output_type": "stream",
     "text": [
      "100%|███████████| 167/167 [00:48<00:00,  3.45it/s, batch_number=166, loss=0.195]\n"
     ]
    },
    {
     "name": "stdout",
     "output_type": "stream",
     "text": [
      "...........Validation Loss = 0.19494292430579663.......\n",
      "Score is not improving with patient =  3\n",
      ".........EPOCH 74........\n"
     ]
    },
    {
     "name": "stderr",
     "output_type": "stream",
     "text": [
      "100%|███████████| 250/250 [01:28<00:00,  2.84it/s, Batch_number=249, Loss=0.216]\n"
     ]
    },
    {
     "name": "stdout",
     "output_type": "stream",
     "text": [
      ".........Train Loss = 0.2156201309710741........\n"
     ]
    },
    {
     "name": "stderr",
     "output_type": "stream",
     "text": [
      "100%|███████████| 167/167 [00:48<00:00,  3.44it/s, batch_number=166, loss=0.197]\n"
     ]
    },
    {
     "name": "stdout",
     "output_type": "stream",
     "text": [
      "...........Validation Loss = 0.19656549389660358.......\n",
      "Score is not improving with patient =  4\n",
      ".........EPOCH 75........\n"
     ]
    },
    {
     "name": "stderr",
     "output_type": "stream",
     "text": [
      "100%|███████████| 250/250 [01:27<00:00,  2.85it/s, Batch_number=249, Loss=0.199]\n"
     ]
    },
    {
     "name": "stdout",
     "output_type": "stream",
     "text": [
      ".........Train Loss = 0.1993646488264203........\n"
     ]
    },
    {
     "name": "stderr",
     "output_type": "stream",
     "text": [
      "100%|████████████| 167/167 [00:49<00:00,  3.41it/s, batch_number=166, loss=0.21]\n"
     ]
    },
    {
     "name": "stdout",
     "output_type": "stream",
     "text": [
      "...........Validation Loss = 0.21028130123391747.......\n",
      "Score is not improving with patient =  5\n",
      ".........EPOCH 76........\n"
     ]
    },
    {
     "name": "stderr",
     "output_type": "stream",
     "text": [
      "100%|███████████| 250/250 [01:27<00:00,  2.86it/s, Batch_number=249, Loss=0.187]\n"
     ]
    },
    {
     "name": "stdout",
     "output_type": "stream",
     "text": [
      ".........Train Loss = 0.18700694648176433........\n"
     ]
    },
    {
     "name": "stderr",
     "output_type": "stream",
     "text": [
      "100%|███████████| 167/167 [00:47<00:00,  3.48it/s, batch_number=166, loss=0.184]\n"
     ]
    },
    {
     "name": "stdout",
     "output_type": "stream",
     "text": [
      "...........Validation Loss = 0.18422229044139385.......\n",
      "Score is not improving with patient =  6\n",
      ".........EPOCH 77........\n"
     ]
    },
    {
     "name": "stderr",
     "output_type": "stream",
     "text": [
      "100%|███████████| 250/250 [01:26<00:00,  2.89it/s, Batch_number=249, Loss=0.201]\n"
     ]
    },
    {
     "name": "stdout",
     "output_type": "stream",
     "text": [
      ".........Train Loss = 0.20099785615503787........\n"
     ]
    },
    {
     "name": "stderr",
     "output_type": "stream",
     "text": [
      "100%|███████████| 167/167 [00:49<00:00,  3.40it/s, batch_number=166, loss=0.216]\n"
     ]
    },
    {
     "name": "stdout",
     "output_type": "stream",
     "text": [
      "...........Validation Loss = 0.2161154294423759.......\n",
      "Score is not improving with patient =  7\n",
      ".........EPOCH 78........\n"
     ]
    },
    {
     "name": "stderr",
     "output_type": "stream",
     "text": [
      "100%|███████████| 250/250 [01:26<00:00,  2.90it/s, Batch_number=249, Loss=0.209]\n"
     ]
    },
    {
     "name": "stdout",
     "output_type": "stream",
     "text": [
      ".........Train Loss = 0.20922057975083588........\n"
     ]
    },
    {
     "name": "stderr",
     "output_type": "stream",
     "text": [
      "100%|███████████| 167/167 [00:48<00:00,  3.42it/s, batch_number=166, loss=0.209]\n"
     ]
    },
    {
     "name": "stdout",
     "output_type": "stream",
     "text": [
      "...........Validation Loss = 0.20932640074566006.......\n",
      "Score is not improving with patient =  8\n",
      ".........EPOCH 79........\n"
     ]
    },
    {
     "name": "stderr",
     "output_type": "stream",
     "text": [
      "100%|███████████| 250/250 [01:26<00:00,  2.88it/s, Batch_number=249, Loss=0.207]\n"
     ]
    },
    {
     "name": "stdout",
     "output_type": "stream",
     "text": [
      ".........Train Loss = 0.20665416736155748........\n"
     ]
    },
    {
     "name": "stderr",
     "output_type": "stream",
     "text": [
      "100%|███████████| 167/167 [00:48<00:00,  3.44it/s, batch_number=166, loss=0.192]\n"
     ]
    },
    {
     "name": "stdout",
     "output_type": "stream",
     "text": [
      "...........Validation Loss = 0.1919458291530609.......\n",
      "Score is not improving with patient =  9\n",
      ".........EPOCH 80........\n"
     ]
    },
    {
     "name": "stderr",
     "output_type": "stream",
     "text": [
      "100%|███████████| 250/250 [01:26<00:00,  2.89it/s, Batch_number=249, Loss=0.191]\n"
     ]
    },
    {
     "name": "stdout",
     "output_type": "stream",
     "text": [
      ".........Train Loss = 0.19124624019861222........\n"
     ]
    },
    {
     "name": "stderr",
     "output_type": "stream",
     "text": [
      "100%|████████████| 167/167 [00:48<00:00,  3.45it/s, batch_number=166, loss=0.19]\n"
     ]
    },
    {
     "name": "stdout",
     "output_type": "stream",
     "text": [
      "Epoch 00081: reducing learning rate of group 0 to 6.4000e-08.\n",
      "...........Validation Loss = 0.1903855564519763.......\n",
      "Score is not improving with patient =  10\n",
      ".........EPOCH 81........\n"
     ]
    },
    {
     "name": "stderr",
     "output_type": "stream",
     "text": [
      "100%|███████████| 250/250 [01:26<00:00,  2.88it/s, Batch_number=249, Loss=0.203]\n"
     ]
    },
    {
     "name": "stdout",
     "output_type": "stream",
     "text": [
      ".........Train Loss = 0.20284453122317792........\n"
     ]
    },
    {
     "name": "stderr",
     "output_type": "stream",
     "text": [
      "100%|███████████| 167/167 [00:48<00:00,  3.42it/s, batch_number=166, loss=0.201]\n"
     ]
    },
    {
     "name": "stdout",
     "output_type": "stream",
     "text": [
      "...........Validation Loss = 0.20119289968907833.......\n",
      "Score is not improving with patient =  11\n",
      ".........EPOCH 82........\n"
     ]
    },
    {
     "name": "stderr",
     "output_type": "stream",
     "text": [
      "100%|███████████| 250/250 [01:26<00:00,  2.88it/s, Batch_number=249, Loss=0.197]\n"
     ]
    },
    {
     "name": "stdout",
     "output_type": "stream",
     "text": [
      ".........Train Loss = 0.19699538300931455........\n"
     ]
    },
    {
     "name": "stderr",
     "output_type": "stream",
     "text": [
      "100%|███████████| 167/167 [00:49<00:00,  3.39it/s, batch_number=166, loss=0.209]\n"
     ]
    },
    {
     "name": "stdout",
     "output_type": "stream",
     "text": [
      "...........Validation Loss = 0.20894245098158717.......\n",
      "Score is not improving with patient =  12\n",
      ".........EPOCH 83........\n"
     ]
    },
    {
     "name": "stderr",
     "output_type": "stream",
     "text": [
      "100%|███████████| 250/250 [01:26<00:00,  2.90it/s, Batch_number=249, Loss=0.192]\n"
     ]
    },
    {
     "name": "stdout",
     "output_type": "stream",
     "text": [
      ".........Train Loss = 0.19201413261890413........\n"
     ]
    },
    {
     "name": "stderr",
     "output_type": "stream",
     "text": [
      "100%|███████████| 167/167 [00:48<00:00,  3.44it/s, batch_number=166, loss=0.213]\n"
     ]
    },
    {
     "name": "stdout",
     "output_type": "stream",
     "text": [
      "...........Validation Loss = 0.21265593891218304.......\n",
      "Score is not improving with patient =  13\n",
      ".........EPOCH 84........\n"
     ]
    },
    {
     "name": "stderr",
     "output_type": "stream",
     "text": [
      "100%|███████████| 250/250 [01:26<00:00,  2.89it/s, Batch_number=249, Loss=0.204]\n"
     ]
    },
    {
     "name": "stdout",
     "output_type": "stream",
     "text": [
      ".........Train Loss = 0.20419655568897724........\n"
     ]
    },
    {
     "name": "stderr",
     "output_type": "stream",
     "text": [
      "100%|███████████| 167/167 [00:48<00:00,  3.48it/s, batch_number=166, loss=0.199]\n"
     ]
    },
    {
     "name": "stdout",
     "output_type": "stream",
     "text": [
      "...........Validation Loss = 0.1986121975146234.......\n",
      "Score is not improving with patient =  14\n",
      ".........EPOCH 85........\n"
     ]
    },
    {
     "name": "stderr",
     "output_type": "stream",
     "text": [
      "100%|███████████| 250/250 [01:26<00:00,  2.88it/s, Batch_number=249, Loss=0.201]\n"
     ]
    },
    {
     "name": "stdout",
     "output_type": "stream",
     "text": [
      ".........Train Loss = 0.20094822848588229........\n"
     ]
    },
    {
     "name": "stderr",
     "output_type": "stream",
     "text": [
      "100%|███████████| 167/167 [00:49<00:00,  3.38it/s, batch_number=166, loss=0.198]\n"
     ]
    },
    {
     "name": "stdout",
     "output_type": "stream",
     "text": [
      "...........Validation Loss = 0.1975760718509555.......\n",
      "Score is not improving with patient =  15\n",
      ".........EPOCH 86........\n"
     ]
    },
    {
     "name": "stderr",
     "output_type": "stream",
     "text": [
      "100%|███████████| 250/250 [01:27<00:00,  2.85it/s, Batch_number=249, Loss=0.205]\n"
     ]
    },
    {
     "name": "stdout",
     "output_type": "stream",
     "text": [
      ".........Train Loss = 0.20520238523185252........\n"
     ]
    },
    {
     "name": "stderr",
     "output_type": "stream",
     "text": [
      "100%|███████████| 167/167 [00:48<00:00,  3.47it/s, batch_number=166, loss=0.219]\n"
     ]
    },
    {
     "name": "stdout",
     "output_type": "stream",
     "text": [
      "...........Validation Loss = 0.21862380472011864.......\n",
      "Score is not improving with patient =  16\n",
      ".........EPOCH 87........\n"
     ]
    },
    {
     "name": "stderr",
     "output_type": "stream",
     "text": [
      "100%|███████████| 250/250 [01:26<00:00,  2.90it/s, Batch_number=249, Loss=0.196]\n"
     ]
    },
    {
     "name": "stdout",
     "output_type": "stream",
     "text": [
      ".........Train Loss = 0.19556809818744658........\n"
     ]
    },
    {
     "name": "stderr",
     "output_type": "stream",
     "text": [
      "100%|███████████| 167/167 [00:47<00:00,  3.48it/s, batch_number=166, loss=0.203]\n"
     ]
    },
    {
     "name": "stdout",
     "output_type": "stream",
     "text": [
      "...........Validation Loss = 0.20286668185144663.......\n",
      "Score is not improving with patient =  17\n",
      ".........EPOCH 88........\n"
     ]
    },
    {
     "name": "stderr",
     "output_type": "stream",
     "text": [
      "100%|███████████| 250/250 [01:27<00:00,  2.86it/s, Batch_number=249, Loss=0.214]\n"
     ]
    },
    {
     "name": "stdout",
     "output_type": "stream",
     "text": [
      ".........Train Loss = 0.21359190959483385........\n"
     ]
    },
    {
     "name": "stderr",
     "output_type": "stream",
     "text": [
      "100%|███████████| 167/167 [00:47<00:00,  3.49it/s, batch_number=166, loss=0.206]\n"
     ]
    },
    {
     "name": "stdout",
     "output_type": "stream",
     "text": [
      "...........Validation Loss = 0.20637204004079104.......\n",
      "Score is not improving with patient =  18\n",
      ".........EPOCH 89........\n"
     ]
    },
    {
     "name": "stderr",
     "output_type": "stream",
     "text": [
      "100%|███████████| 250/250 [01:26<00:00,  2.89it/s, Batch_number=249, Loss=0.201]\n"
     ]
    },
    {
     "name": "stdout",
     "output_type": "stream",
     "text": [
      ".........Train Loss = 0.20087001505121588........\n"
     ]
    },
    {
     "name": "stderr",
     "output_type": "stream",
     "text": [
      "100%|███████████| 167/167 [00:47<00:00,  3.48it/s, batch_number=166, loss=0.204]\n"
     ]
    },
    {
     "name": "stdout",
     "output_type": "stream",
     "text": [
      "...........Validation Loss = 0.20436167999729515.......\n",
      "Score is not improving with patient =  19\n",
      ".........EPOCH 90........\n"
     ]
    },
    {
     "name": "stderr",
     "output_type": "stream",
     "text": [
      "100%|███████████| 250/250 [01:26<00:00,  2.90it/s, Batch_number=249, Loss=0.221]\n"
     ]
    },
    {
     "name": "stdout",
     "output_type": "stream",
     "text": [
      ".........Train Loss = 0.22063893706351517........\n"
     ]
    },
    {
     "name": "stderr",
     "output_type": "stream",
     "text": [
      "100%|███████████| 167/167 [00:47<00:00,  3.50it/s, batch_number=166, loss=0.202]\n"
     ]
    },
    {
     "name": "stdout",
     "output_type": "stream",
     "text": [
      "...........Validation Loss = 0.2020870723426342.......\n",
      "Score is not improving with patient =  20\n",
      ".........EPOCH 91........\n"
     ]
    },
    {
     "name": "stderr",
     "output_type": "stream",
     "text": [
      "100%|███████████| 250/250 [01:26<00:00,  2.89it/s, Batch_number=249, Loss=0.211]\n"
     ]
    },
    {
     "name": "stdout",
     "output_type": "stream",
     "text": [
      ".........Train Loss = 0.21071930395066737........\n"
     ]
    },
    {
     "name": "stderr",
     "output_type": "stream",
     "text": [
      "100%|███████████| 167/167 [00:47<00:00,  3.49it/s, batch_number=166, loss=0.193]\n"
     ]
    },
    {
     "name": "stdout",
     "output_type": "stream",
     "text": [
      "Epoch 00092: reducing learning rate of group 0 to 1.2800e-08.\n",
      "...........Validation Loss = 0.19311381746083497.......\n",
      "Score is not improving with patient =  21\n",
      ".........EPOCH 92........\n"
     ]
    },
    {
     "name": "stderr",
     "output_type": "stream",
     "text": [
      "100%|███████████| 250/250 [01:26<00:00,  2.89it/s, Batch_number=249, Loss=0.205]\n"
     ]
    },
    {
     "name": "stdout",
     "output_type": "stream",
     "text": [
      ".........Train Loss = 0.20495617766678334........\n"
     ]
    },
    {
     "name": "stderr",
     "output_type": "stream",
     "text": [
      "100%|███████████| 167/167 [00:48<00:00,  3.43it/s, batch_number=166, loss=0.218]\n"
     ]
    },
    {
     "name": "stdout",
     "output_type": "stream",
     "text": [
      "...........Validation Loss = 0.21828703268617392.......\n",
      "Score is not improving with patient =  22\n",
      ".........EPOCH 93........\n"
     ]
    },
    {
     "name": "stderr",
     "output_type": "stream",
     "text": [
      "100%|███████████| 250/250 [01:26<00:00,  2.90it/s, Batch_number=249, Loss=0.204]\n"
     ]
    },
    {
     "name": "stdout",
     "output_type": "stream",
     "text": [
      ".........Train Loss = 0.20412286911159755........\n"
     ]
    },
    {
     "name": "stderr",
     "output_type": "stream",
     "text": [
      "100%|███████████| 167/167 [00:48<00:00,  3.47it/s, batch_number=166, loss=0.203]\n"
     ]
    },
    {
     "name": "stdout",
     "output_type": "stream",
     "text": [
      "...........Validation Loss = 0.20258692035079.......\n",
      "Score is not improving with patient =  23\n",
      ".........EPOCH 94........\n"
     ]
    },
    {
     "name": "stderr",
     "output_type": "stream",
     "text": [
      "100%|███████████| 250/250 [01:26<00:00,  2.88it/s, Batch_number=249, Loss=0.209]\n"
     ]
    },
    {
     "name": "stdout",
     "output_type": "stream",
     "text": [
      ".........Train Loss = 0.20898256781324745........\n"
     ]
    },
    {
     "name": "stderr",
     "output_type": "stream",
     "text": [
      "100%|███████████| 167/167 [00:47<00:00,  3.49it/s, batch_number=166, loss=0.209]\n"
     ]
    },
    {
     "name": "stdout",
     "output_type": "stream",
     "text": [
      "...........Validation Loss = 0.20871266638860106.......\n",
      "Score is not improving with patient =  24\n",
      ".........EPOCH 95........\n"
     ]
    },
    {
     "name": "stderr",
     "output_type": "stream",
     "text": [
      "100%|███████████| 250/250 [01:26<00:00,  2.89it/s, Batch_number=249, Loss=0.206]\n"
     ]
    },
    {
     "name": "stdout",
     "output_type": "stream",
     "text": [
      ".........Train Loss = 0.20634289472550155........\n"
     ]
    },
    {
     "name": "stderr",
     "output_type": "stream",
     "text": [
      "100%|███████████| 167/167 [00:47<00:00,  3.49it/s, batch_number=166, loss=0.202]\n"
     ]
    },
    {
     "name": "stdout",
     "output_type": "stream",
     "text": [
      "...........Validation Loss = 0.2022416284698993.......\n",
      "Score is not improving with patient =  25\n",
      ".........EPOCH 96........\n"
     ]
    },
    {
     "name": "stderr",
     "output_type": "stream",
     "text": [
      "100%|███████████| 250/250 [01:26<00:00,  2.90it/s, Batch_number=249, Loss=0.202]\n"
     ]
    },
    {
     "name": "stdout",
     "output_type": "stream",
     "text": [
      ".........Train Loss = 0.20168396427482366........\n"
     ]
    },
    {
     "name": "stderr",
     "output_type": "stream",
     "text": [
      "100%|█████████████| 167/167 [00:48<00:00,  3.47it/s, batch_number=166, loss=0.2]\n"
     ]
    },
    {
     "name": "stdout",
     "output_type": "stream",
     "text": [
      "...........Validation Loss = 0.20026324689015745.......\n",
      "Score is not improving with patient =  26\n",
      ".........EPOCH 97........\n"
     ]
    },
    {
     "name": "stderr",
     "output_type": "stream",
     "text": [
      "100%|███████████| 250/250 [01:26<00:00,  2.90it/s, Batch_number=249, Loss=0.198]\n"
     ]
    },
    {
     "name": "stdout",
     "output_type": "stream",
     "text": [
      ".........Train Loss = 0.19830224289000034........\n"
     ]
    },
    {
     "name": "stderr",
     "output_type": "stream",
     "text": [
      "100%|███████████| 167/167 [00:47<00:00,  3.50it/s, batch_number=166, loss=0.204]\n"
     ]
    },
    {
     "name": "stdout",
     "output_type": "stream",
     "text": [
      "...........Validation Loss = 0.20414910939708353.......\n",
      "Score is not improving with patient =  27\n",
      ".........EPOCH 98........\n"
     ]
    },
    {
     "name": "stderr",
     "output_type": "stream",
     "text": [
      "100%|███████████| 250/250 [01:27<00:00,  2.87it/s, Batch_number=249, Loss=0.211]\n"
     ]
    },
    {
     "name": "stdout",
     "output_type": "stream",
     "text": [
      ".........Train Loss = 0.21067692862078546........\n"
     ]
    },
    {
     "name": "stderr",
     "output_type": "stream",
     "text": [
      "100%|███████████| 167/167 [00:47<00:00,  3.51it/s, batch_number=166, loss=0.199]\n"
     ]
    },
    {
     "name": "stdout",
     "output_type": "stream",
     "text": [
      "...........Validation Loss = 0.1987666864544153.......\n",
      "Score is not improving with patient =  28\n",
      ".........EPOCH 99........\n"
     ]
    },
    {
     "name": "stderr",
     "output_type": "stream",
     "text": [
      "100%|███████████| 250/250 [01:26<00:00,  2.89it/s, Batch_number=249, Loss=0.198]\n"
     ]
    },
    {
     "name": "stdout",
     "output_type": "stream",
     "text": [
      ".........Train Loss = 0.19798735147342086........\n"
     ]
    },
    {
     "name": "stderr",
     "output_type": "stream",
     "text": [
      "100%|███████████| 167/167 [00:47<00:00,  3.50it/s, batch_number=166, loss=0.209]\n"
     ]
    },
    {
     "name": "stdout",
     "output_type": "stream",
     "text": [
      "...........Validation Loss = 0.20859367239102722.......\n",
      "Score is not improving with patient =  29\n"
     ]
    }
   ],
   "source": [
    "job = Training()\n",
    "job.fit(model,DataSet,DataSet)"
   ]
  },
  {
   "cell_type": "code",
   "execution_count": 9,
   "id": "f9926ea8-37da-4e82-add1-75825a3216aa",
   "metadata": {},
   "outputs": [],
   "source": [
    "input_ = DataSet[0]['data'].unsqueeze(0)\n",
    "input_ = input_.to(device)"
   ]
  },
  {
   "cell_type": "code",
   "execution_count": 10,
   "id": "e1badbd6-02b5-4ab1-b8f9-08ed831c98b4",
   "metadata": {},
   "outputs": [
    {
     "data": {
      "text/plain": [
       "torch.Size([1, 30, 213, 288])"
      ]
     },
     "execution_count": 10,
     "metadata": {},
     "output_type": "execute_result"
    }
   ],
   "source": [
    "input_.shape"
   ]
  },
  {
   "cell_type": "code",
   "execution_count": 11,
   "id": "9022f37b-49b8-4232-b838-2e5cd0f55067",
   "metadata": {},
   "outputs": [],
   "source": [
    "out = model(input_)"
   ]
  },
  {
   "cell_type": "code",
   "execution_count": 13,
   "id": "2f6651cd-ed8b-4c29-a540-e246c206eb56",
   "metadata": {},
   "outputs": [],
   "source": [
    "out = out.detach().cpu()"
   ]
  },
  {
   "cell_type": "code",
   "execution_count": null,
   "id": "6994846a-0eaf-4d80-8df7-be5222f478ae",
   "metadata": {},
   "outputs": [],
   "source": []
  },
  {
   "cell_type": "code",
   "execution_count": 14,
   "id": "2a40ecf3-ca15-48ad-b378-5bdf8040f8b5",
   "metadata": {},
   "outputs": [
    {
     "ename": "TypeError",
     "evalue": "Invalid shape (1, 1, 213, 288) for image data",
     "output_type": "error",
     "traceback": [
      "\u001b[0;31m---------------------------------------------------------------------------\u001b[0m",
      "\u001b[0;31mTypeError\u001b[0m                                 Traceback (most recent call last)",
      "Input \u001b[0;32mIn [14]\u001b[0m, in \u001b[0;36m<cell line: 1>\u001b[0;34m()\u001b[0m\n\u001b[0;32m----> 1\u001b[0m \u001b[43mplt\u001b[49m\u001b[38;5;241;43m.\u001b[39;49m\u001b[43mimshow\u001b[49m\u001b[43m(\u001b[49m\u001b[43mout\u001b[49m\u001b[43m)\u001b[49m\n",
      "File \u001b[0;32m~/anaconda3/envs/kaustenv/lib/python3.9/site-packages/matplotlib/_api/deprecation.py:459\u001b[0m, in \u001b[0;36mmake_keyword_only.<locals>.wrapper\u001b[0;34m(*args, **kwargs)\u001b[0m\n\u001b[1;32m    453\u001b[0m \u001b[38;5;28;01mif\u001b[39;00m \u001b[38;5;28mlen\u001b[39m(args) \u001b[38;5;241m>\u001b[39m name_idx:\n\u001b[1;32m    454\u001b[0m     warn_deprecated(\n\u001b[1;32m    455\u001b[0m         since, message\u001b[38;5;241m=\u001b[39m\u001b[38;5;124m\"\u001b[39m\u001b[38;5;124mPassing the \u001b[39m\u001b[38;5;132;01m%(name)s\u001b[39;00m\u001b[38;5;124m \u001b[39m\u001b[38;5;132;01m%(obj_type)s\u001b[39;00m\u001b[38;5;124m \u001b[39m\u001b[38;5;124m\"\u001b[39m\n\u001b[1;32m    456\u001b[0m         \u001b[38;5;124m\"\u001b[39m\u001b[38;5;124mpositionally is deprecated since Matplotlib \u001b[39m\u001b[38;5;132;01m%(since)s\u001b[39;00m\u001b[38;5;124m; the \u001b[39m\u001b[38;5;124m\"\u001b[39m\n\u001b[1;32m    457\u001b[0m         \u001b[38;5;124m\"\u001b[39m\u001b[38;5;124mparameter will become keyword-only \u001b[39m\u001b[38;5;132;01m%(removal)s\u001b[39;00m\u001b[38;5;124m.\u001b[39m\u001b[38;5;124m\"\u001b[39m,\n\u001b[1;32m    458\u001b[0m         name\u001b[38;5;241m=\u001b[39mname, obj_type\u001b[38;5;241m=\u001b[39m\u001b[38;5;124mf\u001b[39m\u001b[38;5;124m\"\u001b[39m\u001b[38;5;124mparameter of \u001b[39m\u001b[38;5;132;01m{\u001b[39;00mfunc\u001b[38;5;241m.\u001b[39m\u001b[38;5;18m__name__\u001b[39m\u001b[38;5;132;01m}\u001b[39;00m\u001b[38;5;124m()\u001b[39m\u001b[38;5;124m\"\u001b[39m)\n\u001b[0;32m--> 459\u001b[0m \u001b[38;5;28;01mreturn\u001b[39;00m \u001b[43mfunc\u001b[49m\u001b[43m(\u001b[49m\u001b[38;5;241;43m*\u001b[39;49m\u001b[43margs\u001b[49m\u001b[43m,\u001b[49m\u001b[43m \u001b[49m\u001b[38;5;241;43m*\u001b[39;49m\u001b[38;5;241;43m*\u001b[39;49m\u001b[43mkwargs\u001b[49m\u001b[43m)\u001b[49m\n",
      "File \u001b[0;32m~/anaconda3/envs/kaustenv/lib/python3.9/site-packages/matplotlib/pyplot.py:2652\u001b[0m, in \u001b[0;36mimshow\u001b[0;34m(X, cmap, norm, aspect, interpolation, alpha, vmin, vmax, origin, extent, interpolation_stage, filternorm, filterrad, resample, url, data, **kwargs)\u001b[0m\n\u001b[1;32m   2646\u001b[0m \u001b[38;5;129m@_copy_docstring_and_deprecators\u001b[39m(Axes\u001b[38;5;241m.\u001b[39mimshow)\n\u001b[1;32m   2647\u001b[0m \u001b[38;5;28;01mdef\u001b[39;00m \u001b[38;5;21mimshow\u001b[39m(\n\u001b[1;32m   2648\u001b[0m         X, cmap\u001b[38;5;241m=\u001b[39m\u001b[38;5;28;01mNone\u001b[39;00m, norm\u001b[38;5;241m=\u001b[39m\u001b[38;5;28;01mNone\u001b[39;00m, aspect\u001b[38;5;241m=\u001b[39m\u001b[38;5;28;01mNone\u001b[39;00m, interpolation\u001b[38;5;241m=\u001b[39m\u001b[38;5;28;01mNone\u001b[39;00m,\n\u001b[1;32m   2649\u001b[0m         alpha\u001b[38;5;241m=\u001b[39m\u001b[38;5;28;01mNone\u001b[39;00m, vmin\u001b[38;5;241m=\u001b[39m\u001b[38;5;28;01mNone\u001b[39;00m, vmax\u001b[38;5;241m=\u001b[39m\u001b[38;5;28;01mNone\u001b[39;00m, origin\u001b[38;5;241m=\u001b[39m\u001b[38;5;28;01mNone\u001b[39;00m, extent\u001b[38;5;241m=\u001b[39m\u001b[38;5;28;01mNone\u001b[39;00m, \u001b[38;5;241m*\u001b[39m,\n\u001b[1;32m   2650\u001b[0m         interpolation_stage\u001b[38;5;241m=\u001b[39m\u001b[38;5;28;01mNone\u001b[39;00m, filternorm\u001b[38;5;241m=\u001b[39m\u001b[38;5;28;01mTrue\u001b[39;00m, filterrad\u001b[38;5;241m=\u001b[39m\u001b[38;5;241m4.0\u001b[39m,\n\u001b[1;32m   2651\u001b[0m         resample\u001b[38;5;241m=\u001b[39m\u001b[38;5;28;01mNone\u001b[39;00m, url\u001b[38;5;241m=\u001b[39m\u001b[38;5;28;01mNone\u001b[39;00m, data\u001b[38;5;241m=\u001b[39m\u001b[38;5;28;01mNone\u001b[39;00m, \u001b[38;5;241m*\u001b[39m\u001b[38;5;241m*\u001b[39mkwargs):\n\u001b[0;32m-> 2652\u001b[0m     __ret \u001b[38;5;241m=\u001b[39m \u001b[43mgca\u001b[49m\u001b[43m(\u001b[49m\u001b[43m)\u001b[49m\u001b[38;5;241;43m.\u001b[39;49m\u001b[43mimshow\u001b[49m\u001b[43m(\u001b[49m\n\u001b[1;32m   2653\u001b[0m \u001b[43m        \u001b[49m\u001b[43mX\u001b[49m\u001b[43m,\u001b[49m\u001b[43m \u001b[49m\u001b[43mcmap\u001b[49m\u001b[38;5;241;43m=\u001b[39;49m\u001b[43mcmap\u001b[49m\u001b[43m,\u001b[49m\u001b[43m \u001b[49m\u001b[43mnorm\u001b[49m\u001b[38;5;241;43m=\u001b[39;49m\u001b[43mnorm\u001b[49m\u001b[43m,\u001b[49m\u001b[43m \u001b[49m\u001b[43maspect\u001b[49m\u001b[38;5;241;43m=\u001b[39;49m\u001b[43maspect\u001b[49m\u001b[43m,\u001b[49m\n\u001b[1;32m   2654\u001b[0m \u001b[43m        \u001b[49m\u001b[43minterpolation\u001b[49m\u001b[38;5;241;43m=\u001b[39;49m\u001b[43minterpolation\u001b[49m\u001b[43m,\u001b[49m\u001b[43m \u001b[49m\u001b[43malpha\u001b[49m\u001b[38;5;241;43m=\u001b[39;49m\u001b[43malpha\u001b[49m\u001b[43m,\u001b[49m\u001b[43m \u001b[49m\u001b[43mvmin\u001b[49m\u001b[38;5;241;43m=\u001b[39;49m\u001b[43mvmin\u001b[49m\u001b[43m,\u001b[49m\n\u001b[1;32m   2655\u001b[0m \u001b[43m        \u001b[49m\u001b[43mvmax\u001b[49m\u001b[38;5;241;43m=\u001b[39;49m\u001b[43mvmax\u001b[49m\u001b[43m,\u001b[49m\u001b[43m \u001b[49m\u001b[43morigin\u001b[49m\u001b[38;5;241;43m=\u001b[39;49m\u001b[43morigin\u001b[49m\u001b[43m,\u001b[49m\u001b[43m \u001b[49m\u001b[43mextent\u001b[49m\u001b[38;5;241;43m=\u001b[39;49m\u001b[43mextent\u001b[49m\u001b[43m,\u001b[49m\n\u001b[1;32m   2656\u001b[0m \u001b[43m        \u001b[49m\u001b[43minterpolation_stage\u001b[49m\u001b[38;5;241;43m=\u001b[39;49m\u001b[43minterpolation_stage\u001b[49m\u001b[43m,\u001b[49m\n\u001b[1;32m   2657\u001b[0m \u001b[43m        \u001b[49m\u001b[43mfilternorm\u001b[49m\u001b[38;5;241;43m=\u001b[39;49m\u001b[43mfilternorm\u001b[49m\u001b[43m,\u001b[49m\u001b[43m \u001b[49m\u001b[43mfilterrad\u001b[49m\u001b[38;5;241;43m=\u001b[39;49m\u001b[43mfilterrad\u001b[49m\u001b[43m,\u001b[49m\u001b[43m \u001b[49m\u001b[43mresample\u001b[49m\u001b[38;5;241;43m=\u001b[39;49m\u001b[43mresample\u001b[49m\u001b[43m,\u001b[49m\n\u001b[1;32m   2658\u001b[0m \u001b[43m        \u001b[49m\u001b[43murl\u001b[49m\u001b[38;5;241;43m=\u001b[39;49m\u001b[43murl\u001b[49m\u001b[43m,\u001b[49m\u001b[43m \u001b[49m\u001b[38;5;241;43m*\u001b[39;49m\u001b[38;5;241;43m*\u001b[39;49m\u001b[43m(\u001b[49m\u001b[43m{\u001b[49m\u001b[38;5;124;43m\"\u001b[39;49m\u001b[38;5;124;43mdata\u001b[39;49m\u001b[38;5;124;43m\"\u001b[39;49m\u001b[43m:\u001b[49m\u001b[43m \u001b[49m\u001b[43mdata\u001b[49m\u001b[43m}\u001b[49m\u001b[43m \u001b[49m\u001b[38;5;28;43;01mif\u001b[39;49;00m\u001b[43m \u001b[49m\u001b[43mdata\u001b[49m\u001b[43m \u001b[49m\u001b[38;5;129;43;01mis\u001b[39;49;00m\u001b[43m \u001b[49m\u001b[38;5;129;43;01mnot\u001b[39;49;00m\u001b[43m \u001b[49m\u001b[38;5;28;43;01mNone\u001b[39;49;00m\u001b[43m \u001b[49m\u001b[38;5;28;43;01melse\u001b[39;49;00m\u001b[43m \u001b[49m\u001b[43m{\u001b[49m\u001b[43m}\u001b[49m\u001b[43m)\u001b[49m\u001b[43m,\u001b[49m\n\u001b[1;32m   2659\u001b[0m \u001b[43m        \u001b[49m\u001b[38;5;241;43m*\u001b[39;49m\u001b[38;5;241;43m*\u001b[39;49m\u001b[43mkwargs\u001b[49m\u001b[43m)\u001b[49m\n\u001b[1;32m   2660\u001b[0m     sci(__ret)\n\u001b[1;32m   2661\u001b[0m     \u001b[38;5;28;01mreturn\u001b[39;00m __ret\n",
      "File \u001b[0;32m~/anaconda3/envs/kaustenv/lib/python3.9/site-packages/matplotlib/_api/deprecation.py:459\u001b[0m, in \u001b[0;36mmake_keyword_only.<locals>.wrapper\u001b[0;34m(*args, **kwargs)\u001b[0m\n\u001b[1;32m    453\u001b[0m \u001b[38;5;28;01mif\u001b[39;00m \u001b[38;5;28mlen\u001b[39m(args) \u001b[38;5;241m>\u001b[39m name_idx:\n\u001b[1;32m    454\u001b[0m     warn_deprecated(\n\u001b[1;32m    455\u001b[0m         since, message\u001b[38;5;241m=\u001b[39m\u001b[38;5;124m\"\u001b[39m\u001b[38;5;124mPassing the \u001b[39m\u001b[38;5;132;01m%(name)s\u001b[39;00m\u001b[38;5;124m \u001b[39m\u001b[38;5;132;01m%(obj_type)s\u001b[39;00m\u001b[38;5;124m \u001b[39m\u001b[38;5;124m\"\u001b[39m\n\u001b[1;32m    456\u001b[0m         \u001b[38;5;124m\"\u001b[39m\u001b[38;5;124mpositionally is deprecated since Matplotlib \u001b[39m\u001b[38;5;132;01m%(since)s\u001b[39;00m\u001b[38;5;124m; the \u001b[39m\u001b[38;5;124m\"\u001b[39m\n\u001b[1;32m    457\u001b[0m         \u001b[38;5;124m\"\u001b[39m\u001b[38;5;124mparameter will become keyword-only \u001b[39m\u001b[38;5;132;01m%(removal)s\u001b[39;00m\u001b[38;5;124m.\u001b[39m\u001b[38;5;124m\"\u001b[39m,\n\u001b[1;32m    458\u001b[0m         name\u001b[38;5;241m=\u001b[39mname, obj_type\u001b[38;5;241m=\u001b[39m\u001b[38;5;124mf\u001b[39m\u001b[38;5;124m\"\u001b[39m\u001b[38;5;124mparameter of \u001b[39m\u001b[38;5;132;01m{\u001b[39;00mfunc\u001b[38;5;241m.\u001b[39m\u001b[38;5;18m__name__\u001b[39m\u001b[38;5;132;01m}\u001b[39;00m\u001b[38;5;124m()\u001b[39m\u001b[38;5;124m\"\u001b[39m)\n\u001b[0;32m--> 459\u001b[0m \u001b[38;5;28;01mreturn\u001b[39;00m \u001b[43mfunc\u001b[49m\u001b[43m(\u001b[49m\u001b[38;5;241;43m*\u001b[39;49m\u001b[43margs\u001b[49m\u001b[43m,\u001b[49m\u001b[43m \u001b[49m\u001b[38;5;241;43m*\u001b[39;49m\u001b[38;5;241;43m*\u001b[39;49m\u001b[43mkwargs\u001b[49m\u001b[43m)\u001b[49m\n",
      "File \u001b[0;32m~/anaconda3/envs/kaustenv/lib/python3.9/site-packages/matplotlib/__init__.py:1412\u001b[0m, in \u001b[0;36m_preprocess_data.<locals>.inner\u001b[0;34m(ax, data, *args, **kwargs)\u001b[0m\n\u001b[1;32m   1409\u001b[0m \u001b[38;5;129m@functools\u001b[39m\u001b[38;5;241m.\u001b[39mwraps(func)\n\u001b[1;32m   1410\u001b[0m \u001b[38;5;28;01mdef\u001b[39;00m \u001b[38;5;21minner\u001b[39m(ax, \u001b[38;5;241m*\u001b[39margs, data\u001b[38;5;241m=\u001b[39m\u001b[38;5;28;01mNone\u001b[39;00m, \u001b[38;5;241m*\u001b[39m\u001b[38;5;241m*\u001b[39mkwargs):\n\u001b[1;32m   1411\u001b[0m     \u001b[38;5;28;01mif\u001b[39;00m data \u001b[38;5;129;01mis\u001b[39;00m \u001b[38;5;28;01mNone\u001b[39;00m:\n\u001b[0;32m-> 1412\u001b[0m         \u001b[38;5;28;01mreturn\u001b[39;00m \u001b[43mfunc\u001b[49m\u001b[43m(\u001b[49m\u001b[43max\u001b[49m\u001b[43m,\u001b[49m\u001b[43m \u001b[49m\u001b[38;5;241;43m*\u001b[39;49m\u001b[38;5;28;43mmap\u001b[39;49m\u001b[43m(\u001b[49m\u001b[43msanitize_sequence\u001b[49m\u001b[43m,\u001b[49m\u001b[43m \u001b[49m\u001b[43margs\u001b[49m\u001b[43m)\u001b[49m\u001b[43m,\u001b[49m\u001b[43m \u001b[49m\u001b[38;5;241;43m*\u001b[39;49m\u001b[38;5;241;43m*\u001b[39;49m\u001b[43mkwargs\u001b[49m\u001b[43m)\u001b[49m\n\u001b[1;32m   1414\u001b[0m     bound \u001b[38;5;241m=\u001b[39m new_sig\u001b[38;5;241m.\u001b[39mbind(ax, \u001b[38;5;241m*\u001b[39margs, \u001b[38;5;241m*\u001b[39m\u001b[38;5;241m*\u001b[39mkwargs)\n\u001b[1;32m   1415\u001b[0m     auto_label \u001b[38;5;241m=\u001b[39m (bound\u001b[38;5;241m.\u001b[39marguments\u001b[38;5;241m.\u001b[39mget(label_namer)\n\u001b[1;32m   1416\u001b[0m                   \u001b[38;5;129;01mor\u001b[39;00m bound\u001b[38;5;241m.\u001b[39mkwargs\u001b[38;5;241m.\u001b[39mget(label_namer))\n",
      "File \u001b[0;32m~/anaconda3/envs/kaustenv/lib/python3.9/site-packages/matplotlib/axes/_axes.py:5481\u001b[0m, in \u001b[0;36mAxes.imshow\u001b[0;34m(self, X, cmap, norm, aspect, interpolation, alpha, vmin, vmax, origin, extent, interpolation_stage, filternorm, filterrad, resample, url, **kwargs)\u001b[0m\n\u001b[1;32m   5474\u001b[0m \u001b[38;5;28mself\u001b[39m\u001b[38;5;241m.\u001b[39mset_aspect(aspect)\n\u001b[1;32m   5475\u001b[0m im \u001b[38;5;241m=\u001b[39m mimage\u001b[38;5;241m.\u001b[39mAxesImage(\u001b[38;5;28mself\u001b[39m, cmap, norm, interpolation,\n\u001b[1;32m   5476\u001b[0m                       origin, extent, filternorm\u001b[38;5;241m=\u001b[39mfilternorm,\n\u001b[1;32m   5477\u001b[0m                       filterrad\u001b[38;5;241m=\u001b[39mfilterrad, resample\u001b[38;5;241m=\u001b[39mresample,\n\u001b[1;32m   5478\u001b[0m                       interpolation_stage\u001b[38;5;241m=\u001b[39minterpolation_stage,\n\u001b[1;32m   5479\u001b[0m                       \u001b[38;5;241m*\u001b[39m\u001b[38;5;241m*\u001b[39mkwargs)\n\u001b[0;32m-> 5481\u001b[0m \u001b[43mim\u001b[49m\u001b[38;5;241;43m.\u001b[39;49m\u001b[43mset_data\u001b[49m\u001b[43m(\u001b[49m\u001b[43mX\u001b[49m\u001b[43m)\u001b[49m\n\u001b[1;32m   5482\u001b[0m im\u001b[38;5;241m.\u001b[39mset_alpha(alpha)\n\u001b[1;32m   5483\u001b[0m \u001b[38;5;28;01mif\u001b[39;00m im\u001b[38;5;241m.\u001b[39mget_clip_path() \u001b[38;5;129;01mis\u001b[39;00m \u001b[38;5;28;01mNone\u001b[39;00m:\n\u001b[1;32m   5484\u001b[0m     \u001b[38;5;66;03m# image does not already have clipping set, clip to axes patch\u001b[39;00m\n",
      "File \u001b[0;32m~/anaconda3/envs/kaustenv/lib/python3.9/site-packages/matplotlib/image.py:715\u001b[0m, in \u001b[0;36m_ImageBase.set_data\u001b[0;34m(self, A)\u001b[0m\n\u001b[1;32m    711\u001b[0m     \u001b[38;5;28mself\u001b[39m\u001b[38;5;241m.\u001b[39m_A \u001b[38;5;241m=\u001b[39m \u001b[38;5;28mself\u001b[39m\u001b[38;5;241m.\u001b[39m_A[:, :, \u001b[38;5;241m0\u001b[39m]\n\u001b[1;32m    713\u001b[0m \u001b[38;5;28;01mif\u001b[39;00m \u001b[38;5;129;01mnot\u001b[39;00m (\u001b[38;5;28mself\u001b[39m\u001b[38;5;241m.\u001b[39m_A\u001b[38;5;241m.\u001b[39mndim \u001b[38;5;241m==\u001b[39m \u001b[38;5;241m2\u001b[39m\n\u001b[1;32m    714\u001b[0m         \u001b[38;5;129;01mor\u001b[39;00m \u001b[38;5;28mself\u001b[39m\u001b[38;5;241m.\u001b[39m_A\u001b[38;5;241m.\u001b[39mndim \u001b[38;5;241m==\u001b[39m \u001b[38;5;241m3\u001b[39m \u001b[38;5;129;01mand\u001b[39;00m \u001b[38;5;28mself\u001b[39m\u001b[38;5;241m.\u001b[39m_A\u001b[38;5;241m.\u001b[39mshape[\u001b[38;5;241m-\u001b[39m\u001b[38;5;241m1\u001b[39m] \u001b[38;5;129;01min\u001b[39;00m [\u001b[38;5;241m3\u001b[39m, \u001b[38;5;241m4\u001b[39m]):\n\u001b[0;32m--> 715\u001b[0m     \u001b[38;5;28;01mraise\u001b[39;00m \u001b[38;5;167;01mTypeError\u001b[39;00m(\u001b[38;5;124m\"\u001b[39m\u001b[38;5;124mInvalid shape \u001b[39m\u001b[38;5;132;01m{}\u001b[39;00m\u001b[38;5;124m for image data\u001b[39m\u001b[38;5;124m\"\u001b[39m\n\u001b[1;32m    716\u001b[0m                     \u001b[38;5;241m.\u001b[39mformat(\u001b[38;5;28mself\u001b[39m\u001b[38;5;241m.\u001b[39m_A\u001b[38;5;241m.\u001b[39mshape))\n\u001b[1;32m    718\u001b[0m \u001b[38;5;28;01mif\u001b[39;00m \u001b[38;5;28mself\u001b[39m\u001b[38;5;241m.\u001b[39m_A\u001b[38;5;241m.\u001b[39mndim \u001b[38;5;241m==\u001b[39m \u001b[38;5;241m3\u001b[39m:\n\u001b[1;32m    719\u001b[0m     \u001b[38;5;66;03m# If the input data has values outside the valid range (after\u001b[39;00m\n\u001b[1;32m    720\u001b[0m     \u001b[38;5;66;03m# normalisation), we issue a warning and then clip X to the bounds\u001b[39;00m\n\u001b[1;32m    721\u001b[0m     \u001b[38;5;66;03m# - otherwise casting wraps extreme values, hiding outliers and\u001b[39;00m\n\u001b[1;32m    722\u001b[0m     \u001b[38;5;66;03m# making reliable interpretation impossible.\u001b[39;00m\n\u001b[1;32m    723\u001b[0m     high \u001b[38;5;241m=\u001b[39m \u001b[38;5;241m255\u001b[39m \u001b[38;5;28;01mif\u001b[39;00m np\u001b[38;5;241m.\u001b[39missubdtype(\u001b[38;5;28mself\u001b[39m\u001b[38;5;241m.\u001b[39m_A\u001b[38;5;241m.\u001b[39mdtype, np\u001b[38;5;241m.\u001b[39minteger) \u001b[38;5;28;01melse\u001b[39;00m \u001b[38;5;241m1\u001b[39m\n",
      "\u001b[0;31mTypeError\u001b[0m: Invalid shape (1, 1, 213, 288) for image data"
     ]
    },
    {
     "data": {
      "image/png": "[encoded data removed]",
      "text/plain": [
       "<Figure size 432x288 with 1 Axes>"
      ]
     },
     "metadata": {
      "needs_background": "light"
     },
     "output_type": "display_data"
    }
   ],
   "source": [
    "plt.imshow(out)"
   ]
  },
  {
   "cell_type": "code",
   "execution_count": null,
   "id": "6f2fdced-a126-4655-8d05-389e1682d4a7",
   "metadata": {},
   "outputs": [],
   "source": [
    "class Loss(nn.Module):\n",
    "    def __init__(self,loss_name):\n",
    "        super(Loss,self).__init__()\n",
    "        self.mse = nn.MSELoss()\n",
    "        self.l1  = nn.L1Loss()\n",
    "        self.loss_name = loss_name\n",
    "        self.psnr = PSNR()\n",
    "        self.ssim = SSIM3D(window_size = 11)\n",
    "        \n",
    "    def forward(self,yhat,y):\n",
    "        if self.loss_name == \"RMSE\":\n",
    "            return torch.sqrt(self.mse(yhat,y))\n",
    "        elif self.loss_name == \"MSE\":\n",
    "            return self.mse(yhat,y)\n",
    "        elif self.loss_name == \"L1Loss\":\n",
    "            return self.l1(yhat,y)\n",
    "        elif self.loss_name == \"PSNR\":\n",
    "            return self.psnr(yhat,y)\n",
    "        elif self.loss_name == \"SSIM\":\n",
    "            return 1-self.ssim(yhat,y)"
   ]
  },
  {
   "cell_type": "code",
   "execution_count": null,
   "id": "4f2caa9d-870f-4178-a49d-b0a79bbf877b",
   "metadata": {},
   "outputs": [],
   "source": []
  },
  {
   "cell_type": "code",
   "execution_count": null,
   "id": "3fff4a56-5665-40f5-8687-9a06033f9189",
   "metadata": {},
   "outputs": [],
   "source": []
  }
 ],
 "metadata": {
  "kernelspec": {
   "display_name": "Python 3 (ipykernel)",
   "language": "python",
   "name": "python3"
  },
  "language_info": {
   "codemirror_mode": {
    "name": "ipython",
    "version": 3
   },
   "file_extension": ".py",
   "mimetype": "text/x-python",
   "name": "python",
   "nbconvert_exporter": "python",
   "pygments_lexer": "ipython3",
   "version": "3.8.10"
  }
 },
 "nbformat": 4,
 "nbformat_minor": 5
}
