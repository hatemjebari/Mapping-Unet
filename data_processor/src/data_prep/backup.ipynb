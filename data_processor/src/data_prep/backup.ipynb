{
 "cells": [
  {
   "cell_type": "code",
   "execution_count": 1,
   "id": "25c965eb-3ebe-4901-8fa7-0f9ae7022a5d",
   "metadata": {},
   "outputs": [],
   "source": [
    "import numpy as np \n",
    "import matplotlib.pyplot as plt\n",
    "import pandas as pd\n",
    "import torch\n",
    "from netCDF4 import Dataset\n",
    "import netCDF4 as nc\n",
    "import os\n",
    "base_path = '/home/resifis/Desktop/kaustcode/Packages/data_processor/src/data_prep'\n",
    "file_name = \"validation.nc\""
   ]
  },
  {
   "cell_type": "code",
   "execution_count": 2,
   "id": "c62236ce-e57a-43c4-9996-bc8556f8cc5b",
   "metadata": {},
   "outputs": [],
   "source": [
    "finale_path = os.path.join(base_path,file_name)\n",
    "ds = nc.Dataset(finale_path, 'w', format='NETCDF4')"
   ]
  },
  {
   "cell_type": "code",
   "execution_count": 3,
   "id": "68315ae9-1084-4fa4-80ec-915bae911715",
   "metadata": {},
   "outputs": [],
   "source": [
    "number_of_timesteps = 100\n",
    "time = ds.createDimension(\"time\",number_of_timesteps)\n",
    "lat = ds.createDimension('lat', 64)\n",
    "lon = ds.createDimension('lon', 64)\n",
    "value = ds.createDimension('value',64*64*number_of_timesteps)\n",
    "channels = ds.createDimension(\"channels\",15)"
   ]
  },
  {
   "cell_type": "code",
   "execution_count": 4,
   "id": "afeeb539-5324-4711-8469-9306a7775055",
   "metadata": {},
   "outputs": [],
   "source": [
    "times = ds.createVariable('time','f4',('time',))\n",
    "lats = ds.createVariable('lat', 'f4', ('lat',))\n",
    "lons = ds.createVariable('lon', 'f4', ('lon',))\n",
    "features = ds.createVariable('feature', 'f4', ('channels','time','lat','lon',))\n",
    "features.units = \"Unknown\""
   ]
  },
  {
   "cell_type": "code",
   "execution_count": 5,
   "id": "ae6d03e8-c588-4f42-80e9-99bf3ea2a1ed",
   "metadata": {},
   "outputs": [],
   "source": [
    "lats[:] = np.arange(0, 64, 1.0)\n",
    "lons[:] = np.arange(0, 64, 1.0)"
   ]
  },
  {
   "cell_type": "code",
   "execution_count": 6,
   "id": "176f7387-a051-472f-97b9-f2c5bd296d3e",
   "metadata": {},
   "outputs": [],
   "source": [
    "for i in range(15):\n",
    "    features[i,: ,:, :] = np.random.uniform(0, 20, size=(number_of_timesteps,64, 64))\n",
    "xval = np.arange(0, 64, 1.0)\n",
    "yval = np.arange(0, 64, 1.0)"
   ]
  }
 ],
 "metadata": {
  "kernelspec": {
   "display_name": "Python 3 (ipykernel)",
   "language": "python",
   "name": "python3"
  },
  "language_info": {
   "codemirror_mode": {
    "name": "ipython",
    "version": 3
   },
   "file_extension": ".py",
   "mimetype": "text/x-python",
   "name": "python",
   "nbconvert_exporter": "python",
   "pygments_lexer": "ipython3",
   "version": "3.9.12"
  }
 },
 "nbformat": 4,
 "nbformat_minor": 5
}
