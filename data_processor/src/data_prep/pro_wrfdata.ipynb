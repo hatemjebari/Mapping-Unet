{
 "cells": [
  {
   "cell_type": "code",
   "execution_count": 1,
   "id": "6be5dc92-814c-4b42-8e3a-c2d17fd56772",
   "metadata": {},
   "outputs": [
    {
     "name": "stderr",
     "output_type": "stream",
     "text": [
      "/home/resifis/anaconda3/envs/kaustenv/lib/python3.9/site-packages/tqdm/auto.py:22: TqdmWarning: IProgress not found. Please update jupyter and ipywidgets. See https://ipywidgets.readthedocs.io/en/stable/user_install.html\n",
      "  from .autonotebook import tqdm as notebook_tqdm\n"
     ]
    }
   ],
   "source": [
    "import pandas as pd\n",
    "import numpy as np\n",
    "import matplotlib.pyplot as plt\n",
    "import torch\n",
    "import torch.nn as nn\n",
    "import netCDF4 as nc\n",
    "from netCDF4 import Dataset\n",
    "import os"
   ]
  },
  {
   "cell_type": "code",
   "execution_count": 2,
   "id": "af6e8df9-26b0-4828-92da-43d57186f28c",
   "metadata": {},
   "outputs": [],
   "source": [
    "import numpy as np"
   ]
  },
  {
   "cell_type": "code",
   "execution_count": 3,
   "id": "a905e4f1-dde6-43fb-9839-21514e65df93",
   "metadata": {},
   "outputs": [],
   "source": [
    "label = np.array([[[0,0,0,0],[0,0,0,0]],[[1,1,1,1],[1,1,1,1]],[[0,0,0,0],[0,0,0,0]],[[2,2,2,2],[2,2,2,2]]])"
   ]
  },
  {
   "cell_type": "code",
   "execution_count": 4,
   "id": "407b8a7a-80cb-4d2d-b4f8-1267536fa701",
   "metadata": {},
   "outputs": [
    {
     "data": {
      "text/plain": [
       "(4, 2, 4)"
      ]
     },
     "execution_count": 4,
     "metadata": {},
     "output_type": "execute_result"
    }
   ],
   "source": [
    "label.shape"
   ]
  },
  {
   "cell_type": "code",
   "execution_count": 5,
   "id": "65f2b65a-2bd5-4e86-8ad9-46ec6dccb7c8",
   "metadata": {},
   "outputs": [],
   "source": [
    "idx = np.flatnonzero((label == 0).all((1,2)))"
   ]
  },
  {
   "cell_type": "code",
   "execution_count": 6,
   "id": "b4187986-5172-4013-8236-20c882d18320",
   "metadata": {},
   "outputs": [],
   "source": [
    "new_label = np.delete(label, idx, axis=0)"
   ]
  },
  {
   "cell_type": "code",
   "execution_count": 7,
   "id": "1f445898-3d74-43ad-9a5e-8318cbac7eb5",
   "metadata": {},
   "outputs": [
    {
     "data": {
      "text/plain": [
       "(2, 2, 4)"
      ]
     },
     "execution_count": 7,
     "metadata": {},
     "output_type": "execute_result"
    }
   ],
   "source": [
    "new_label.shape"
   ]
  },
  {
   "cell_type": "code",
   "execution_count": 9,
   "id": "a5043409-3f20-450c-8e97-9be786203bfb",
   "metadata": {},
   "outputs": [],
   "source": [
    "DATAPATH = os.environ.get(\"DATAPATH\",\"/home/resifis/Desktop/kaustcode/Packages/data\")"
   ]
  },
  {
   "cell_type": "code",
   "execution_count": 10,
   "id": "e43cc457-1c50-494a-99ea-c68d7bd51e6b",
   "metadata": {},
   "outputs": [],
   "source": [
    "data_path = os.path.join(DATAPATH,\"GHI_2010-2019.nc\") \n",
    "GHI = Dataset(data_path,mode = 'r')"
   ]
  },
  {
   "cell_type": "code",
   "execution_count": 15,
   "id": "81a8b48a-4275-4f59-afba-0a8461eeb0ff",
   "metadata": {},
   "outputs": [],
   "source": [
    "GHI = np.array(GHI.variables[\"GHI\"][:])"
   ]
  },
  {
   "cell_type": "code",
   "execution_count": 23,
   "id": "b889b0c9-5470-451d-979a-73bf6a6b2608",
   "metadata": {},
   "outputs": [],
   "source": [
    "array_data = GHI.reshape((GHI.shape[0],GHI.shape[2],GHI.shape[3]))"
   ]
  },
  {
   "cell_type": "code",
   "execution_count": 25,
   "id": "8669e04e-30e1-4d8c-9d03-816d27b1de8d",
   "metadata": {},
   "outputs": [
    {
     "data": {
      "text/plain": [
       "(87648, 213, 288)"
      ]
     },
     "execution_count": 25,
     "metadata": {},
     "output_type": "execute_result"
    }
   ],
   "source": [
    "array_data.shape"
   ]
  },
  {
   "cell_type": "code",
   "execution_count": 26,
   "id": "476b68c6-f341-4d01-af5d-b1ae643e6d0a",
   "metadata": {},
   "outputs": [],
   "source": [
    "idx = np.flatnonzero((array_data == 0.0).all((1,2)))"
   ]
  },
  {
   "cell_type": "code",
   "execution_count": 29,
   "id": "62559a45-894e-497f-a43a-df739026b0d5",
   "metadata": {},
   "outputs": [],
   "source": [
    "new_data = np.delete(array_data, idx, axis=0)"
   ]
  },
  {
   "cell_type": "code",
   "execution_count": 31,
   "id": "f9ae6fdc-98e7-45cb-9478-a6476c9250b0",
   "metadata": {},
   "outputs": [
    {
     "data": {
      "text/plain": [
       "(48234, 213, 288)"
      ]
     },
     "execution_count": 31,
     "metadata": {},
     "output_type": "execute_result"
    }
   ],
   "source": [
    "new_data.shape"
   ]
  },
  {
   "cell_type": "code",
   "execution_count": 32,
   "id": "1b80da7c-ce33-4cec-af66-1f704ccf6def",
   "metadata": {},
   "outputs": [],
   "source": [
    "series = new_data[:,0,0]"
   ]
  },
  {
   "cell_type": "code",
   "execution_count": 35,
   "id": "35c4d715-a2fb-4e36-bd7a-d473adf5ce6a",
   "metadata": {},
   "outputs": [
    {
     "data": {
      "text/plain": [
       "[<matplotlib.lines.Line2D at 0x146df2c72fa0>]"
      ]
     },
     "execution_count": 35,
     "metadata": {},
     "output_type": "execute_result"
    },
    {
     "data": {
      "image/png": "[encoded data removed]",
      "text/plain": [
       "<Figure size 432x288 with 1 Axes>"
      ]
     },
     "metadata": {
      "needs_background": "light"
     },
     "output_type": "display_data"
    }
   ],
   "source": [
    "plt.plot(series[:100])"
   ]
  },
  {
   "cell_type": "code",
   "execution_count": null,
   "id": "facaee49-bc34-4e02-bb8c-b168315815e9",
   "metadata": {},
   "outputs": [],
   "source": []
  }
 ],
 "metadata": {
  "kernelspec": {
   "display_name": "Python 3 (ipykernel)",
   "language": "python",
   "name": "python3"
  },
  "language_info": {
   "codemirror_mode": {
    "name": "ipython",
    "version": 3
   },
   "file_extension": ".py",
   "mimetype": "text/x-python",
   "name": "python",
   "nbconvert_exporter": "python",
   "pygments_lexer": "ipython3",
   "version": "3.9.12"
  }
 },
 "nbformat": 4,
 "nbformat_minor": 5
}
