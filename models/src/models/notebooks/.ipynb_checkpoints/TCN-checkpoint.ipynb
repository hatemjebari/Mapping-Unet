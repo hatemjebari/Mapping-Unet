{
 "cells": [
  {
   "cell_type": "code",
   "execution_count": 1,
   "id": "b0dafa31-567a-4cac-909e-403e3bcb674d",
   "metadata": {},
   "outputs": [],
   "source": [
    "import pandas as pd\n",
    "import torch\n",
    "import torch.nn as nn\n",
    "import numpy as np\n",
    "import warnings\n",
    "warnings.filterwarnings(\"ignore\")\n",
    "from models.forecastors.utils.loss import * \n",
    "from models.forecastors.utils.engine import *\n",
    "from models.utils.configtrain import *\n",
    "from torch.nn.utils import weight_norm\n",
    "import torch.nn.init as weight_init\n",
    "import random\n",
    "def setup_seed(seed):\n",
    "    np.random.seed(seed)\n",
    "    random.seed(seed)\n",
    "    torch.manual_seed(seed)  # cpu\n",
    "    torch.cuda.manual_seed_all(seed)  \n",
    "    torch.backends.cudnn.deterministic = True  \n",
    "    torch.backends.cudnn.benchmark = True \n",
    "setup_seed(15)"
   ]
  },
  {
   "cell_type": "code",
   "execution_count": 2,
   "id": "02646acd-1340-4c91-aa86-955e59604c7e",
   "metadata": {},
   "outputs": [],
   "source": [
    "class Dataset():\n",
    "    def __init__(self,data,window,cols):\n",
    "        self.window = window\n",
    "        self.data = data\n",
    "        self.cols = cols\n",
    "        self.new_data = Dataset.window_adder(self.data,self.window,self.cols)\n",
    "        self.new_data = self.new_data.dropna()\n",
    "        self.out = dict()\n",
    "        self.out[\"data\"] = Dataset.create_encoder(self.new_data,self.window,self.cols)\n",
    "        self.out[\"target\"] = torch.tensor(self.new_data[\"GHI(W/m2)\"].values,dtype = torch.float)\n",
    "        \n",
    "    @staticmethod \n",
    "    def window_adder(input_data,window,cols):\n",
    "        data = input_data.copy()\n",
    "        for i in range(1,window):\n",
    "            for col in cols:\n",
    "                feature_name = f\"{col}(t = N - {i})\"\n",
    "                data[feature_name] = data[col].shift(i)\n",
    "        return data\n",
    "    @staticmethod           \n",
    "    def create_encoder(data,window,cols):\n",
    "        out = dict()\n",
    "        for col in cols:\n",
    "            feature_names = [f\"{col}(t = N - {i})\" for i in range(window-1,0,-1)]\n",
    "            out[col] = data[feature_names].values\n",
    "        x1 = torch.tensor(out[cols[0]],dtype = torch.float).unsqueeze(2)\n",
    "        for feat in cols[1:]:\n",
    "            x2 = torch.tensor(out[feat],dtype=torch.float).unsqueeze(2)\n",
    "            x1 = torch.cat([x1,x2],dim = 2)\n",
    "        return x1\n",
    "    \n",
    "    def __len__(self):\n",
    "        return len(self.new_data)\n",
    "    \n",
    "    def __getitem__(self,item):\n",
    "        output = dict()\n",
    "        output[\"data\"]  = self.out[\"data\"][item]\n",
    "        output[\"target\"] = self.out[\"target\"][item]\n",
    "        return output\n",
    "        "
   ]
  },
  {
   "cell_type": "code",
   "execution_count": 3,
   "id": "0e3db8d9-a4e3-4966-aae2-abed7980000d",
   "metadata": {},
   "outputs": [],
   "source": [
    "data = pd.read_csv(\"specific_location.csv\")\n",
    "data = data.set_index(\"Unnamed: 0\")"
   ]
  },
  {
   "cell_type": "code",
   "execution_count": 4,
   "id": "a3ce2875-84d2-47fb-a237-ad32b8228bf7",
   "metadata": {},
   "outputs": [],
   "source": [
    "data = data[data[\"GHI(W/m2)\"] > 0]"
   ]
  },
  {
   "cell_type": "code",
   "execution_count": 5,
   "id": "97aab909-bf67-41fb-b89f-a6530fb9b565",
   "metadata": {},
   "outputs": [
    {
     "data": {
      "text/html": [
       "<div>\n",
       "<style scoped>\n",
       "    .dataframe tbody tr th:only-of-type {\n",
       "        vertical-align: middle;\n",
       "    }\n",
       "\n",
       "    .dataframe tbody tr th {\n",
       "        vertical-align: top;\n",
       "    }\n",
       "\n",
       "    .dataframe thead th {\n",
       "        text-align: right;\n",
       "    }\n",
       "</style>\n",
       "<table border=\"1\" class=\"dataframe\">\n",
       "  <thead>\n",
       "    <tr style=\"text-align: right;\">\n",
       "      <th></th>\n",
       "      <th>mslp(hPa)</th>\n",
       "      <th>t2(C)</th>\n",
       "      <th>td2(C)</th>\n",
       "      <th>wind_speed(m/s)</th>\n",
       "      <th>wind_dir(Deg)</th>\n",
       "      <th>rh(%)</th>\n",
       "      <th>GHI(W/m2)</th>\n",
       "      <th>SWDIR(W/m2)</th>\n",
       "      <th>SWDNI(W/m2)</th>\n",
       "      <th>SWDIF(W/m2)</th>\n",
       "      <th>rain(mm)</th>\n",
       "      <th>AOD</th>\n",
       "    </tr>\n",
       "    <tr>\n",
       "      <th>Unnamed: 0</th>\n",
       "      <th></th>\n",
       "      <th></th>\n",
       "      <th></th>\n",
       "      <th></th>\n",
       "      <th></th>\n",
       "      <th></th>\n",
       "      <th></th>\n",
       "      <th></th>\n",
       "      <th></th>\n",
       "      <th></th>\n",
       "      <th></th>\n",
       "      <th></th>\n",
       "    </tr>\n",
       "  </thead>\n",
       "  <tbody>\n",
       "    <tr>\n",
       "      <th>2008-01-01 05:00:00</th>\n",
       "      <td>1012.580</td>\n",
       "      <td>14.838</td>\n",
       "      <td>4.055</td>\n",
       "      <td>3.415</td>\n",
       "      <td>107.178</td>\n",
       "      <td>48.525</td>\n",
       "      <td>35.065</td>\n",
       "      <td>0.077</td>\n",
       "      <td>1.121</td>\n",
       "      <td>34.988</td>\n",
       "      <td>0.0</td>\n",
       "      <td>0.098</td>\n",
       "    </tr>\n",
       "    <tr>\n",
       "      <th>2008-01-01 06:00:00</th>\n",
       "      <td>1012.464</td>\n",
       "      <td>17.561</td>\n",
       "      <td>4.745</td>\n",
       "      <td>2.687</td>\n",
       "      <td>111.269</td>\n",
       "      <td>42.722</td>\n",
       "      <td>172.900</td>\n",
       "      <td>2.694</td>\n",
       "      <td>10.339</td>\n",
       "      <td>170.207</td>\n",
       "      <td>0.0</td>\n",
       "      <td>0.098</td>\n",
       "    </tr>\n",
       "    <tr>\n",
       "      <th>2008-01-01 07:00:00</th>\n",
       "      <td>1012.876</td>\n",
       "      <td>20.277</td>\n",
       "      <td>5.859</td>\n",
       "      <td>2.120</td>\n",
       "      <td>156.114</td>\n",
       "      <td>39.141</td>\n",
       "      <td>333.671</td>\n",
       "      <td>24.681</td>\n",
       "      <td>58.441</td>\n",
       "      <td>308.991</td>\n",
       "      <td>0.0</td>\n",
       "      <td>0.098</td>\n",
       "    </tr>\n",
       "    <tr>\n",
       "      <th>2008-01-01 08:00:00</th>\n",
       "      <td>1013.202</td>\n",
       "      <td>21.085</td>\n",
       "      <td>6.633</td>\n",
       "      <td>2.883</td>\n",
       "      <td>184.119</td>\n",
       "      <td>39.532</td>\n",
       "      <td>506.559</td>\n",
       "      <td>136.189</td>\n",
       "      <td>250.818</td>\n",
       "      <td>370.369</td>\n",
       "      <td>0.0</td>\n",
       "      <td>0.098</td>\n",
       "    </tr>\n",
       "    <tr>\n",
       "      <th>2008-01-01 09:00:00</th>\n",
       "      <td>1013.309</td>\n",
       "      <td>21.149</td>\n",
       "      <td>7.122</td>\n",
       "      <td>3.052</td>\n",
       "      <td>194.497</td>\n",
       "      <td>40.547</td>\n",
       "      <td>598.190</td>\n",
       "      <td>197.980</td>\n",
       "      <td>322.275</td>\n",
       "      <td>400.222</td>\n",
       "      <td>0.0</td>\n",
       "      <td>0.098</td>\n",
       "    </tr>\n",
       "  </tbody>\n",
       "</table>\n",
       "</div>"
      ],
      "text/plain": [
       "                     mslp(hPa)   t2(C)  td2(C)  wind_speed(m/s)  \\\n",
       "Unnamed: 0                                                        \n",
       "2008-01-01 05:00:00   1012.580  14.838   4.055            3.415   \n",
       "2008-01-01 06:00:00   1012.464  17.561   4.745            2.687   \n",
       "2008-01-01 07:00:00   1012.876  20.277   5.859            2.120   \n",
       "2008-01-01 08:00:00   1013.202  21.085   6.633            2.883   \n",
       "2008-01-01 09:00:00   1013.309  21.149   7.122            3.052   \n",
       "\n",
       "                     wind_dir(Deg)   rh(%)  GHI(W/m2)  SWDIR(W/m2)  \\\n",
       "Unnamed: 0                                                           \n",
       "2008-01-01 05:00:00        107.178  48.525     35.065        0.077   \n",
       "2008-01-01 06:00:00        111.269  42.722    172.900        2.694   \n",
       "2008-01-01 07:00:00        156.114  39.141    333.671       24.681   \n",
       "2008-01-01 08:00:00        184.119  39.532    506.559      136.189   \n",
       "2008-01-01 09:00:00        194.497  40.547    598.190      197.980   \n",
       "\n",
       "                     SWDNI(W/m2)  SWDIF(W/m2)  rain(mm)    AOD  \n",
       "Unnamed: 0                                                      \n",
       "2008-01-01 05:00:00        1.121       34.988       0.0  0.098  \n",
       "2008-01-01 06:00:00       10.339      170.207       0.0  0.098  \n",
       "2008-01-01 07:00:00       58.441      308.991       0.0  0.098  \n",
       "2008-01-01 08:00:00      250.818      370.369       0.0  0.098  \n",
       "2008-01-01 09:00:00      322.275      400.222       0.0  0.098  "
      ]
     },
     "execution_count": 5,
     "metadata": {},
     "output_type": "execute_result"
    }
   ],
   "source": [
    "data.head()"
   ]
  },
  {
   "cell_type": "code",
   "execution_count": 6,
   "id": "1f1e62ed-3fda-47c5-bf18-35784a47419b",
   "metadata": {},
   "outputs": [],
   "source": [
    "data[\"prevGHI\"] = data[\"GHI(W/m2)\"].shift(1)\n",
    "data[\"GHI_changerate\"] = (data[\"GHI(W/m2)\"]-data[\"prevGHI\"])/(data[\"prevGHI\"])\n",
    "\n",
    "data[\"prevmslp\"] = data[\"mslp(hPa)\"].shift(1)\n",
    "data[\"mslp_changerate\"] = (data[\"mslp(hPa)\"]-data[\"prevmslp\"])/(data[\"prevmslp\"])\n",
    "\n",
    "data[\"prevwind_speed\"] = data[\"wind_speed(m/s)\"].shift(1)\n",
    "data[\"wind_speed_changerate\"] = (data[\"wind_speed(m/s)\"]-data[\"prevwind_speed\"])/(data[\"prevwind_speed\"])\n",
    "\n",
    "\n",
    "data[\"prevrh\"] = data[\"rh(%)\"].shift(1)\n",
    "data[\"rh_changerate\"] = (data[\"rh(%)\"]-data[\"prevrh\"])/(data[\"prevrh\"])\n",
    "\n",
    "for i in range(1,10):\n",
    "    data[f\"GHI_lag{i}\"] = data[\"GHI(W/m2)\"].shift(i)\n",
    "data.replace([np.inf, -np.inf], np.nan, inplace=True)\n",
    "data = data.dropna()"
   ]
  },
  {
   "cell_type": "code",
   "execution_count": 7,
   "id": "fd57a83d-7da4-427d-896e-48663c5abdc6",
   "metadata": {},
   "outputs": [],
   "source": [
    "cols = [col for col in data.columns.tolist() if \"changerate\" in col]\n",
    "cols += [col for col in data.columns.tolist() if \"lag\" in col]"
   ]
  },
  {
   "cell_type": "code",
   "execution_count": 8,
   "id": "200610a5-34ba-4ae5-832e-23203bd7c989",
   "metadata": {},
   "outputs": [],
   "source": [
    "train_data = data[\"2008-01-01 00:00:00\":\"2016-01-01 00:00:00\"]\n",
    "valid_data = data[\"2016-01-01 00:00:00\":\"2018-01-01 00:00:00\"]\n",
    "test_data = data[\"2018-01-01 00:00:00\":\"2019-01-01 00:00:00\"]"
   ]
  },
  {
   "cell_type": "code",
   "execution_count": 9,
   "id": "583affcc-b3c6-4c92-94e9-e7079749e0f2",
   "metadata": {},
   "outputs": [],
   "source": [
    "trainset = Dataset(train_data,25,cols)\n",
    "validset = Dataset(valid_data,25,cols)\n",
    "testset = Dataset(test_data,25,cols)"
   ]
  },
  {
   "cell_type": "code",
   "execution_count": 10,
   "id": "f0ce89ec-a932-4c54-8eed-974c018c496d",
   "metadata": {},
   "outputs": [],
   "source": [
    "class TemporalBlock(nn.Module):\n",
    "    def __init__(self, n_inputs, n_outputs, kernel_size, stride, dilation, padding, dropout=0.2):\n",
    "        super(TemporalBlock, self).__init__()\n",
    "        self.conv1 = weight_norm(nn.Conv2d(n_inputs, n_outputs, (1, kernel_size),\n",
    "                                           stride=stride, padding=0, dilation=dilation))\n",
    "        self.pad = torch.nn.ZeroPad2d((padding, 0, 0, 0))\n",
    "        self.relu = nn.ReLU()\n",
    "        self.dropout = nn.Dropout(dropout)\n",
    "        self.conv2 = weight_norm(nn.Conv2d(n_outputs, n_outputs, (1, kernel_size),\n",
    "                                           stride=stride, padding=0, dilation=dilation))\n",
    "        self.net = nn.Sequential(self.pad, self.conv1, self.relu, self.dropout,\n",
    "                                 self.pad, self.conv2, self.relu, self.dropout)\n",
    "        self.downsample = nn.Conv1d(\n",
    "            n_inputs, n_outputs, 1) if n_inputs != n_outputs else None\n",
    "        self.relu = nn.ReLU()\n",
    "        self.init_weights()\n",
    "\n",
    "    def init_weights(self):\n",
    "        self.conv1.weight.data.normal_(0, 0.01)\n",
    "        self.conv2.weight.data.normal_(0, 0.01)\n",
    "        if self.downsample is not None:\n",
    "            self.downsample.weight.data.normal_(0, 0.01)\n",
    "\n",
    "    def forward(self, x):\n",
    "        out = self.net(x.unsqueeze(2)).squeeze(2)\n",
    "        res = x if self.downsample is None else self.downsample(x)\n",
    "        return self.relu(out + res)\n",
    "\n",
    "\n",
    "class TemporalConvNet(nn.Module):\n",
    "    def __init__(self, num_inputs, num_channels, kernel_size=2, dropout=0.2):\n",
    "        super(TemporalConvNet, self).__init__()\n",
    "        layers = []\n",
    "        num_levels = len(num_channels)\n",
    "        for i in range(num_levels):\n",
    "            dilation_size = 2 ** i\n",
    "            in_channels = num_inputs if i == 0 else num_channels[i-1]\n",
    "            out_channels = num_channels[i]\n",
    "            layers += [TemporalBlock(in_channels, out_channels, kernel_size, stride=1, dilation=dilation_size,\n",
    "                                     padding=(kernel_size-1) * dilation_size, dropout=dropout)]\n",
    "\n",
    "        self.network = nn.Sequential(*layers)\n",
    "\n",
    "    def forward(self, x):\n",
    "        return self.network(x)\n",
    "    \n",
    "class TCNModel(nn.Module):\n",
    "    def __init__(self, num_channels, kernel_size=2, dropout=0.2):\n",
    "        super(TCNModel, self).__init__()\n",
    "        self.tcn = TemporalConvNet(\n",
    "            24, num_channels, kernel_size=kernel_size, dropout=dropout)\n",
    "        self.dropout = nn.Dropout(dropout)\n",
    "        self.decoder = nn.Linear(num_channels[-1], 1)\n",
    "    def forward(self, x):\n",
    "        return self.decoder(self.dropout(self.tcn(x)[:, :, -1]))"
   ]
  },
  {
   "cell_type": "code",
   "execution_count": 11,
   "id": "6a9cdb10-bcb7-4c2c-8514-194fdcf88930",
   "metadata": {},
   "outputs": [],
   "source": [
    "Model = TCNModel([len(cols),256,128,64,32,16,8])"
   ]
  },
  {
   "cell_type": "markdown",
   "id": "223e3fb9-8339-4ca5-8345-746d35cc544a",
   "metadata": {},
   "source": [
    "# Engine"
   ]
  },
  {
   "cell_type": "code",
   "execution_count": 12,
   "id": "a7e0cdd0-bb0d-4c52-9f66-195d7a63508a",
   "metadata": {},
   "outputs": [],
   "source": [
    "criterion = Loss(\"RMSE\")\n",
    "optimizer = torch.optim.AdamW(Model.parameters(), lr=0.0001)\n",
    "scheduler = torch.optim.lr_scheduler.ReduceLROnPlateau(optimizer,\n",
    "                                                       factor = 0.2,\n",
    "                                                       patience = 3,\n",
    "                                                       verbose = True)\n",
    "\n",
    "shuffle_trainloader = False\n",
    "train_batch_size = 256\n",
    "shuffle_validloader = False\n",
    "valid_batch_size = 256\n",
    "epoch = 200\n",
    "verbose = True"
   ]
  },
  {
   "cell_type": "code",
   "execution_count": 13,
   "id": "fbb37a35-f57d-453d-ba06-7f192ab23070",
   "metadata": {},
   "outputs": [],
   "source": [
    "device = torch.device(\"cpu\")\n",
    "train_config = TrainingConfig(Model,\n",
    "                              criterion,\n",
    "                              optimizer,\n",
    "                              scheduler,\n",
    "                              device,\n",
    "                              shuffle_trainloader,\n",
    "                              train_batch_size,\n",
    "                              shuffle_validloader,\n",
    "                              valid_batch_size,\n",
    "                              epoch,\n",
    "                              verbose,\n",
    "                             )"
   ]
  },
  {
   "cell_type": "code",
   "execution_count": 14,
   "id": "5836109b-29ba-4427-8ceb-151bce7900a9",
   "metadata": {},
   "outputs": [],
   "source": [
    "from tqdm import tqdm\n",
    "import torch\n",
    "import os\n",
    "from torch.utils.tensorboard import SummaryWriter\\\n",
    "from tqdm import tqdm\n",
    "class AverageMeter:\n",
    "    \"\"\"\n",
    "    Computes and stores the average and current value\n",
    "    \"\"\"\n",
    "\n",
    "    def __init__(self):\n",
    "        self.reset()\n",
    "\n",
    "    def reset(self):\n",
    "        self.val = 0\n",
    "        self.avg = 0\n",
    "        self.sum = 0\n",
    "        self.count = 0\n",
    "\n",
    "    def update(self, val, n=1):\n",
    "        self.val = val\n",
    "        self.sum += val * n\n",
    "        self.count += n\n",
    "        self.avg = self.sum / self.count\n",
    "\n",
    "\n",
    "\n",
    "class Training():\n",
    "    def __init__(self,train_config):\n",
    "        self.train_config = train_config\n",
    "        \n",
    "    def train_fn(self,model,train_loader):\n",
    "        self.train_config.model.train()\n",
    "        tr_loss = 0\n",
    "        counter = 0\n",
    "        losses = AverageMeter()\n",
    "        tqt = tqdm(enumerate(train_loader),total = len(train_loader))\n",
    "        for index,train_batch in tqt:\n",
    "            data = train_batch[\"data\"].to(self.train_config.device)\n",
    "            target = train_batch[\"target\"].to(self.train_config.device)\n",
    "            self.train_config.optimizer.zero_grad()\n",
    "            pred_target = model(data)\n",
    "            train_loss = self.train_config.criterion(pred_target,target)\n",
    "            tr_loss += train_loss.item()\n",
    "            #backward probagation\n",
    "            train_loss.backward()\n",
    "            self.train_config.optimizer.step()\n",
    "            counter = counter + 1\n",
    "            losses.update(train_loss.item(),pred_target.size(0))\n",
    "            tqt.set_postfix(loss = losses.avg, batch_number = index)\n",
    "        return tr_loss/counter\n",
    "                   \n",
    "    def valid_fn(self,model,validation_loader):\n",
    "        self.train_config.model.eval()\n",
    "        val_loss = 0\n",
    "        counter = 0\n",
    "        losses = AverageMeter()\n",
    "        tqt = tqdm(enumerate(validation_loader),total = len(validation_loader))\n",
    "        with torch.no_grad():\n",
    "            for index, valid_batch in tqt :\n",
    "                data = valid_batch[\"data\"].to(self.train_config.device)\n",
    "                target = valid_batch[\"target\"].to(self.train_config.device)\n",
    "                pred_target = model(data)\n",
    "                validation_loss = self.train_config.criterion(pred_target,target)\n",
    "                val_loss += validation_loss.item()        \n",
    "                counter = counter + 1\n",
    "                losses.update(train_loss.item(),pred_target.size(0))\n",
    "                tqt.set_postfix(loss = losses.avg, batch_number = index)\n",
    "        return val_loss/counter\n",
    "    \n",
    "    \n",
    "    def fit(self,train_dataset,valid_dataset):\n",
    "        \n",
    "        train_data_loader = torch.utils.data.DataLoader(train_dataset,\n",
    "                                                        shuffle = self.train_config.shuffle_trainloader,\n",
    "                                                        batch_size = self.train_config.train_batch_size,\n",
    "                                                        num_workers = 4,\n",
    "                                                       )\n",
    "        valid_data_loader = torch.utils.data.DataLoader(valid_dataset,\n",
    "                                                        shuffle = self.train_config.shuffle_validloader,\n",
    "                                                        batch_size = self.train_config.valid_batch_size,\n",
    "                                                        num_workers = 4,\n",
    "                                                       )\n",
    "        \n",
    "        train_loss = []\n",
    "        valid_loss = []\n",
    "        best = 50000000\n",
    "        writer = SummaryWriter(f'runs/trainloss')\n",
    "        for epoch in range(self.train_config.epoch):\n",
    "            if self.train_config.verbose :\n",
    "                print(f\".........EPOCH {epoch}........\")\n",
    "            tr_loss = self.train_fn(self.train_config.model,train_data_loader)\n",
    "            train_loss.append(tr_loss)\n",
    "            if self.train_config.verbose :\n",
    "                print(f\".........Train Loss = {tr_loss}........\")\n",
    "            val_loss = self.valid_fn(self.train_config.model,valid_data_loader)\n",
    "            valid_loss.append(val_loss)\n",
    "            writer.add_scalar('Loss/train', tr_loss, epoch)\n",
    "            writer.add_scalar('Loss/validation', val_loss, epoch)\n",
    "            self.train_config.scheduler.step(val_loss)\n",
    "            if self.train_config.verbose:\n",
    "                print(f\"...........Validation Loss = {val_loss}.......\")\n",
    "                \n",
    "            if val_loss < best :\n",
    "                best = val_loss\n",
    "                patience = 0\n",
    "            else:\n",
    "                patience +=1\n",
    "                \n",
    "            if patience >= 5:\n",
    "                print(f\"Early Stopping on Epoch {epoch}\")\n",
    "                print(f\"Best Loss = {best}\")\n",
    "                break\n",
    "        PATH = os.path.join(\"weights\",\"model.pth\")\n",
    "        torch.save(self.train_config.model.state_dict(),PATH)\n",
    "        model.load_state_dict(torch.load(PATH))"
   ]
  },
  {
   "cell_type": "code",
   "execution_count": 15,
   "id": "92cd46ea-b0b8-45d4-9887-1eb9063af770",
   "metadata": {},
   "outputs": [
    {
     "name": "stdout",
     "output_type": "stream",
     "text": [
      ".........EPOCH 0........\n"
     ]
    },
    {
     "name": "stderr",
     "output_type": "stream",
     "text": [
      "100%|██████████| 137/137 [00:08<00:00, 15.88it/s, batch_number=136, loss=252]"
     ]
    },
    {
     "name": "stdout",
     "output_type": "stream",
     "text": [
      ".........Train Loss = 531.3140406921832........\n"
     ]
    },
    {
     "name": "stderr",
     "output_type": "stream",
     "text": [
      "\n",
      "100%|██████████| 35/35 [00:01<00:00, 30.35it/s, batch_number=34, loss=221]"
     ]
    },
    {
     "name": "stdout",
     "output_type": "stream",
     "text": [
      "...........Validation Loss = 326.8982199532645.......\n",
      ".........EPOCH 1........\n"
     ]
    },
    {
     "name": "stderr",
     "output_type": "stream",
     "text": [
      "\n",
      "100%|██████████| 137/137 [00:08<00:00, 15.65it/s, batch_number=136, loss=246]"
     ]
    },
    {
     "name": "stdout",
     "output_type": "stream",
     "text": [
      ".........Train Loss = 351.6884220986471........\n"
     ]
    },
    {
     "name": "stderr",
     "output_type": "stream",
     "text": [
      "\n",
      "100%|██████████| 35/35 [00:00<00:00, 35.76it/s, batch_number=34, loss=216]"
     ]
    },
    {
     "name": "stdout",
     "output_type": "stream",
     "text": [
      "...........Validation Loss = 321.25198146275113.......\n",
      ".........EPOCH 2........\n"
     ]
    },
    {
     "name": "stderr",
     "output_type": "stream",
     "text": [
      "\n",
      "100%|██████████| 137/137 [00:08<00:00, 16.08it/s, batch_number=136, loss=241]"
     ]
    },
    {
     "name": "stdout",
     "output_type": "stream",
     "text": [
      ".........Train Loss = 347.0261016622947........\n"
     ]
    },
    {
     "name": "stderr",
     "output_type": "stream",
     "text": [
      "\n",
      "100%|██████████| 35/35 [00:00<00:00, 37.14it/s, batch_number=34, loss=212]"
     ]
    },
    {
     "name": "stdout",
     "output_type": "stream",
     "text": [
      "...........Validation Loss = 316.3982639857701.......\n",
      ".........EPOCH 3........\n"
     ]
    },
    {
     "name": "stderr",
     "output_type": "stream",
     "text": [
      "\n",
      "100%|██████████| 137/137 [00:08<00:00, 15.43it/s, batch_number=136, loss=249]"
     ]
    },
    {
     "name": "stdout",
     "output_type": "stream",
     "text": [
      ".........Train Loss = 345.27695337003166........\n"
     ]
    },
    {
     "name": "stderr",
     "output_type": "stream",
     "text": [
      "\n",
      "100%|██████████| 35/35 [00:01<00:00, 34.28it/s, batch_number=34, loss=218]"
     ]
    },
    {
     "name": "stdout",
     "output_type": "stream",
     "text": [
      "...........Validation Loss = 323.6748234340123.......\n",
      ".........EPOCH 4........\n"
     ]
    },
    {
     "name": "stderr",
     "output_type": "stream",
     "text": [
      "\n",
      "100%|██████████| 137/137 [00:08<00:00, 15.81it/s, batch_number=136, loss=247]"
     ]
    },
    {
     "name": "stdout",
     "output_type": "stream",
     "text": [
      ".........Train Loss = 344.61322077173384........\n"
     ]
    },
    {
     "name": "stderr",
     "output_type": "stream",
     "text": [
      "\n",
      "100%|██████████| 35/35 [00:00<00:00, 39.24it/s, batch_number=34, loss=213]"
     ]
    },
    {
     "name": "stdout",
     "output_type": "stream",
     "text": [
      "...........Validation Loss = 318.1793452671596.......\n",
      ".........EPOCH 5........\n"
     ]
    },
    {
     "name": "stderr",
     "output_type": "stream",
     "text": [
      "\n",
      "100%|██████████| 137/137 [00:08<00:00, 15.55it/s, batch_number=136, loss=245]"
     ]
    },
    {
     "name": "stdout",
     "output_type": "stream",
     "text": [
      ".........Train Loss = 343.20515419618926........\n"
     ]
    },
    {
     "name": "stderr",
     "output_type": "stream",
     "text": [
      "\n",
      "100%|██████████| 35/35 [00:01<00:00, 34.05it/s, batch_number=34, loss=214]\n"
     ]
    },
    {
     "name": "stdout",
     "output_type": "stream",
     "text": [
      "...........Validation Loss = 318.58743547712055.......\n",
      ".........EPOCH 6........\n"
     ]
    },
    {
     "name": "stderr",
     "output_type": "stream",
     "text": [
      "100%|██████████| 137/137 [00:09<00:00, 14.10it/s, batch_number=136, loss=243]"
     ]
    },
    {
     "name": "stdout",
     "output_type": "stream",
     "text": [
      ".........Train Loss = 343.5803043337634........\n"
     ]
    },
    {
     "name": "stderr",
     "output_type": "stream",
     "text": [
      "\n",
      "100%|██████████| 35/35 [00:00<00:00, 41.60it/s, batch_number=34, loss=215]"
     ]
    },
    {
     "name": "stdout",
     "output_type": "stream",
     "text": [
      "Epoch     7: reducing learning rate of group 0 to 2.0000e-05.\n",
      "...........Validation Loss = 320.1069148472377.......\n",
      ".........EPOCH 7........\n"
     ]
    },
    {
     "name": "stderr",
     "output_type": "stream",
     "text": [
      "\n",
      "100%|██████████| 137/137 [00:09<00:00, 14.93it/s, batch_number=136, loss=245]"
     ]
    },
    {
     "name": "stdout",
     "output_type": "stream",
     "text": [
      ".........Train Loss = 343.24494254676097........\n"
     ]
    },
    {
     "name": "stderr",
     "output_type": "stream",
     "text": [
      "\n",
      "100%|██████████| 35/35 [00:00<00:00, 35.20it/s, batch_number=34, loss=211]"
     ]
    },
    {
     "name": "stdout",
     "output_type": "stream",
     "text": [
      "...........Validation Loss = 315.4570561000279.......\n",
      ".........EPOCH 8........\n"
     ]
    },
    {
     "name": "stderr",
     "output_type": "stream",
     "text": [
      "\n",
      "100%|██████████| 137/137 [00:09<00:00, 14.96it/s, batch_number=136, loss=247]"
     ]
    },
    {
     "name": "stdout",
     "output_type": "stream",
     "text": [
      ".........Train Loss = 343.29475959722146........\n"
     ]
    },
    {
     "name": "stderr",
     "output_type": "stream",
     "text": [
      "\n",
      "100%|██████████| 35/35 [00:01<00:00, 33.51it/s, batch_number=34, loss=210]"
     ]
    },
    {
     "name": "stdout",
     "output_type": "stream",
     "text": [
      "...........Validation Loss = 314.2786669049944.......\n",
      ".........EPOCH 9........\n"
     ]
    },
    {
     "name": "stderr",
     "output_type": "stream",
     "text": [
      "\n",
      "100%|██████████| 137/137 [00:09<00:00, 14.19it/s, batch_number=136, loss=243]"
     ]
    },
    {
     "name": "stdout",
     "output_type": "stream",
     "text": [
      ".........Train Loss = 342.6803336039077........\n"
     ]
    },
    {
     "name": "stderr",
     "output_type": "stream",
     "text": [
      "\n",
      "100%|██████████| 35/35 [00:00<00:00, 36.62it/s, batch_number=34, loss=211]"
     ]
    },
    {
     "name": "stdout",
     "output_type": "stream",
     "text": [
      "...........Validation Loss = 315.12031991141185.......\n",
      ".........EPOCH 10........\n"
     ]
    },
    {
     "name": "stderr",
     "output_type": "stream",
     "text": [
      "\n",
      "100%|██████████| 137/137 [00:09<00:00, 14.92it/s, batch_number=136, loss=240]"
     ]
    },
    {
     "name": "stdout",
     "output_type": "stream",
     "text": [
      ".........Train Loss = 343.1208110725793........\n"
     ]
    },
    {
     "name": "stderr",
     "output_type": "stream",
     "text": [
      "\n",
      "100%|██████████| 35/35 [00:00<00:00, 37.09it/s, batch_number=34, loss=211]"
     ]
    },
    {
     "name": "stdout",
     "output_type": "stream",
     "text": [
      "...........Validation Loss = 316.10677141462054.......\n",
      ".........EPOCH 11........\n"
     ]
    },
    {
     "name": "stderr",
     "output_type": "stream",
     "text": [
      "\n",
      "100%|██████████| 137/137 [00:08<00:00, 16.25it/s, batch_number=136, loss=248]"
     ]
    },
    {
     "name": "stdout",
     "output_type": "stream",
     "text": [
      ".........Train Loss = 343.02683664586425........\n"
     ]
    },
    {
     "name": "stderr",
     "output_type": "stream",
     "text": [
      "\n",
      "100%|██████████| 35/35 [00:01<00:00, 33.97it/s, batch_number=34, loss=210]"
     ]
    },
    {
     "name": "stdout",
     "output_type": "stream",
     "text": [
      "...........Validation Loss = 314.9120548793248.......\n",
      ".........EPOCH 12........\n"
     ]
    },
    {
     "name": "stderr",
     "output_type": "stream",
     "text": [
      "\n",
      "100%|██████████| 137/137 [00:08<00:00, 15.28it/s, batch_number=136, loss=250]"
     ]
    },
    {
     "name": "stdout",
     "output_type": "stream",
     "text": [
      ".........Train Loss = 342.62291968129847........\n"
     ]
    },
    {
     "name": "stderr",
     "output_type": "stream",
     "text": [
      "\n",
      "100%|██████████| 35/35 [00:00<00:00, 40.85it/s, batch_number=34, loss=211]"
     ]
    },
    {
     "name": "stdout",
     "output_type": "stream",
     "text": [
      "Epoch    13: reducing learning rate of group 0 to 4.0000e-06.\n",
      "...........Validation Loss = 315.7189697265625.......\n",
      ".........EPOCH 13........\n"
     ]
    },
    {
     "name": "stderr",
     "output_type": "stream",
     "text": [
      "\n",
      "100%|██████████| 137/137 [00:07<00:00, 19.20it/s, batch_number=136, loss=245]"
     ]
    },
    {
     "name": "stdout",
     "output_type": "stream",
     "text": [
      ".........Train Loss = 343.01569249508157........\n"
     ]
    },
    {
     "name": "stderr",
     "output_type": "stream",
     "text": [
      "\n",
      "100%|██████████| 35/35 [00:00<00:00, 41.37it/s, batch_number=34, loss=211]\n"
     ]
    },
    {
     "name": "stdout",
     "output_type": "stream",
     "text": [
      "...........Validation Loss = 315.4203844342913.......\n",
      "Early Stopping on Epoch 13\n",
      "Best Loss = 314.2786669049944\n"
     ]
    },
    {
     "ename": "FileNotFoundError",
     "evalue": "[Errno 2] No such file or directory: 'Desktop/kaustcode/Packages/models/src/models/weights/model.pth'",
     "output_type": "error",
     "traceback": [
      "\u001b[0;31m---------------------------------------------------------------------------\u001b[0m",
      "\u001b[0;31mFileNotFoundError\u001b[0m                         Traceback (most recent call last)",
      "\u001b[0;32m<ipython-input-15-10ee74695581>\u001b[0m in \u001b[0;36m<module>\u001b[0;34m\u001b[0m\n\u001b[1;32m      1\u001b[0m \u001b[0mtraining\u001b[0m \u001b[0;34m=\u001b[0m \u001b[0mTraining\u001b[0m\u001b[0;34m(\u001b[0m\u001b[0mtrain_config\u001b[0m\u001b[0;34m)\u001b[0m\u001b[0;34m\u001b[0m\u001b[0;34m\u001b[0m\u001b[0m\n\u001b[0;32m----> 2\u001b[0;31m \u001b[0mtraining\u001b[0m\u001b[0;34m.\u001b[0m\u001b[0mfit\u001b[0m\u001b[0;34m(\u001b[0m\u001b[0mtrainset\u001b[0m\u001b[0;34m,\u001b[0m\u001b[0mvalidset\u001b[0m\u001b[0;34m)\u001b[0m\u001b[0;34m\u001b[0m\u001b[0;34m\u001b[0m\u001b[0m\n\u001b[0m",
      "\u001b[0;32m<ipython-input-14-ef62200f9083>\u001b[0m in \u001b[0;36mfit\u001b[0;34m(self, train_dataset, valid_dataset)\u001b[0m\n\u001b[1;32m     88\u001b[0m                 \u001b[0;32mbreak\u001b[0m\u001b[0;34m\u001b[0m\u001b[0;34m\u001b[0m\u001b[0m\n\u001b[1;32m     89\u001b[0m         \u001b[0mPATH\u001b[0m \u001b[0;34m=\u001b[0m \u001b[0mos\u001b[0m\u001b[0;34m.\u001b[0m\u001b[0mpath\u001b[0m\u001b[0;34m.\u001b[0m\u001b[0mjoin\u001b[0m\u001b[0;34m(\u001b[0m\u001b[0mMODELS_WEIGHTS\u001b[0m\u001b[0;34m,\u001b[0m\u001b[0;34m\"model.pth\"\u001b[0m\u001b[0;34m)\u001b[0m\u001b[0;34m\u001b[0m\u001b[0;34m\u001b[0m\u001b[0m\n\u001b[0;32m---> 90\u001b[0;31m         \u001b[0mtorch\u001b[0m\u001b[0;34m.\u001b[0m\u001b[0msave\u001b[0m\u001b[0;34m(\u001b[0m\u001b[0mself\u001b[0m\u001b[0;34m.\u001b[0m\u001b[0mtrain_config\u001b[0m\u001b[0;34m.\u001b[0m\u001b[0mmodel\u001b[0m\u001b[0;34m.\u001b[0m\u001b[0mstate_dict\u001b[0m\u001b[0;34m(\u001b[0m\u001b[0;34m)\u001b[0m\u001b[0;34m,\u001b[0m\u001b[0mPATH\u001b[0m\u001b[0;34m)\u001b[0m\u001b[0;34m\u001b[0m\u001b[0;34m\u001b[0m\u001b[0m\n\u001b[0m\u001b[1;32m     91\u001b[0m         \u001b[0mmodel\u001b[0m\u001b[0;34m.\u001b[0m\u001b[0mload_state_dict\u001b[0m\u001b[0;34m(\u001b[0m\u001b[0mtorch\u001b[0m\u001b[0;34m.\u001b[0m\u001b[0mload\u001b[0m\u001b[0;34m(\u001b[0m\u001b[0mPATH\u001b[0m\u001b[0;34m)\u001b[0m\u001b[0;34m)\u001b[0m\u001b[0;34m\u001b[0m\u001b[0;34m\u001b[0m\u001b[0m\n",
      "\u001b[0;32m~/miniconda3/lib/python3.9/site-packages/torch/serialization.py\u001b[0m in \u001b[0;36msave\u001b[0;34m(obj, f, pickle_module, pickle_protocol, _use_new_zipfile_serialization)\u001b[0m\n\u001b[1;32m    374\u001b[0m     \u001b[0m_check_dill_version\u001b[0m\u001b[0;34m(\u001b[0m\u001b[0mpickle_module\u001b[0m\u001b[0;34m)\u001b[0m\u001b[0;34m\u001b[0m\u001b[0;34m\u001b[0m\u001b[0m\n\u001b[1;32m    375\u001b[0m \u001b[0;34m\u001b[0m\u001b[0m\n\u001b[0;32m--> 376\u001b[0;31m     \u001b[0;32mwith\u001b[0m \u001b[0m_open_file_like\u001b[0m\u001b[0;34m(\u001b[0m\u001b[0mf\u001b[0m\u001b[0;34m,\u001b[0m \u001b[0;34m'wb'\u001b[0m\u001b[0;34m)\u001b[0m \u001b[0;32mas\u001b[0m \u001b[0mopened_file\u001b[0m\u001b[0;34m:\u001b[0m\u001b[0;34m\u001b[0m\u001b[0;34m\u001b[0m\u001b[0m\n\u001b[0m\u001b[1;32m    377\u001b[0m         \u001b[0;32mif\u001b[0m \u001b[0m_use_new_zipfile_serialization\u001b[0m\u001b[0;34m:\u001b[0m\u001b[0;34m\u001b[0m\u001b[0;34m\u001b[0m\u001b[0m\n\u001b[1;32m    378\u001b[0m             \u001b[0;32mwith\u001b[0m \u001b[0m_open_zipfile_writer\u001b[0m\u001b[0;34m(\u001b[0m\u001b[0mopened_file\u001b[0m\u001b[0;34m)\u001b[0m \u001b[0;32mas\u001b[0m \u001b[0mopened_zipfile\u001b[0m\u001b[0;34m:\u001b[0m\u001b[0;34m\u001b[0m\u001b[0;34m\u001b[0m\u001b[0m\n",
      "\u001b[0;32m~/miniconda3/lib/python3.9/site-packages/torch/serialization.py\u001b[0m in \u001b[0;36m_open_file_like\u001b[0;34m(name_or_buffer, mode)\u001b[0m\n\u001b[1;32m    228\u001b[0m \u001b[0;32mdef\u001b[0m \u001b[0m_open_file_like\u001b[0m\u001b[0;34m(\u001b[0m\u001b[0mname_or_buffer\u001b[0m\u001b[0;34m,\u001b[0m \u001b[0mmode\u001b[0m\u001b[0;34m)\u001b[0m\u001b[0;34m:\u001b[0m\u001b[0;34m\u001b[0m\u001b[0;34m\u001b[0m\u001b[0m\n\u001b[1;32m    229\u001b[0m     \u001b[0;32mif\u001b[0m \u001b[0m_is_path\u001b[0m\u001b[0;34m(\u001b[0m\u001b[0mname_or_buffer\u001b[0m\u001b[0;34m)\u001b[0m\u001b[0;34m:\u001b[0m\u001b[0;34m\u001b[0m\u001b[0;34m\u001b[0m\u001b[0m\n\u001b[0;32m--> 230\u001b[0;31m         \u001b[0;32mreturn\u001b[0m \u001b[0m_open_file\u001b[0m\u001b[0;34m(\u001b[0m\u001b[0mname_or_buffer\u001b[0m\u001b[0;34m,\u001b[0m \u001b[0mmode\u001b[0m\u001b[0;34m)\u001b[0m\u001b[0;34m\u001b[0m\u001b[0;34m\u001b[0m\u001b[0m\n\u001b[0m\u001b[1;32m    231\u001b[0m     \u001b[0;32melse\u001b[0m\u001b[0;34m:\u001b[0m\u001b[0;34m\u001b[0m\u001b[0;34m\u001b[0m\u001b[0m\n\u001b[1;32m    232\u001b[0m         \u001b[0;32mif\u001b[0m \u001b[0;34m'w'\u001b[0m \u001b[0;32min\u001b[0m \u001b[0mmode\u001b[0m\u001b[0;34m:\u001b[0m\u001b[0;34m\u001b[0m\u001b[0;34m\u001b[0m\u001b[0m\n",
      "\u001b[0;32m~/miniconda3/lib/python3.9/site-packages/torch/serialization.py\u001b[0m in \u001b[0;36m__init__\u001b[0;34m(self, name, mode)\u001b[0m\n\u001b[1;32m    209\u001b[0m \u001b[0;32mclass\u001b[0m \u001b[0m_open_file\u001b[0m\u001b[0;34m(\u001b[0m\u001b[0m_opener\u001b[0m\u001b[0;34m)\u001b[0m\u001b[0;34m:\u001b[0m\u001b[0;34m\u001b[0m\u001b[0;34m\u001b[0m\u001b[0m\n\u001b[1;32m    210\u001b[0m     \u001b[0;32mdef\u001b[0m \u001b[0m__init__\u001b[0m\u001b[0;34m(\u001b[0m\u001b[0mself\u001b[0m\u001b[0;34m,\u001b[0m \u001b[0mname\u001b[0m\u001b[0;34m,\u001b[0m \u001b[0mmode\u001b[0m\u001b[0;34m)\u001b[0m\u001b[0;34m:\u001b[0m\u001b[0;34m\u001b[0m\u001b[0;34m\u001b[0m\u001b[0m\n\u001b[0;32m--> 211\u001b[0;31m         \u001b[0msuper\u001b[0m\u001b[0;34m(\u001b[0m\u001b[0m_open_file\u001b[0m\u001b[0;34m,\u001b[0m \u001b[0mself\u001b[0m\u001b[0;34m)\u001b[0m\u001b[0;34m.\u001b[0m\u001b[0m__init__\u001b[0m\u001b[0;34m(\u001b[0m\u001b[0mopen\u001b[0m\u001b[0;34m(\u001b[0m\u001b[0mname\u001b[0m\u001b[0;34m,\u001b[0m \u001b[0mmode\u001b[0m\u001b[0;34m)\u001b[0m\u001b[0;34m)\u001b[0m\u001b[0;34m\u001b[0m\u001b[0;34m\u001b[0m\u001b[0m\n\u001b[0m\u001b[1;32m    212\u001b[0m \u001b[0;34m\u001b[0m\u001b[0m\n\u001b[1;32m    213\u001b[0m     \u001b[0;32mdef\u001b[0m \u001b[0m__exit__\u001b[0m\u001b[0;34m(\u001b[0m\u001b[0mself\u001b[0m\u001b[0;34m,\u001b[0m \u001b[0;34m*\u001b[0m\u001b[0margs\u001b[0m\u001b[0;34m)\u001b[0m\u001b[0;34m:\u001b[0m\u001b[0;34m\u001b[0m\u001b[0;34m\u001b[0m\u001b[0m\n",
      "\u001b[0;31mFileNotFoundError\u001b[0m: [Errno 2] No such file or directory: 'Desktop/kaustcode/Packages/models/src/models/weights/model.pth'"
     ]
    }
   ],
   "source": [
    "training = Training(train_config)\n",
    "training.fit(trainset,validset)"
   ]
  },
  {
   "cell_type": "code",
   "execution_count": 16,
   "id": "9ff7991f-823d-4e8d-a540-07295bfe0df3",
   "metadata": {},
   "outputs": [],
   "source": [
    "def predict(model,dataset,device):\n",
    "    model.eval()\n",
    "    testloader = torch.utils.data.DataLoader(dataset,\n",
    "                                             shuffle = True,\n",
    "                                             batch_size = 256,\n",
    "                                             num_workers = 4)\n",
    "    tqt = tqdm(enumerate(testloader),total = len(testloader))\n",
    "    with torch.no_grad():\n",
    "        for index,test_batch in tqt:\n",
    "            testdata = test_batch[\"data\"].to(device)\n",
    "            testtarget = test_batch[\"target\"].to(device)\n",
    "            target = model(testdata)\n",
    "            if index == 0:\n",
    "                out = target\n",
    "            else :\n",
    "                out = torch.cat([out,target],dim = 0)\n",
    "        return out.cpu().detach().numpy()"
   ]
  },
  {
   "cell_type": "code",
   "execution_count": 17,
   "id": "dff980cd-f385-4ec4-b9c8-537589556ef3",
   "metadata": {},
   "outputs": [],
   "source": [
    "device = torch.device(\"cpu\")"
   ]
  },
  {
   "cell_type": "code",
   "execution_count": 18,
   "id": "355ff80b-c46d-43ed-9db9-5bc955ba3b1c",
   "metadata": {},
   "outputs": [
    {
     "name": "stderr",
     "output_type": "stream",
     "text": [
      "100%|██████████| 18/18 [00:00<00:00, 26.03it/s]\n"
     ]
    }
   ],
   "source": [
    "results = predict(Model,testset,device)"
   ]
  },
  {
   "cell_type": "code",
   "execution_count": 19,
   "id": "ee356312-3e82-43a8-865e-cfc5c2d2eaa2",
   "metadata": {},
   "outputs": [
    {
     "data": {
      "text/plain": [
       "<matplotlib.legend.Legend at 0x14c750333f10>"
      ]
     },
     "execution_count": 19,
     "metadata": {},
     "output_type": "execute_result"
    },
    {
     "data": {
      "image/png": "[encoded data removed]",
      "text/plain": [
       "<Figure size 1440x576 with 1 Axes>"
      ]
     },
     "metadata": {
      "needs_background": "light"
     },
     "output_type": "display_data"
    }
   ],
   "source": [
    "import matplotlib.pyplot as plt\n",
    "plt.figure(figsize = (20,8))\n",
    "plt.plot(results[:100],label = \"Predicted\")\n",
    "plt.plot(testset.new_data[\"GHI(W/m2)\"].values[:100],label = \"True\")\n",
    "plt.legend()"
   ]
  },
  {
   "cell_type": "code",
   "execution_count": null,
   "id": "28f38f00-838c-4ae0-986b-333cd8d8fae1",
   "metadata": {},
   "outputs": [],
   "source": []
  }
 ],
 "metadata": {
  "kernelspec": {
   "display_name": "Python 3 (ipykernel)",
   "language": "python",
   "name": "python3"
  },
  "language_info": {
   "codemirror_mode": {
    "name": "ipython",
    "version": 3
   },
   "file_extension": ".py",
   "mimetype": "text/x-python",
   "name": "python",
   "nbconvert_exporter": "python",
   "pygments_lexer": "ipython3",
   "version": "3.9.5"
  }
 },
 "nbformat": 4,
 "nbformat_minor": 5
}
