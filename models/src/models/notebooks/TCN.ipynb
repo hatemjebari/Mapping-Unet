{
 "cells": [
  {
   "cell_type": "code",
   "execution_count": 1,
   "id": "b0dafa31-567a-4cac-909e-403e3bcb674d",
   "metadata": {},
   "outputs": [],
   "source": [
    "import pandas as pd\n",
    "import torch\n",
    "import torch.nn as nn\n",
    "import numpy as np\n",
    "import warnings\n",
    "warnings.filterwarnings(\"ignore\")\n",
    "\n",
    "from torch.nn.utils import weight_norm\n",
    "import torch.nn.init as weight_init\n",
    "import random\n",
    "def setup_seed(seed):\n",
    "    np.random.seed(seed)\n",
    "    random.seed(seed)\n",
    "    torch.manual_seed(seed)  # cpu\n",
    "    torch.cuda.manual_seed_all(seed)  \n",
    "    torch.backends.cudnn.deterministic = True  \n",
    "    torch.backends.cudnn.benchmark = True \n",
    "setup_seed(15)"
   ]
  },
  {
   "cell_type": "code",
   "execution_count": 2,
   "id": "329c745d-953f-43a3-8da1-a5929aca2546",
   "metadata": {},
   "outputs": [],
   "source": [
    "import os\n",
    "MODELS_WEIGHTS = os.environ.get(\"MODELS_WEIGHTS\",\"/home/resifis/Desktop/kaustcode/Packages/models/weights/\")\n",
    "\n",
    "\n",
    "class TrainingConfig():\n",
    "    def __init__(self,\n",
    "                 model,\n",
    "                 criterion,\n",
    "                 optimizer,\n",
    "                 scheduler,\n",
    "                 device,\n",
    "                 shuffle_trainloader,\n",
    "                 train_batch_size,\n",
    "                 shuffle_validloader,\n",
    "                 valid_batch_size,\n",
    "                 epoch,\n",
    "                 verbose,\n",
    "                 ):\n",
    "        self.model = model.to(device)\n",
    "        self.criterion = criterion\n",
    "        self.optimizer = optimizer\n",
    "        self.scheduler = scheduler\n",
    "        self.device = device\n",
    "        self.shuffle_trainloader = shuffle_trainloader\n",
    "        self.train_batch_size = train_batch_size\n",
    "        self.shuffle_validloader = shuffle_validloader\n",
    "        self.valid_batch_size = valid_batch_size\n",
    "        self.epoch = epoch\n",
    "        self.verbose = verbose\n",
    "        \n",
    "        \n",
    "    def _initialize_weights(self,m):\n",
    "        if isinstance(m, nn.Conv3d):\n",
    "            nn.init.kaiming_normal_(\n",
    "                m.weight, mode='fan_out', nonlinearity='relu')\n",
    "            if m.bias is not None:\n",
    "                nn.init.constant_(m.bias, 0)\n",
    "        elif isinstance(m, nn.BatchNorm3d):\n",
    "            nn.init.constant_(m.weight, 1)\n",
    "            nn.init.constant_(m.bias, 0)\n",
    "        elif isinstance(m, nn.Linear):\n",
    "            nn.init.normal_(m.weight, 0, 0.01)\n",
    "            nn.init.constant_(m.bias, 0)\n",
    "        elif isinstance(m, nn.MaxPool3d):\n",
    "            nn.init.normal_(m.weight, 0, 0.01)\n",
    "            nn.init.constant_(m.bias, 0)"
   ]
  },
  {
   "cell_type": "code",
   "execution_count": 3,
   "id": "c598cc19-8979-4088-96ad-5d27d2443161",
   "metadata": {},
   "outputs": [],
   "source": [
    "import torch\n",
    "import torch.nn as nn\n",
    "import torch.nn.functional as F\n",
    "from torch.autograd import Variable\n",
    "import numpy as np\n",
    "from math import exp\n",
    "\n",
    "def gaussian(window_size, sigma):\n",
    "    gauss = torch.Tensor([exp(-(x - window_size//2)**2/float(2*sigma**2)) for x in range(window_size)])\n",
    "    return gauss/gauss.sum()\n",
    "\n",
    "\n",
    "def create_window_3D(window_size, channel):\n",
    "    _1D_window = gaussian(window_size, 1.5).unsqueeze(1)\n",
    "    _2D_window = _1D_window.mm(_1D_window.t())\n",
    "    _3D_window = _1D_window.mm(_2D_window.reshape(1, -1)).reshape(window_size, window_size, window_size).float().unsqueeze(0).unsqueeze(0)\n",
    "    window = Variable(_3D_window.expand(channel, 1, window_size, window_size, window_size).contiguous())\n",
    "    return window\n",
    "    \n",
    "def _ssim_3D(img1, img2, window, window_size, channel, size_average = True):\n",
    "    mu1 = F.conv3d(img1, window, padding = window_size//2, groups = channel)\n",
    "    mu2 = F.conv3d(img2, window, padding = window_size//2, groups = channel)\n",
    "\n",
    "    mu1_sq = mu1.pow(2)\n",
    "    mu2_sq = mu2.pow(2)\n",
    "\n",
    "    mu1_mu2 = mu1*mu2\n",
    "\n",
    "    sigma1_sq = F.conv3d(img1*img1, window, padding = window_size//2, groups = channel) - mu1_sq\n",
    "    sigma2_sq = F.conv3d(img2*img2, window, padding = window_size//2, groups = channel) - mu2_sq\n",
    "    sigma12 = F.conv3d(img1*img2, window, padding = window_size//2, groups = channel) - mu1_mu2\n",
    "\n",
    "    C1 = 0.01**2\n",
    "    C2 = 0.03**2\n",
    "\n",
    "    ssim_map = ((2*mu1_mu2 + C1)*(2*sigma12 + C2))/((mu1_sq + mu2_sq + C1)*(sigma1_sq + sigma2_sq + C2))\n",
    "\n",
    "    if size_average:\n",
    "        return ssim_map.mean()\n",
    "    else:\n",
    "        return ssim_map.mean(1).mean(1).mean(1)\n",
    "    \n",
    "\n",
    "\n",
    "class SSIM3D(torch.nn.Module):\n",
    "    def __init__(self, window_size = 11, size_average = True):\n",
    "        super(SSIM3D, self).__init__()\n",
    "        self.window_size = window_size\n",
    "        self.size_average = size_average\n",
    "        self.channel = 1\n",
    "        self.window = create_window_3D(window_size, self.channel)\n",
    "\n",
    "    def forward(self, img1, img2):\n",
    "        (_, channel, _, _, _) = img1.size()\n",
    "\n",
    "        if channel == self.channel and self.window.data.type() == img1.data.type():\n",
    "            window = self.window\n",
    "        else:\n",
    "            window = create_window_3D(self.window_size, channel)\n",
    "            \n",
    "            if img1.is_cuda:\n",
    "                window = window.cuda(img1.get_device())\n",
    "            window = window.type_as(img1)\n",
    "            \n",
    "            self.window = window\n",
    "            self.channel = channel\n",
    "\n",
    "\n",
    "        return _ssim_3D(img1, img2, window, self.window_size, channel, self.size_average)\n",
    "    \n",
    "    \n",
    "    \n",
    "    \n",
    "class PSNR(torch.nn.Module):\n",
    "    def __init__(self):\n",
    "        super(PSNR,self).__init__()\n",
    "        \n",
    "    def _mse(self,im1,im2):\n",
    "        mse = torch.nn.MSELoss()\n",
    "        return mse(im1,im2)\n",
    "    def forward(self,im1,im2):\n",
    "        mse_loss = self._mse(im1,im2)\n",
    "        max_ = im2.max()\n",
    "        psnr_loss = 10 * torch.log10((max_**2)/mse_loss)\n",
    "        return -psnr_loss\n",
    "    \n",
    "    \n",
    "class Loss(nn.Module):\n",
    "    def __init__(self,loss_name):\n",
    "        super(Loss,self).__init__()\n",
    "        self.mse = nn.MSELoss()\n",
    "        self.l1  = nn.L1Loss()\n",
    "        self.loss_name = loss_name\n",
    "        self.psnr = PSNR()\n",
    "        self.ssim = SSIM3D(window_size = 11)\n",
    "        \n",
    "    def forward(self,yhat,y):\n",
    "        if self.loss_name == \"RMSE\":\n",
    "            return torch.sqrt(self.mse(yhat,y))\n",
    "        elif self.loss_name == \"MSE\":\n",
    "            return self.mse(yhat,y)\n",
    "        elif self.loss_name == \"L1Loss\":\n",
    "            return self.l1(yhat,y)\n",
    "        elif self.loss_name == \"PSNR\":\n",
    "            return self.psnr(yhat,y)\n",
    "        elif self.loss_name == \"SSIM\":\n",
    "            return 1-self.ssim(yhat,y)"
   ]
  },
  {
   "cell_type": "code",
   "execution_count": 4,
   "id": "02646acd-1340-4c91-aa86-955e59604c7e",
   "metadata": {},
   "outputs": [],
   "source": [
    "class Dataset():\n",
    "    def __init__(self,data,window,cols):\n",
    "        self.window = window\n",
    "        self.data = data\n",
    "        self.cols = cols\n",
    "        self.new_data = Dataset.window_adder(self.data,self.window,self.cols)\n",
    "        self.new_data = self.new_data.dropna()\n",
    "        self.out = dict()\n",
    "        self.out[\"data\"] = Dataset.create_encoder(self.new_data,self.window,self.cols)\n",
    "        self.out[\"target\"] = torch.tensor(self.new_data[\"Ghi\"].values,dtype = torch.float)\n",
    "        \n",
    "    @staticmethod \n",
    "    def window_adder(input_data,window,cols):\n",
    "        data = input_data.copy()\n",
    "        for i in range(1,window):\n",
    "            for col in cols:\n",
    "                feature_name = f\"{col}(t = N - {i})\"\n",
    "                data[feature_name] = data[col].shift(i)\n",
    "        return data\n",
    "    @staticmethod           \n",
    "    def create_encoder(data,window,cols):\n",
    "        out = dict()\n",
    "        for col in cols:\n",
    "            feature_names = [f\"{col}(t = N - {i})\" for i in range(window-1,0,-1)]\n",
    "            out[col] = data[feature_names].values\n",
    "        x1 = torch.tensor(out[cols[0]],dtype = torch.float).unsqueeze(2)\n",
    "        for feat in cols[1:]:\n",
    "            x2 = torch.tensor(out[feat],dtype=torch.float).unsqueeze(2)\n",
    "            x1 = torch.cat([x1,x2],dim = 2)\n",
    "        return x1\n",
    "    \n",
    "    def __len__(self):\n",
    "        return len(self.new_data)\n",
    "    \n",
    "    def __getitem__(self,item):\n",
    "        output = dict()\n",
    "        output[\"data\"]  = self.out[\"data\"][item]\n",
    "        output[\"target\"] = self.out[\"target\"][item]\n",
    "        return output\n",
    "        "
   ]
  },
  {
   "cell_type": "code",
   "execution_count": 5,
   "id": "b8328765-5641-4cf3-94e5-ac89e5aafaf9",
   "metadata": {},
   "outputs": [],
   "source": [
    "SPECPATH = os.environ.get(\"SPECPATH\",'/home/resifis/Desktop/kaustcode/Packages/processed_data/one_location.csv')"
   ]
  },
  {
   "cell_type": "code",
   "execution_count": 6,
   "id": "0e3db8d9-a4e3-4966-aae2-abed7980000d",
   "metadata": {},
   "outputs": [],
   "source": [
    "data = pd.read_csv(SPECPATH)\n",
    "data = data.set_index(\"Unnamed: 0\")"
   ]
  },
  {
   "cell_type": "code",
   "execution_count": 7,
   "id": "a45809b3-407f-4b39-8819-1708fe31532c",
   "metadata": {},
   "outputs": [
    {
     "data": {
      "text/html": [
       "<div>\n",
       "<style scoped>\n",
       "    .dataframe tbody tr th:only-of-type {\n",
       "        vertical-align: middle;\n",
       "    }\n",
       "\n",
       "    .dataframe tbody tr th {\n",
       "        vertical-align: top;\n",
       "    }\n",
       "\n",
       "    .dataframe thead th {\n",
       "        text-align: right;\n",
       "    }\n",
       "</style>\n",
       "<table border=\"1\" class=\"dataframe\">\n",
       "  <thead>\n",
       "    <tr style=\"text-align: right;\">\n",
       "      <th></th>\n",
       "      <th>aod</th>\n",
       "      <th>water_vapor</th>\n",
       "      <th>ozone</th>\n",
       "      <th>Ghi</th>\n",
       "      <th>cloud_high</th>\n",
       "      <th>cloud_low</th>\n",
       "      <th>cloud_med</th>\n",
       "    </tr>\n",
       "    <tr>\n",
       "      <th>Unnamed: 0</th>\n",
       "      <th></th>\n",
       "      <th></th>\n",
       "      <th></th>\n",
       "      <th></th>\n",
       "      <th></th>\n",
       "      <th></th>\n",
       "      <th></th>\n",
       "    </tr>\n",
       "  </thead>\n",
       "  <tbody>\n",
       "    <tr>\n",
       "      <th>0</th>\n",
       "      <td>0.101301</td>\n",
       "      <td>0.035554</td>\n",
       "      <td>0.000001</td>\n",
       "      <td>0.00000</td>\n",
       "      <td>0.0</td>\n",
       "      <td>0.0</td>\n",
       "      <td>0.0</td>\n",
       "    </tr>\n",
       "    <tr>\n",
       "      <th>1</th>\n",
       "      <td>0.101297</td>\n",
       "      <td>0.036175</td>\n",
       "      <td>0.000001</td>\n",
       "      <td>53.30044</td>\n",
       "      <td>0.0</td>\n",
       "      <td>0.0</td>\n",
       "      <td>0.0</td>\n",
       "    </tr>\n",
       "    <tr>\n",
       "      <th>2</th>\n",
       "      <td>0.101293</td>\n",
       "      <td>0.031825</td>\n",
       "      <td>0.000001</td>\n",
       "      <td>251.53429</td>\n",
       "      <td>0.0</td>\n",
       "      <td>0.0</td>\n",
       "      <td>0.0</td>\n",
       "    </tr>\n",
       "    <tr>\n",
       "      <th>3</th>\n",
       "      <td>0.101293</td>\n",
       "      <td>0.027508</td>\n",
       "      <td>0.000001</td>\n",
       "      <td>448.08932</td>\n",
       "      <td>0.0</td>\n",
       "      <td>0.0</td>\n",
       "      <td>0.0</td>\n",
       "    </tr>\n",
       "    <tr>\n",
       "      <th>4</th>\n",
       "      <td>0.101280</td>\n",
       "      <td>0.029158</td>\n",
       "      <td>0.000001</td>\n",
       "      <td>597.67535</td>\n",
       "      <td>0.0</td>\n",
       "      <td>0.0</td>\n",
       "      <td>0.0</td>\n",
       "    </tr>\n",
       "  </tbody>\n",
       "</table>\n",
       "</div>"
      ],
      "text/plain": [
       "                 aod  water_vapor     ozone        Ghi  cloud_high  cloud_low  \\\n",
       "Unnamed: 0                                                                      \n",
       "0           0.101301     0.035554  0.000001    0.00000         0.0        0.0   \n",
       "1           0.101297     0.036175  0.000001   53.30044         0.0        0.0   \n",
       "2           0.101293     0.031825  0.000001  251.53429         0.0        0.0   \n",
       "3           0.101293     0.027508  0.000001  448.08932         0.0        0.0   \n",
       "4           0.101280     0.029158  0.000001  597.67535         0.0        0.0   \n",
       "\n",
       "            cloud_med  \n",
       "Unnamed: 0             \n",
       "0                 0.0  \n",
       "1                 0.0  \n",
       "2                 0.0  \n",
       "3                 0.0  \n",
       "4                 0.0  "
      ]
     },
     "execution_count": 7,
     "metadata": {},
     "output_type": "execute_result"
    }
   ],
   "source": [
    "data.head()"
   ]
  },
  {
   "cell_type": "code",
   "execution_count": 8,
   "id": "1f1e62ed-3fda-47c5-bf18-35784a47419b",
   "metadata": {},
   "outputs": [],
   "source": [
    "data[\"mean_GHI_10\"] = data[\"Ghi\"].rolling(window = 10).mean()\n",
    "data[\"mean_GHI_15\"] = data[\"Ghi\"].rolling(window = 15).mean()\n",
    "data[\"std_GHI_10\"] = data[\"Ghi\"].rolling(window = 10).std()\n",
    "data[\"std_GHI_15\"] = data[\"Ghi\"].rolling(window = 15).std()\n",
    "data[\"mean_GHI_7\"] = data[\"Ghi\"].rolling(window = 7).mean()\n",
    "data[\"mean_GHI_5\"] = data[\"Ghi\"].rolling(window = 5).mean()\n",
    "data[\"std_GHI_7\"] = data[\"Ghi\"].rolling(window = 7).std()\n",
    "data[\"std_GHI_5\"] = data[\"Ghi\"].rolling(window = 5).std()\n",
    "data[\"mean_wv_10\"] = data[\"water_vapor\"].rolling(window = 10).mean()\n",
    "data[\"mean_wv_15\"] = data[\"water_vapor\"].rolling(window = 15).mean()\n",
    "data[\"std_wv_10\"] = data[\"water_vapor\"].rolling(window = 10).std()\n",
    "data[\"std_wv_15\"] = data[\"water_vapor\"].rolling(window = 15).std()\n",
    "\n",
    "data[\"mean_aod_10\"] = data[\"aod\"].rolling(window = 10).mean()\n",
    "data[\"mean_aod_15\"] = data[\"aod\"].rolling(window = 15).mean()\n",
    "data[\"mean_aod_5\"] = data[\"aod\"].rolling(window = 5).mean()\n",
    "data[\"mean_aod_7\"] = data[\"aod\"].rolling(window = 7).mean()\n",
    "data[\"std_aod_10\"] = data[\"aod\"].rolling(window = 10).std()\n",
    "data[\"std_aod_15\"] = data[\"aod\"].rolling(window = 15).std()\n",
    "data[\"std_aod_7\"] = data[\"aod\"].rolling(window = 7).std()\n",
    "data[\"std_aod_5\"] = data[\"aod\"].rolling(window = 5).std()\n",
    "\n",
    "\n",
    "data[\"mean_ozone_10\"] = data[\"ozone\"].rolling(window = 10).mean()\n",
    "data[\"mean_ozone_15\"] = data[\"ozone\"].rolling(window = 15).mean()\n",
    "data[\"mean_ozone_5\"] = data[\"ozone\"].rolling(window = 5).mean()\n",
    "data[\"mean_ozone_7\"] = data[\"ozone\"].rolling(window = 7).mean()\n",
    "data[\"std_ozone_10\"] = data[\"ozone\"].rolling(window = 10).std()\n",
    "data[\"std_ozone_15\"] = data[\"ozone\"].rolling(window = 15).std()\n",
    "data[\"std_ozone_7\"] = data[\"ozone\"].rolling(window = 7).std()\n",
    "data[\"std_ozone_5\"] = data[\"ozone\"].rolling(window = 5).std()\n",
    "\n",
    "data[\"mean_cloud_high_10\"] = data[\"cloud_high\"].rolling(window = 10).mean()\n",
    "data[\"mean_cloud_high_15\"] = data[\"cloud_high\"].rolling(window = 15).mean()\n",
    "data[\"mean_cloud_high_5\"] = data[\"cloud_high\"].rolling(window = 5).mean()\n",
    "data[\"mean_cloud_high_7\"] = data[\"cloud_high\"].rolling(window = 7).mean()\n",
    "data[\"std_cloud_high_10\"] = data[\"cloud_high\"].rolling(window = 10).std()\n",
    "data[\"std_cloud_high_15\"] = data[\"cloud_high\"].rolling(window = 15).std()\n",
    "data[\"std_cloud_high_7\"] = data[\"cloud_high\"].rolling(window = 7).std()\n",
    "data[\"std_cloud_high_5\"] = data[\"cloud_high\"].rolling(window = 5).std()\n",
    "\n",
    "\n",
    "data[\"mean_cloud_low_10\"] = data[\"cloud_low\"].rolling(window = 10).mean()\n",
    "data[\"mean_cloud_low_15\"] = data[\"cloud_low\"].rolling(window = 15).mean()\n",
    "data[\"mean_cloud_low_5\"] = data[\"cloud_low\"].rolling(window = 5).mean()\n",
    "data[\"mean_cloud_low_7\"] = data[\"cloud_low\"].rolling(window = 7).mean()\n",
    "data[\"std_cloud_low_10\"] = data[\"cloud_low\"].rolling(window = 10).std()\n",
    "data[\"std_cloud_low_15\"] = data[\"cloud_low\"].rolling(window = 15).std()\n",
    "data[\"std_cloud_low_7\"] = data[\"cloud_low\"].rolling(window = 7).std()\n",
    "data[\"std_cloud_low_5\"] = data[\"cloud_low\"].rolling(window = 5).std()\n",
    "\n",
    "\n",
    "data[\"mean_cloud_med_10\"] = data[\"cloud_med\"].rolling(window = 10).mean()\n",
    "data[\"mean_cloud_med_15\"] = data[\"cloud_med\"].rolling(window = 15).mean()\n",
    "data[\"mean_cloud_med_5\"] = data[\"cloud_med\"].rolling(window = 5).mean()\n",
    "data[\"mean_cloud_med_7\"] = data[\"cloud_med\"].rolling(window = 7).mean()\n",
    "data[\"std_cloud_med_10\"] = data[\"cloud_med\"].rolling(window = 10).std()\n",
    "data[\"std_cloud_med_15\"] = data[\"cloud_med\"].rolling(window = 15).std()\n",
    "data[\"std_cloud_med_7\"] = data[\"cloud_med\"].rolling(window = 7).std()\n",
    "data[\"std_cloud_med_5\"] = data[\"cloud_med\"].rolling(window = 5).std()\n",
    "\n",
    "\n",
    "data[\"prevGHI\"] = data[\"Ghi\"].shift(1)\n",
    "data[\"GHI_changerate\"] = (data[\"Ghi\"]-data[\"Ghi\"])/(data[\"Ghi\"])\n",
    "\n",
    "\n",
    "\n",
    "for i in range(1,25):\n",
    "    data[f\"GHI_lag{i}\"] = data[\"Ghi\"].shift(i)\n",
    "data.replace([np.inf, -np.inf], np.nan, inplace=True)\n",
    "data = data.dropna()"
   ]
  },
  {
   "cell_type": "code",
   "execution_count": 9,
   "id": "fd57a83d-7da4-427d-896e-48663c5abdc6",
   "metadata": {},
   "outputs": [],
   "source": [
    "cols = [col for col in data.columns.tolist() if \"changerate\" in col]\n",
    "cols += [col for col in data.columns.tolist() if \"lag\" in col]\n",
    "cols += [col for col in data.columns.tolist() if \"mean\" in col]\n",
    "cols += [col for col in data.columns.tolist() if \"std\" in col]\n",
    "cols += [col for col in data.columns.tolist() if \"prev\" in col]"
   ]
  },
  {
   "cell_type": "code",
   "execution_count": 10,
   "id": "200610a5-34ba-4ae5-832e-23203bd7c989",
   "metadata": {},
   "outputs": [],
   "source": [
    "train_data = data.iloc[:35000]\n",
    "valid_data = data.iloc[35000:40000]\n",
    "test_data = data.iloc[40000:]"
   ]
  },
  {
   "cell_type": "code",
   "execution_count": 11,
   "id": "583affcc-b3c6-4c92-94e9-e7079749e0f2",
   "metadata": {},
   "outputs": [],
   "source": [
    "trainset = Dataset(train_data,25,cols)\n",
    "validset = Dataset(valid_data,25,cols)\n",
    "testset = Dataset(test_data,25,cols)"
   ]
  },
  {
   "cell_type": "code",
   "execution_count": 12,
   "id": "f0ce89ec-a932-4c54-8eed-974c018c496d",
   "metadata": {},
   "outputs": [],
   "source": [
    "class TemporalBlock(nn.Module):\n",
    "    def __init__(self, n_inputs, n_outputs, kernel_size, stride, dilation, padding, dropout=0.2):\n",
    "        super(TemporalBlock, self).__init__()\n",
    "        self.conv1 = weight_norm(nn.Conv2d(n_inputs, n_outputs, (1, kernel_size),\n",
    "                                           stride=stride, padding=0, dilation=dilation))\n",
    "        self.pad = torch.nn.ZeroPad2d((padding, 0, 0, 0))\n",
    "        self.relu = nn.ReLU()\n",
    "        self.dropout = nn.Dropout(dropout)\n",
    "        self.conv2 = weight_norm(nn.Conv2d(n_outputs, n_outputs, (1, kernel_size),\n",
    "                                           stride=stride, padding=0, dilation=dilation))\n",
    "        self.net = nn.Sequential(self.pad, self.conv1, self.relu, self.dropout,\n",
    "                                 self.pad, self.conv2, self.relu, self.dropout)\n",
    "        self.downsample = nn.Conv1d(\n",
    "            n_inputs, n_outputs, 1) if n_inputs != n_outputs else None\n",
    "        self.relu = nn.ReLU()\n",
    "        self.init_weights()\n",
    "\n",
    "    def init_weights(self):\n",
    "        self.conv1.weight.data.normal_(0, 0.01)\n",
    "        self.conv2.weight.data.normal_(0, 0.01)\n",
    "        if self.downsample is not None:\n",
    "            self.downsample.weight.data.normal_(0, 0.01)\n",
    "\n",
    "    def forward(self, x):\n",
    "        out = self.net(x.unsqueeze(2)).squeeze(2)\n",
    "        res = x if self.downsample is None else self.downsample(x)\n",
    "        return self.relu(out + res)\n",
    "\n",
    "\n",
    "class TemporalConvNet(nn.Module):\n",
    "    def __init__(self, num_inputs, num_channels, kernel_size=2, dropout=0.2):\n",
    "        super(TemporalConvNet, self).__init__()\n",
    "        layers = []\n",
    "        num_levels = len(num_channels)\n",
    "        for i in range(num_levels):\n",
    "            dilation_size = 2 ** i\n",
    "            in_channels = num_inputs if i == 0 else num_channels[i-1]\n",
    "            out_channels = num_channels[i]\n",
    "            layers += [TemporalBlock(in_channels, out_channels, kernel_size, stride=1, dilation=dilation_size,\n",
    "                                     padding=(kernel_size-1) * dilation_size, dropout=dropout)]\n",
    "\n",
    "        self.network = nn.Sequential(*layers)\n",
    "\n",
    "    def forward(self, x):\n",
    "        return self.network(x)\n",
    "    \n",
    "class TCNModel(nn.Module):\n",
    "    def __init__(self, num_channels, kernel_size=2, dropout=0.2):\n",
    "        super(TCNModel, self).__init__()\n",
    "        self.tcn = TemporalConvNet(\n",
    "            24, num_channels, kernel_size=kernel_size, dropout=dropout)\n",
    "        self.dropout = nn.Dropout(dropout)\n",
    "        self.decoder = nn.Linear(num_channels[-1], 1)\n",
    "    def forward(self, x):\n",
    "        return self.decoder(self.dropout(self.tcn(x)[:, :, -1]))"
   ]
  },
  {
   "cell_type": "code",
   "execution_count": 13,
   "id": "6a9cdb10-bcb7-4c2c-8514-194fdcf88930",
   "metadata": {},
   "outputs": [],
   "source": [
    "Model = TCNModel([len(cols),256,128,64,32,16,8])"
   ]
  },
  {
   "cell_type": "markdown",
   "id": "223e3fb9-8339-4ca5-8345-746d35cc544a",
   "metadata": {},
   "source": [
    "# Engine"
   ]
  },
  {
   "cell_type": "code",
   "execution_count": 14,
   "id": "a7e0cdd0-bb0d-4c52-9f66-195d7a63508a",
   "metadata": {},
   "outputs": [],
   "source": [
    "criterion = Loss(\"RMSE\")\n",
    "optimizer = torch.optim.AdamW(Model.parameters(), lr=0.0001)\n",
    "scheduler = torch.optim.lr_scheduler.ReduceLROnPlateau(optimizer,\n",
    "                                                       factor = 0.2,\n",
    "                                                       patience = 3,\n",
    "                                                       verbose = True)\n",
    "\n",
    "shuffle_trainloader = False\n",
    "train_batch_size = 256\n",
    "shuffle_validloader = False\n",
    "valid_batch_size = 256\n",
    "epoch = 200\n",
    "verbose = True"
   ]
  },
  {
   "cell_type": "code",
   "execution_count": 15,
   "id": "fbb37a35-f57d-453d-ba06-7f192ab23070",
   "metadata": {},
   "outputs": [],
   "source": [
    "device = torch.device(\"cuda:1\")\n",
    "train_config = TrainingConfig(Model,\n",
    "                              criterion,\n",
    "                              optimizer,\n",
    "                              scheduler,\n",
    "                              device,\n",
    "                              shuffle_trainloader,\n",
    "                              train_batch_size,\n",
    "                              shuffle_validloader,\n",
    "                              valid_batch_size,\n",
    "                              epoch,\n",
    "                              verbose,\n",
    "                             )"
   ]
  },
  {
   "cell_type": "code",
   "execution_count": 16,
   "id": "5836109b-29ba-4427-8ceb-151bce7900a9",
   "metadata": {},
   "outputs": [],
   "source": [
    "from tqdm import tqdm\n",
    "import torch\n",
    "import os\n",
    "from tqdm import tqdm\n",
    "class AverageMeter:\n",
    "    \"\"\"\n",
    "    Computes and stores the average and current value\n",
    "    \"\"\"\n",
    "\n",
    "    def __init__(self):\n",
    "        self.reset()\n",
    "\n",
    "    def reset(self):\n",
    "        self.val = 0\n",
    "        self.avg = 0\n",
    "        self.sum = 0\n",
    "        self.count = 0\n",
    "\n",
    "    def update(self, val, n=1):\n",
    "        self.val = val\n",
    "        self.sum += val * n\n",
    "        self.count += n\n",
    "        self.avg = self.sum / self.count\n",
    "\n",
    "\n",
    "\n",
    "class Training():\n",
    "    def __init__(self,train_config):\n",
    "        self.train_config = train_config\n",
    "        \n",
    "    def train_fn(self,model,train_loader):\n",
    "        self.train_config.model.train()\n",
    "        tr_loss = 0\n",
    "        counter = 0\n",
    "        losses = AverageMeter()\n",
    "        tqt = tqdm(enumerate(train_loader),total = len(train_loader))\n",
    "        for index,train_batch in tqt:\n",
    "            data = train_batch[\"data\"].to(self.train_config.device)\n",
    "            target = train_batch[\"target\"].to(self.train_config.device)\n",
    "            self.train_config.optimizer.zero_grad()\n",
    "            pred_target = model(data)\n",
    "            train_loss = self.train_config.criterion(pred_target,target)\n",
    "            tr_loss += train_loss.item()\n",
    "            #backward probagation\n",
    "            train_loss.backward()\n",
    "            self.train_config.optimizer.step()\n",
    "            counter = counter + 1\n",
    "            losses.update(train_loss.item(),pred_target.size(0))\n",
    "            tqt.set_postfix(loss = losses.avg, batch_number = index)\n",
    "        return tr_loss/counter\n",
    "                   \n",
    "    def valid_fn(self,model,validation_loader):\n",
    "        self.train_config.model.eval()\n",
    "        val_loss = 0\n",
    "        counter = 0\n",
    "        losses = AverageMeter()\n",
    "        tqt = tqdm(enumerate(validation_loader),total = len(validation_loader))\n",
    "        with torch.no_grad():\n",
    "            for index, valid_batch in tqt :\n",
    "                data = valid_batch[\"data\"].to(self.train_config.device)\n",
    "                target = valid_batch[\"target\"].to(self.train_config.device)\n",
    "                pred_target = model(data)\n",
    "                validation_loss = self.train_config.criterion(pred_target,target)\n",
    "                val_loss += validation_loss.item()        \n",
    "                counter = counter + 1\n",
    "                losses.update(validation_loss.item(),pred_target.size(0))\n",
    "                tqt.set_postfix(loss = losses.avg, batch_number = index)\n",
    "        return val_loss/counter\n",
    "    \n",
    "    \n",
    "    def fit(self,train_dataset,valid_dataset):\n",
    "        \n",
    "        train_data_loader = torch.utils.data.DataLoader(train_dataset,\n",
    "                                                        shuffle = self.train_config.shuffle_trainloader,\n",
    "                                                        batch_size = self.train_config.train_batch_size,\n",
    "                                                        num_workers = 4,\n",
    "                                                       )\n",
    "        valid_data_loader = torch.utils.data.DataLoader(valid_dataset,\n",
    "                                                        shuffle = self.train_config.shuffle_validloader,\n",
    "                                                        batch_size = self.train_config.valid_batch_size,\n",
    "                                                        num_workers = 4,\n",
    "                                                       )\n",
    "        \n",
    "        train_loss = []\n",
    "        valid_loss = []\n",
    "        best = 50000000\n",
    "        for epoch in range(self.train_config.epoch):\n",
    "            if self.train_config.verbose :\n",
    "                print(f\".........EPOCH {epoch}........\")\n",
    "            tr_loss = self.train_fn(self.train_config.model,train_data_loader)\n",
    "            train_loss.append(tr_loss)\n",
    "            if self.train_config.verbose :\n",
    "                print(f\".........Train Loss = {tr_loss}........\")\n",
    "            val_loss = self.valid_fn(self.train_config.model,valid_data_loader)\n",
    "            valid_loss.append(val_loss)\n",
    "            self.train_config.scheduler.step(val_loss)\n",
    "            if self.train_config.verbose:\n",
    "                print(f\"...........Validation Loss = {val_loss}.......\")\n",
    "                \n",
    "            if val_loss < best :\n",
    "                best = val_loss\n",
    "                patience = 0\n",
    "            else:\n",
    "                patience +=1\n",
    "                \n",
    "            if patience >= 5:\n",
    "                print(f\"Early Stopping on Epoch {epoch}\")\n",
    "                print(f\"Best Loss = {best}\")\n",
    "                break\n",
    "        PATH = 'model.pth'\n",
    "        torch.save(self.train_config.model.state_dict(),PATH)\n",
    "        self.train_config.model.load_state_dict(torch.load(PATH))"
   ]
  },
  {
   "cell_type": "code",
   "execution_count": 17,
   "id": "92cd46ea-b0b8-45d4-9887-1eb9063af770",
   "metadata": {},
   "outputs": [
    {
     "name": "stdout",
     "output_type": "stream",
     "text": [
      ".........EPOCH 0........\n"
     ]
    },
    {
     "name": "stderr",
     "output_type": "stream",
     "text": [
      "100%|████████████████████████████████████████████████████████████████████████████████████████████████████████████████████████████████████████████████| 137/137 [09:12<00:00,  4.03s/it, batch_number=136, loss=473]"
     ]
    },
    {
     "name": "stdout",
     "output_type": "stream",
     "text": [
      ".........Train Loss = 472.0813649866703........\n"
     ]
    },
    {
     "name": "stderr",
     "output_type": "stream",
     "text": [
      "\n",
      "100%|███████████████████████████████████████████████████████████████████████████████████████████████████████████████████████████████████████████████████| 20/20 [01:16<00:00,  3.83s/it, batch_number=19, loss=328]"
     ]
    },
    {
     "name": "stdout",
     "output_type": "stream",
     "text": [
      "...........Validation Loss = 326.97558135986327.......\n",
      ".........EPOCH 1........\n"
     ]
    },
    {
     "name": "stderr",
     "output_type": "stream",
     "text": [
      "\n",
      "100%|████████████████████████████████████████████████████████████████████████████████████████████████████████████████████████████████████████████████| 137/137 [08:49<00:00,  3.87s/it, batch_number=136, loss=353]"
     ]
    },
    {
     "name": "stdout",
     "output_type": "stream",
     "text": [
      ".........Train Loss = 352.5775019513429........\n"
     ]
    },
    {
     "name": "stderr",
     "output_type": "stream",
     "text": [
      "\n",
      "100%|███████████████████████████████████████████████████████████████████████████████████████████████████████████████████████████████████████████████████| 20/20 [01:14<00:00,  3.75s/it, batch_number=19, loss=315]"
     ]
    },
    {
     "name": "stdout",
     "output_type": "stream",
     "text": [
      "...........Validation Loss = 314.0910980224609.......\n",
      ".........EPOCH 2........\n"
     ]
    },
    {
     "name": "stderr",
     "output_type": "stream",
     "text": [
      "\n",
      "100%|████████████████████████████████████████████████████████████████████████████████████████████████████████████████████████████████████████████████| 137/137 [08:47<00:00,  3.85s/it, batch_number=136, loss=343]"
     ]
    },
    {
     "name": "stdout",
     "output_type": "stream",
     "text": [
      ".........Train Loss = 342.9876702301694........\n"
     ]
    },
    {
     "name": "stderr",
     "output_type": "stream",
     "text": [
      "\n",
      "100%|███████████████████████████████████████████████████████████████████████████████████████████████████████████████████████████████████████████████████| 20/20 [01:15<00:00,  3.79s/it, batch_number=19, loss=321]"
     ]
    },
    {
     "name": "stdout",
     "output_type": "stream",
     "text": [
      "...........Validation Loss = 320.5525238037109.......\n",
      ".........EPOCH 3........\n"
     ]
    },
    {
     "name": "stderr",
     "output_type": "stream",
     "text": [
      "\n",
      "100%|████████████████████████████████████████████████████████████████████████████████████████████████████████████████████████████████████████████████| 137/137 [09:03<00:00,  3.97s/it, batch_number=136, loss=339]"
     ]
    },
    {
     "name": "stdout",
     "output_type": "stream",
     "text": [
      ".........Train Loss = 338.89500694553345........\n"
     ]
    },
    {
     "name": "stderr",
     "output_type": "stream",
     "text": [
      "\n",
      "100%|███████████████████████████████████████████████████████████████████████████████████████████████████████████████████████████████████████████████████| 20/20 [01:18<00:00,  3.90s/it, batch_number=19, loss=322]"
     ]
    },
    {
     "name": "stdout",
     "output_type": "stream",
     "text": [
      "...........Validation Loss = 321.0907928466797.......\n",
      ".........EPOCH 4........\n"
     ]
    },
    {
     "name": "stderr",
     "output_type": "stream",
     "text": [
      "\n",
      "100%|████████████████████████████████████████████████████████████████████████████████████████████████████████████████████████████████████████████████| 137/137 [08:52<00:00,  3.89s/it, batch_number=136, loss=337]"
     ]
    },
    {
     "name": "stdout",
     "output_type": "stream",
     "text": [
      ".........Train Loss = 336.69410906046846........\n"
     ]
    },
    {
     "name": "stderr",
     "output_type": "stream",
     "text": [
      "\n",
      "100%|███████████████████████████████████████████████████████████████████████████████████████████████████████████████████████████████████████████████████| 20/20 [01:15<00:00,  3.76s/it, batch_number=19, loss=317]"
     ]
    },
    {
     "name": "stdout",
     "output_type": "stream",
     "text": [
      "...........Validation Loss = 316.3674934387207.......\n",
      ".........EPOCH 5........\n"
     ]
    },
    {
     "name": "stderr",
     "output_type": "stream",
     "text": [
      "\n",
      "100%|████████████████████████████████████████████████████████████████████████████████████████████████████████████████████████████████████████████████| 137/137 [08:38<00:00,  3.78s/it, batch_number=136, loss=336]"
     ]
    },
    {
     "name": "stdout",
     "output_type": "stream",
     "text": [
      ".........Train Loss = 335.84384790128166........\n"
     ]
    },
    {
     "name": "stderr",
     "output_type": "stream",
     "text": [
      "\n",
      "100%|███████████████████████████████████████████████████████████████████████████████████████████████████████████████████████████████████████████████████| 20/20 [01:15<00:00,  3.78s/it, batch_number=19, loss=327]"
     ]
    },
    {
     "name": "stdout",
     "output_type": "stream",
     "text": [
      "Epoch     6: reducing learning rate of group 0 to 2.0000e-05.\n",
      "...........Validation Loss = 325.50358657836915.......\n",
      ".........EPOCH 6........\n"
     ]
    },
    {
     "name": "stderr",
     "output_type": "stream",
     "text": [
      "\n",
      "100%|████████████████████████████████████████████████████████████████████████████████████████████████████████████████████████████████████████████████| 137/137 [08:30<00:00,  3.73s/it, batch_number=136, loss=334]"
     ]
    },
    {
     "name": "stdout",
     "output_type": "stream",
     "text": [
      ".........Train Loss = 334.1206981352646........\n"
     ]
    },
    {
     "name": "stderr",
     "output_type": "stream",
     "text": [
      "\n",
      "100%|███████████████████████████████████████████████████████████████████████████████████████████████████████████████████████████████████████████████████| 20/20 [01:14<00:00,  3.75s/it, batch_number=19, loss=308]"
     ]
    },
    {
     "name": "stdout",
     "output_type": "stream",
     "text": [
      "...........Validation Loss = 306.8589553833008.......\n",
      ".........EPOCH 7........\n"
     ]
    },
    {
     "name": "stderr",
     "output_type": "stream",
     "text": [
      "\n",
      "100%|████████████████████████████████████████████████████████████████████████████████████████████████████████████████████████████████████████████████| 137/137 [08:42<00:00,  3.82s/it, batch_number=136, loss=334]"
     ]
    },
    {
     "name": "stdout",
     "output_type": "stream",
     "text": [
      ".........Train Loss = 333.69494706870864........\n"
     ]
    },
    {
     "name": "stderr",
     "output_type": "stream",
     "text": [
      "\n",
      "100%|███████████████████████████████████████████████████████████████████████████████████████████████████████████████████████████████████████████████████| 20/20 [01:11<00:00,  3.59s/it, batch_number=19, loss=306]"
     ]
    },
    {
     "name": "stdout",
     "output_type": "stream",
     "text": [
      "...........Validation Loss = 305.49038848876955.......\n",
      ".........EPOCH 8........\n"
     ]
    },
    {
     "name": "stderr",
     "output_type": "stream",
     "text": [
      "\n",
      "100%|████████████████████████████████████████████████████████████████████████████████████████████████████████████████████████████████████████████████| 137/137 [08:27<00:00,  3.70s/it, batch_number=136, loss=333]"
     ]
    },
    {
     "name": "stdout",
     "output_type": "stream",
     "text": [
      ".........Train Loss = 333.2041918900761........\n"
     ]
    },
    {
     "name": "stderr",
     "output_type": "stream",
     "text": [
      "\n",
      "100%|███████████████████████████████████████████████████████████████████████████████████████████████████████████████████████████████████████████████████| 20/20 [01:12<00:00,  3.62s/it, batch_number=19, loss=306]"
     ]
    },
    {
     "name": "stdout",
     "output_type": "stream",
     "text": [
      "...........Validation Loss = 304.8344161987305.......\n",
      ".........EPOCH 9........\n"
     ]
    },
    {
     "name": "stderr",
     "output_type": "stream",
     "text": [
      "\n",
      "100%|████████████████████████████████████████████████████████████████████████████████████████████████████████████████████████████████████████████████| 137/137 [08:26<00:00,  3.70s/it, batch_number=136, loss=333]"
     ]
    },
    {
     "name": "stdout",
     "output_type": "stream",
     "text": [
      ".........Train Loss = 333.1832415726933........\n"
     ]
    },
    {
     "name": "stderr",
     "output_type": "stream",
     "text": [
      "\n",
      "100%|███████████████████████████████████████████████████████████████████████████████████████████████████████████████████████████████████████████████████| 20/20 [01:12<00:00,  3.61s/it, batch_number=19, loss=306]"
     ]
    },
    {
     "name": "stdout",
     "output_type": "stream",
     "text": [
      "...........Validation Loss = 305.29601135253904.......\n",
      ".........EPOCH 10........\n"
     ]
    },
    {
     "name": "stderr",
     "output_type": "stream",
     "text": [
      "\n",
      "100%|████████████████████████████████████████████████████████████████████████████████████████████████████████████████████████████████████████████████| 137/137 [08:43<00:00,  3.82s/it, batch_number=136, loss=333]"
     ]
    },
    {
     "name": "stdout",
     "output_type": "stream",
     "text": [
      ".........Train Loss = 332.6368752361214........\n"
     ]
    },
    {
     "name": "stderr",
     "output_type": "stream",
     "text": [
      "\n",
      "100%|███████████████████████████████████████████████████████████████████████████████████████████████████████████████████████████████████████████████████| 20/20 [01:15<00:00,  3.75s/it, batch_number=19, loss=305]"
     ]
    },
    {
     "name": "stdout",
     "output_type": "stream",
     "text": [
      "...........Validation Loss = 303.8636901855469.......\n",
      ".........EPOCH 11........\n"
     ]
    },
    {
     "name": "stderr",
     "output_type": "stream",
     "text": [
      "\n",
      "100%|████████████████████████████████████████████████████████████████████████████████████████████████████████████████████████████████████████████████| 137/137 [08:29<00:00,  3.72s/it, batch_number=136, loss=333]"
     ]
    },
    {
     "name": "stdout",
     "output_type": "stream",
     "text": [
      ".........Train Loss = 332.5840846152201........\n"
     ]
    },
    {
     "name": "stderr",
     "output_type": "stream",
     "text": [
      "\n",
      "100%|███████████████████████████████████████████████████████████████████████████████████████████████████████████████████████████████████████████████████| 20/20 [01:12<00:00,  3.61s/it, batch_number=19, loss=305]"
     ]
    },
    {
     "name": "stdout",
     "output_type": "stream",
     "text": [
      "...........Validation Loss = 303.72783813476565.......\n",
      ".........EPOCH 12........\n"
     ]
    },
    {
     "name": "stderr",
     "output_type": "stream",
     "text": [
      "\n",
      "100%|████████████████████████████████████████████████████████████████████████████████████████████████████████████████████████████████████████████████| 137/137 [08:28<00:00,  3.71s/it, batch_number=136, loss=333]"
     ]
    },
    {
     "name": "stdout",
     "output_type": "stream",
     "text": [
      ".........Train Loss = 332.86436428988935........\n"
     ]
    },
    {
     "name": "stderr",
     "output_type": "stream",
     "text": [
      "\n",
      "100%|███████████████████████████████████████████████████████████████████████████████████████████████████████████████████████████████████████████████████| 20/20 [01:12<00:00,  3.61s/it, batch_number=19, loss=304]"
     ]
    },
    {
     "name": "stdout",
     "output_type": "stream",
     "text": [
      "...........Validation Loss = 303.44916915893555.......\n",
      ".........EPOCH 13........\n"
     ]
    },
    {
     "name": "stderr",
     "output_type": "stream",
     "text": [
      "\n",
      "100%|████████████████████████████████████████████████████████████████████████████████████████████████████████████████████████████████████████████████| 137/137 [08:29<00:00,  3.72s/it, batch_number=136, loss=332]"
     ]
    },
    {
     "name": "stdout",
     "output_type": "stream",
     "text": [
      ".........Train Loss = 332.05676147015424........\n"
     ]
    },
    {
     "name": "stderr",
     "output_type": "stream",
     "text": [
      "\n",
      "100%|███████████████████████████████████████████████████████████████████████████████████████████████████████████████████████████████████████████████████| 20/20 [01:15<00:00,  3.75s/it, batch_number=19, loss=304]"
     ]
    },
    {
     "name": "stdout",
     "output_type": "stream",
     "text": [
      "...........Validation Loss = 303.4764808654785.......\n",
      ".........EPOCH 14........\n"
     ]
    },
    {
     "name": "stderr",
     "output_type": "stream",
     "text": [
      "\n",
      "100%|████████████████████████████████████████████████████████████████████████████████████████████████████████████████████████████████████████████████| 137/137 [08:43<00:00,  3.82s/it, batch_number=136, loss=333]"
     ]
    },
    {
     "name": "stdout",
     "output_type": "stream",
     "text": [
      ".........Train Loss = 332.34745142581687........\n"
     ]
    },
    {
     "name": "stderr",
     "output_type": "stream",
     "text": [
      "\n",
      "100%|███████████████████████████████████████████████████████████████████████████████████████████████████████████████████████████████████████████████████| 20/20 [01:12<00:00,  3.61s/it, batch_number=19, loss=306]"
     ]
    },
    {
     "name": "stdout",
     "output_type": "stream",
     "text": [
      "...........Validation Loss = 304.9657470703125.......\n",
      ".........EPOCH 15........\n"
     ]
    },
    {
     "name": "stderr",
     "output_type": "stream",
     "text": [
      "\n",
      "100%|████████████████████████████████████████████████████████████████████████████████████████████████████████████████████████████████████████████████| 137/137 [08:25<00:00,  3.69s/it, batch_number=136, loss=332]"
     ]
    },
    {
     "name": "stdout",
     "output_type": "stream",
     "text": [
      ".........Train Loss = 332.2263821789818........\n"
     ]
    },
    {
     "name": "stderr",
     "output_type": "stream",
     "text": [
      "\n",
      "100%|███████████████████████████████████████████████████████████████████████████████████████████████████████████████████████████████████████████████████| 20/20 [01:11<00:00,  3.59s/it, batch_number=19, loss=304]"
     ]
    },
    {
     "name": "stdout",
     "output_type": "stream",
     "text": [
      "...........Validation Loss = 303.512744140625.......\n",
      ".........EPOCH 16........\n"
     ]
    },
    {
     "name": "stderr",
     "output_type": "stream",
     "text": [
      "\n",
      "100%|████████████████████████████████████████████████████████████████████████████████████████████████████████████████████████████████████████████████| 137/137 [08:32<00:00,  3.74s/it, batch_number=136, loss=333]"
     ]
    },
    {
     "name": "stdout",
     "output_type": "stream",
     "text": [
      ".........Train Loss = 332.4817054915602........\n"
     ]
    },
    {
     "name": "stderr",
     "output_type": "stream",
     "text": [
      "\n",
      "100%|███████████████████████████████████████████████████████████████████████████████████████████████████████████████████████████████████████████████████| 20/20 [01:11<00:00,  3.58s/it, batch_number=19, loss=304]"
     ]
    },
    {
     "name": "stdout",
     "output_type": "stream",
     "text": [
      "...........Validation Loss = 303.3379585266113.......\n",
      ".........EPOCH 17........\n"
     ]
    },
    {
     "name": "stderr",
     "output_type": "stream",
     "text": [
      "\n",
      "100%|████████████████████████████████████████████████████████████████████████████████████████████████████████████████████████████████████████████████| 137/137 [08:47<00:00,  3.85s/it, batch_number=136, loss=332]"
     ]
    },
    {
     "name": "stdout",
     "output_type": "stream",
     "text": [
      ".........Train Loss = 331.65066773351964........\n"
     ]
    },
    {
     "name": "stderr",
     "output_type": "stream",
     "text": [
      "\n",
      "100%|███████████████████████████████████████████████████████████████████████████████████████████████████████████████████████████████████████████████████| 20/20 [01:14<00:00,  3.74s/it, batch_number=19, loss=305]"
     ]
    },
    {
     "name": "stdout",
     "output_type": "stream",
     "text": [
      "...........Validation Loss = 303.83816680908205.......\n",
      ".........EPOCH 18........\n"
     ]
    },
    {
     "name": "stderr",
     "output_type": "stream",
     "text": [
      "\n",
      "100%|████████████████████████████████████████████████████████████████████████████████████████████████████████████████████████████████████████████████| 137/137 [08:29<00:00,  3.72s/it, batch_number=136, loss=332]"
     ]
    },
    {
     "name": "stdout",
     "output_type": "stream",
     "text": [
      ".........Train Loss = 332.0803237135393........\n"
     ]
    },
    {
     "name": "stderr",
     "output_type": "stream",
     "text": [
      "\n",
      "100%|███████████████████████████████████████████████████████████████████████████████████████████████████████████████████████████████████████████████████| 20/20 [01:11<00:00,  3.59s/it, batch_number=19, loss=304]"
     ]
    },
    {
     "name": "stdout",
     "output_type": "stream",
     "text": [
      "...........Validation Loss = 303.1976509094238.......\n",
      ".........EPOCH 19........\n"
     ]
    },
    {
     "name": "stderr",
     "output_type": "stream",
     "text": [
      "\n",
      "100%|████████████████████████████████████████████████████████████████████████████████████████████████████████████████████████████████████████████████| 137/137 [08:26<00:00,  3.69s/it, batch_number=136, loss=332]"
     ]
    },
    {
     "name": "stdout",
     "output_type": "stream",
     "text": [
      ".........Train Loss = 331.7600024146755........\n"
     ]
    },
    {
     "name": "stderr",
     "output_type": "stream",
     "text": [
      "\n",
      "100%|███████████████████████████████████████████████████████████████████████████████████████████████████████████████████████████████████████████████████| 20/20 [01:12<00:00,  3.61s/it, batch_number=19, loss=303]"
     ]
    },
    {
     "name": "stdout",
     "output_type": "stream",
     "text": [
      "...........Validation Loss = 302.3306549072266.......\n",
      ".........EPOCH 20........\n"
     ]
    },
    {
     "name": "stderr",
     "output_type": "stream",
     "text": [
      "\n",
      "100%|████████████████████████████████████████████████████████████████████████████████████████████████████████████████████████████████████████████████| 137/137 [08:29<00:00,  3.72s/it, batch_number=136, loss=332]"
     ]
    },
    {
     "name": "stdout",
     "output_type": "stream",
     "text": [
      ".........Train Loss = 331.95045170470746........\n"
     ]
    },
    {
     "name": "stderr",
     "output_type": "stream",
     "text": [
      "\n",
      "100%|███████████████████████████████████████████████████████████████████████████████████████████████████████████████████████████████████████████████████| 20/20 [01:14<00:00,  3.74s/it, batch_number=19, loss=304]"
     ]
    },
    {
     "name": "stdout",
     "output_type": "stream",
     "text": [
      "...........Validation Loss = 303.05323181152346.......\n",
      ".........EPOCH 21........\n"
     ]
    },
    {
     "name": "stderr",
     "output_type": "stream",
     "text": [
      "\n",
      "100%|████████████████████████████████████████████████████████████████████████████████████████████████████████████████████████████████████████████████| 137/137 [08:44<00:00,  3.83s/it, batch_number=136, loss=332]"
     ]
    },
    {
     "name": "stdout",
     "output_type": "stream",
     "text": [
      ".........Train Loss = 331.5519735517293........\n"
     ]
    },
    {
     "name": "stderr",
     "output_type": "stream",
     "text": [
      "\n",
      "100%|███████████████████████████████████████████████████████████████████████████████████████████████████████████████████████████████████████████████████| 20/20 [01:12<00:00,  3.61s/it, batch_number=19, loss=303]"
     ]
    },
    {
     "name": "stdout",
     "output_type": "stream",
     "text": [
      "...........Validation Loss = 302.58623428344725.......\n",
      ".........EPOCH 22........\n"
     ]
    },
    {
     "name": "stderr",
     "output_type": "stream",
     "text": [
      "\n",
      "100%|████████████████████████████████████████████████████████████████████████████████████████████████████████████████████████████████████████████████| 137/137 [08:26<00:00,  3.70s/it, batch_number=136, loss=332]"
     ]
    },
    {
     "name": "stdout",
     "output_type": "stream",
     "text": [
      ".........Train Loss = 331.576764740213........\n"
     ]
    },
    {
     "name": "stderr",
     "output_type": "stream",
     "text": [
      "\n",
      "100%|███████████████████████████████████████████████████████████████████████████████████████████████████████████████████████████████████████████████████| 20/20 [01:12<00:00,  3.62s/it, batch_number=19, loss=303]"
     ]
    },
    {
     "name": "stdout",
     "output_type": "stream",
     "text": [
      "...........Validation Loss = 302.0375473022461.......\n",
      ".........EPOCH 23........\n"
     ]
    },
    {
     "name": "stderr",
     "output_type": "stream",
     "text": [
      "\n",
      "100%|████████████████████████████████████████████████████████████████████████████████████████████████████████████████████████████████████████████████| 137/137 [08:26<00:00,  3.70s/it, batch_number=136, loss=331]"
     ]
    },
    {
     "name": "stdout",
     "output_type": "stream",
     "text": [
      ".........Train Loss = 331.22315511216215........\n"
     ]
    },
    {
     "name": "stderr",
     "output_type": "stream",
     "text": [
      "\n",
      "100%|███████████████████████████████████████████████████████████████████████████████████████████████████████████████████████████████████████████████████| 20/20 [01:12<00:00,  3.61s/it, batch_number=19, loss=304]"
     ]
    },
    {
     "name": "stdout",
     "output_type": "stream",
     "text": [
      "...........Validation Loss = 302.68587799072264.......\n",
      ".........EPOCH 24........\n"
     ]
    },
    {
     "name": "stderr",
     "output_type": "stream",
     "text": [
      "\n",
      "100%|████████████████████████████████████████████████████████████████████████████████████████████████████████████████████████████████████████████████| 137/137 [08:42<00:00,  3.82s/it, batch_number=136, loss=331]"
     ]
    },
    {
     "name": "stdout",
     "output_type": "stream",
     "text": [
      ".........Train Loss = 331.1183256720104........\n"
     ]
    },
    {
     "name": "stderr",
     "output_type": "stream",
     "text": [
      "\n",
      "100%|███████████████████████████████████████████████████████████████████████████████████████████████████████████████████████████████████████████████████| 20/20 [01:15<00:00,  3.75s/it, batch_number=19, loss=303]"
     ]
    },
    {
     "name": "stdout",
     "output_type": "stream",
     "text": [
      "...........Validation Loss = 302.2691879272461.......\n",
      ".........EPOCH 25........\n"
     ]
    },
    {
     "name": "stderr",
     "output_type": "stream",
     "text": [
      "\n",
      "100%|████████████████████████████████████████████████████████████████████████████████████████████████████████████████████████████████████████████████| 137/137 [08:31<00:00,  3.73s/it, batch_number=136, loss=332]"
     ]
    },
    {
     "name": "stdout",
     "output_type": "stream",
     "text": [
      ".........Train Loss = 331.65521284785586........\n"
     ]
    },
    {
     "name": "stderr",
     "output_type": "stream",
     "text": [
      "\n",
      "100%|███████████████████████████████████████████████████████████████████████████████████████████████████████████████████████████████████████████████████| 20/20 [01:12<00:00,  3.61s/it, batch_number=19, loss=304]"
     ]
    },
    {
     "name": "stdout",
     "output_type": "stream",
     "text": [
      "...........Validation Loss = 303.0549705505371.......\n",
      ".........EPOCH 26........\n"
     ]
    },
    {
     "name": "stderr",
     "output_type": "stream",
     "text": [
      "\n",
      "100%|████████████████████████████████████████████████████████████████████████████████████████████████████████████████████████████████████████████████| 137/137 [08:27<00:00,  3.70s/it, batch_number=136, loss=331]"
     ]
    },
    {
     "name": "stdout",
     "output_type": "stream",
     "text": [
      ".........Train Loss = 331.1813061567989........\n"
     ]
    },
    {
     "name": "stderr",
     "output_type": "stream",
     "text": [
      "\n",
      "100%|███████████████████████████████████████████████████████████████████████████████████████████████████████████████████████████████████████████████████| 20/20 [01:12<00:00,  3.61s/it, batch_number=19, loss=304]"
     ]
    },
    {
     "name": "stdout",
     "output_type": "stream",
     "text": [
      "Epoch    27: reducing learning rate of group 0 to 4.0000e-06.\n",
      "...........Validation Loss = 302.9156326293945.......\n",
      ".........EPOCH 27........\n"
     ]
    },
    {
     "name": "stderr",
     "output_type": "stream",
     "text": [
      "\n",
      "100%|████████████████████████████████████████████████████████████████████████████████████████████████████████████████████████████████████████████████| 137/137 [08:27<00:00,  3.71s/it, batch_number=136, loss=332]"
     ]
    },
    {
     "name": "stdout",
     "output_type": "stream",
     "text": [
      ".........Train Loss = 331.39296594327385........\n"
     ]
    },
    {
     "name": "stderr",
     "output_type": "stream",
     "text": [
      "\n",
      "100%|███████████████████████████████████████████████████████████████████████████████████████████████████████████████████████████████████████████████████| 20/20 [01:15<00:00,  3.76s/it, batch_number=19, loss=304]"
     ]
    },
    {
     "name": "stdout",
     "output_type": "stream",
     "text": [
      "...........Validation Loss = 303.240299987793.......\n",
      "Early Stopping on Epoch 27\n",
      "Best Loss = 302.0375473022461\n"
     ]
    },
    {
     "name": "stderr",
     "output_type": "stream",
     "text": [
      "\n"
     ]
    }
   ],
   "source": [
    "training = Training(train_config)\n",
    "training.fit(trainset,validset)"
   ]
  },
  {
   "cell_type": "code",
   "execution_count": 18,
   "id": "9ff7991f-823d-4e8d-a540-07295bfe0df3",
   "metadata": {},
   "outputs": [],
   "source": [
    "def predict(model,dataset,device):\n",
    "    model.eval()\n",
    "    testloader = torch.utils.data.DataLoader(dataset,\n",
    "                                             shuffle = True,\n",
    "                                             batch_size = 256,\n",
    "                                             num_workers = 4)\n",
    "    tqt = tqdm(enumerate(testloader),total = len(testloader))\n",
    "    with torch.no_grad():\n",
    "        for index,test_batch in tqt:\n",
    "            testdata = test_batch[\"data\"].to(device)\n",
    "            testtarget = test_batch[\"target\"].to(device)\n",
    "            target = model(testdata)\n",
    "            if index == 0:\n",
    "                out = target\n",
    "            else :\n",
    "                out = torch.cat([out,target],dim = 0)\n",
    "        return out.cpu().detach().numpy()"
   ]
  },
  {
   "cell_type": "code",
   "execution_count": 19,
   "id": "dff980cd-f385-4ec4-b9c8-537589556ef3",
   "metadata": {},
   "outputs": [],
   "source": [
    "device = torch.device(\"cuda:1\")"
   ]
  },
  {
   "cell_type": "code",
   "execution_count": 20,
   "id": "355ff80b-c46d-43ed-9db9-5bc955ba3b1c",
   "metadata": {},
   "outputs": [
    {
     "name": "stderr",
     "output_type": "stream",
     "text": [
      "100%|██████████████████████████████████████████████████████████████████████████████████████████████████████████████████████████████████████████████████████████████████████████████| 15/15 [00:55<00:00,  3.73s/it]\n"
     ]
    }
   ],
   "source": [
    "results = predict(train_config.model,testset,device)"
   ]
  },
  {
   "cell_type": "code",
   "execution_count": 21,
   "id": "ee356312-3e82-43a8-865e-cfc5c2d2eaa2",
   "metadata": {},
   "outputs": [
    {
     "data": {
      "text/plain": [
       "<matplotlib.legend.Legend at 0x1505f127b6d0>"
      ]
     },
     "execution_count": 21,
     "metadata": {},
     "output_type": "execute_result"
    },
    {
     "data": {
      "image/png": "[encoded data removed]",
      "text/plain": [
       "<Figure size 1440x576 with 1 Axes>"
      ]
     },
     "metadata": {
      "needs_background": "light"
     },
     "output_type": "display_data"
    }
   ],
   "source": [
    "import matplotlib.pyplot as plt\n",
    "plt.figure(figsize = (20,8))\n",
    "plt.plot(results[:100],label = \"Predicted\")\n",
    "plt.plot(testset.new_data[\"Ghi\"].values[:100],label = \"True\")\n",
    "plt.legend()"
   ]
  },
  {
   "cell_type": "code",
   "execution_count": null,
   "id": "28f38f00-838c-4ae0-986b-333cd8d8fae1",
   "metadata": {},
   "outputs": [],
   "source": []
  }
 ],
 "metadata": {
  "kernelspec": {
   "display_name": "Python 3 (ipykernel)",
   "language": "python",
   "name": "python3"
  },
  "language_info": {
   "codemirror_mode": {
    "name": "ipython",
    "version": 3
   },
   "file_extension": ".py",
   "mimetype": "text/x-python",
   "name": "python",
   "nbconvert_exporter": "python",
   "pygments_lexer": "ipython3",
   "version": "3.8.10"
  }
 },
 "nbformat": 4,
 "nbformat_minor": 5
}
