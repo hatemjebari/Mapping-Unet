{
 "cells": [
  {
   "cell_type": "markdown",
   "id": "648faf17-a083-4a55-aec5-7fc97745f4ed",
   "metadata": {},
   "source": [
    "# model "
   ]
  },
  {
   "cell_type": "code",
   "execution_count": 1,
   "id": "80e30ea4-8457-4abb-b4d2-de6e1a91e362",
   "metadata": {},
   "outputs": [],
   "source": [
    "import torch\n",
    "import numpy as np \n",
    "import pandas as pd\n",
    "import torch.nn as nn\n",
    "import random\n",
    "import torch\n",
    "from netCDF4 import Dataset\n",
    "import netCDF4 as nc\n",
    "import os\n",
    "from models.forecastors.conv3d_enc.model import *\n",
    "from models.forecastors.utils.utils import *\n",
    "from data_prep.dataset.dataset_managor import *\n",
    "from data_prep.config.env import *\n",
    "from models.forecastors.utils.loss import * \n",
    "from models.forecastors.utils.engine import *\n",
    "from models.utils.configtrain import *\n",
    "\n",
    "import warnings\n",
    "warnings.filterwarnings(\"ignore\")\n",
    "device = torch.device(\"cpu\")"
   ]
  },
  {
   "cell_type": "markdown",
   "id": "75658ec8-309a-4ac7-85e4-8bf15fbd3e78",
   "metadata": {},
   "source": [
    "# Fixing seeds"
   ]
  },
  {
   "cell_type": "code",
   "execution_count": 2,
   "id": "361a860a-a649-4712-b849-994400d6c6e6",
   "metadata": {},
   "outputs": [],
   "source": [
    "def setup_seed(seed):\n",
    "    np.random.seed(seed)\n",
    "    random.seed(seed)\n",
    "    torch.manual_seed(seed)  # cpu\n",
    "    torch.cuda.manual_seed_all(seed)  \n",
    "    torch.backends.cudnn.deterministic = True  \n",
    "    torch.backends.cudnn.benchmark = True \n",
    "setup_seed(5)"
   ]
  },
  {
   "cell_type": "markdown",
   "id": "56717d3e-4463-46a1-a9c4-c9c9c2fe949f",
   "metadata": {},
   "source": [
    "# Input Data"
   ]
  },
  {
   "cell_type": "code",
   "execution_count": 3,
   "id": "37a0e767-ef6a-41b3-b5ca-edc3018f94c6",
   "metadata": {},
   "outputs": [],
   "source": [
    "train_file = \"train.nc\"\n",
    "validation_file = \"test.nc\"\n",
    "train_path = os.path.join(BASE_PATH,train_file)\n",
    "validation_path = os.path.join(BASE_PATH,validation_file)"
   ]
  },
  {
   "cell_type": "code",
   "execution_count": 4,
   "id": "a8744a36-3a61-496c-8988-aa7a30df64bb",
   "metadata": {},
   "outputs": [],
   "source": [
    "window_size = 20\n",
    "target_len = 2\n",
    "config = ConfigData(window_size,\n",
    "                target_len,\n",
    "               )"
   ]
  },
  {
   "cell_type": "code",
   "execution_count": 5,
   "id": "1d8bd09e-9bb8-464d-92b7-1657f7b458f4",
   "metadata": {},
   "outputs": [
    {
     "name": "stdout",
     "output_type": "stream",
     "text": [
      "CPU times: user 7 µs, sys: 1 µs, total: 8 µs\n",
      "Wall time: 14.8 µs\n"
     ]
    }
   ],
   "source": [
    "%time\n",
    "train_set = MethoDataSets(train_path,config)\n",
    "valid_set = MethoDataSets(validation_path,config)"
   ]
  },
  {
   "cell_type": "markdown",
   "id": "44e626ed-b0c5-4d47-8e65-bccf1cbe420c",
   "metadata": {},
   "source": [
    "# Modeling Params"
   ]
  },
  {
   "cell_type": "code",
   "execution_count": 138,
   "id": "9bc7cd67-b663-4d6d-8b7b-0edf0d051301",
   "metadata": {},
   "outputs": [],
   "source": [
    "#define Parameters for the Encoder Layer\n",
    "params_encoder = dict()\n",
    "params_encoder[\"in_channels\"] = [15, 25, 32]\n",
    "params_encoder[\"out_channels\"] = [25, 32, 64]\n",
    "params_encoder[\"kernel_sizes\"] =[3,3,3]\n",
    "#define parameter for the Decoder Layer\n",
    "params_decoder = dict()\n",
    "params_decoder[\"upsampling\"] = [(2,15,15),(3,14,14),(1,63,63)]\n",
    "params_decoder[\"in_channels\"] = [ele for ele in reversed(params_encoder[\"out_channels\"])]\n",
    "params_decoder[\"out_channels\"] = [ele for ele in reversed(params_encoder[\"in_channels\"])]\n",
    "params_decoder[\"kernel_sizes\"] =[2,3,2]"
   ]
  },
  {
   "cell_type": "code",
   "execution_count": 139,
   "id": "9669feb5-ea05-428d-ab0a-6a8d402a4c07",
   "metadata": {},
   "outputs": [],
   "source": [
    "params_model = GetParameters(params_encoder,params_decoder,device)._get_params()"
   ]
  },
  {
   "cell_type": "code",
   "execution_count": 165,
   "id": "61ed41e8-2a11-43ec-ba66-6097637ed256",
   "metadata": {},
   "outputs": [],
   "source": [
    "import torch\n",
    "import numpy as np \n",
    "import pandas as pd\n",
    "import torch.nn as nn\n",
    "\n",
    "\n",
    "\n",
    "class EncoderLayer(nn.Module):\n",
    "    def __init__(self,params_encoder,init_weights = True):\n",
    "        super(EncoderLayer,self).__init__()\n",
    "        self.params = params_encoder\n",
    "        self.init_weights = init_weights\n",
    "        self.conv1 = nn.Conv3d(in_channels = self.params[\"in_channels\"][0],\n",
    "                               out_channels = self.params[\"out_channels\"][0],\n",
    "                               kernel_size = self.params[\"kernel_sizes\"][0])\n",
    "        self.batchnorm1 = nn.BatchNorm3d(num_features =self.params[\"out_channels\"][0])\n",
    "        self.conv2 = nn.Conv3d(in_channels = self.params[\"in_channels\"][1],\n",
    "                               out_channels = self.params[\"out_channels\"][1],\n",
    "                               kernel_size = self.params[\"kernel_sizes\"][1])\n",
    "        self.batchnorm2 = nn.BatchNorm3d(num_features =self.params[\"out_channels\"][1])\n",
    "        self.conv3 = nn.Conv3d(in_channels = self.params[\"in_channels\"][2],\n",
    "                               out_channels = self.params[\"out_channels\"][2],\n",
    "                               kernel_size = self.params[\"kernel_sizes\"][2])\n",
    "        self.batchnorm3 = nn.BatchNorm3d(num_features =self.params[\"out_channels\"][2])\n",
    "        self.activation = nn.ReLU(True)\n",
    "        \n",
    "        self.maxpool3d = nn.MaxPool3d(kernel_size = 2)\n",
    "        if self.init_weights:\n",
    "            self._initialize_weights()\n",
    "    \n",
    "    def _initialize_weights(self):\n",
    "        for m in self.modules():\n",
    "            if isinstance(m, nn.Conv3d):\n",
    "                nn.init.kaiming_normal_(\n",
    "                    m.weight, mode='fan_out', nonlinearity='relu')\n",
    "                if m.bias is not None:\n",
    "                    nn.init.constant_(m.bias, 0)\n",
    "            elif isinstance(m, nn.BatchNorm3d):\n",
    "                nn.init.constant_(m.weight, 1)\n",
    "                nn.init.constant_(m.bias, 0)\n",
    "            elif isinstance(m, nn.Linear):\n",
    "                nn.init.normal_(m.weight, 0, 0.01)\n",
    "                nn.init.constant_(m.bias, 0)\n",
    "                \n",
    "    def forward(self,x):\n",
    "        out = self.conv1(x)\n",
    "        out = self.batchnorm1(out)\n",
    "        out = self.activation(out)\n",
    "        out = self.maxpool3d(out)\n",
    "        residual1 = out \n",
    "        out = self.conv2(out)\n",
    "        out = self.batchnorm2(out)\n",
    "        out = self.activation(out)\n",
    "        out = self.maxpool3d(out)\n",
    "        residual2 = out\n",
    "        out = self.conv3(out)\n",
    "        out = self.batchnorm3(out)\n",
    "        out = self.activation(out)\n",
    "        return out,residual1,residual2\n",
    "    \n",
    "    \n",
    "class DecoderLayer(nn.Module):\n",
    "    def __init__(self,params_decoder,init_weights = True):\n",
    "        super(DecoderLayer,self).__init__()\n",
    "        self.params = params_decoder\n",
    "        self.init_weights = init_weights\n",
    "        #build block1\n",
    "        self.upsample_layer1 = nn.Upsample(size = self.params[\"upsampling\"][0])\n",
    "        self.deconv1 = nn.ConvTranspose3d(in_channels = self.params[\"in_channels\"][0], \n",
    "                                           out_channels = self.params[\"out_channels\"][0], \n",
    "                                           kernel_size = self.params[\"kernel_sizes\"][0])\n",
    "        self.batchnorm1 = nn.BatchNorm3d(num_features = self.params[\"out_channels\"][0])\n",
    "        #build block1\n",
    "        self.upsample_layer2 = nn.Upsample(size = self.params[\"upsampling\"][1])\n",
    "        self.deconv2 = nn.ConvTranspose3d(in_channels = self.params[\"in_channels\"][1], \n",
    "                                           out_channels = self.params[\"out_channels\"][1], \n",
    "                                           kernel_size = self.params[\"kernel_sizes\"][1])\n",
    "        self.batchnorm2 = nn.BatchNorm3d(num_features = self.params[\"out_channels\"][1])\n",
    "        #build block1\n",
    "        self.upsample_layer3 = nn.Upsample(size = self.params[\"upsampling\"][2])\n",
    "        self.deconv3 = nn.ConvTranspose3d(in_channels = self.params[\"in_channels\"][2], \n",
    "                                           out_channels = self.params[\"out_channels\"][2], \n",
    "                                           kernel_size = self.params[\"kernel_sizes\"][2])\n",
    "        self.batchnorm3 = nn.BatchNorm3d(num_features = self.params[\"out_channels\"][2])\n",
    "        self.activation = nn.ReLU(True)\n",
    "        self.residual_upsampling = nn.Upsample(size = (9, 31, 31))\n",
    "        if self.init_weights:\n",
    "            self._initialize_weights()\n",
    "        \n",
    "    def _initialize_weights(self):\n",
    "        for m in self.modules():\n",
    "            if isinstance(m, nn.Conv3d):\n",
    "                nn.init.kaiming_normal_(\n",
    "                    m.weight, mode='fan_out', nonlinearity='relu')\n",
    "                if m.bias is not None:\n",
    "                    nn.init.constant_(m.bias, 0)\n",
    "            elif isinstance(m, nn.BatchNorm3d):\n",
    "                nn.init.constant_(m.weight, 1)\n",
    "                nn.init.constant_(m.bias, 0)\n",
    "            elif isinstance(m, nn.Linear):\n",
    "                nn.init.normal_(m.weight, 0, 0.01)\n",
    "                nn.init.constant_(m.bias, 0)\n",
    "        \n",
    "    def forward(self,x,residual1,residual2):\n",
    "        #first block\n",
    "        out = self.upsample_layer1(x)\n",
    "        out = self.deconv1(out)\n",
    "        out = self.batchnorm1(out)\n",
    "        out = self.activation(out)\n",
    "        #second block\n",
    "        out = self.upsample_layer2(out)\n",
    "        out+= residual2\n",
    "        out = self.deconv2(out)\n",
    "        out = self.batchnorm2(out)\n",
    "        out = self.activation(out)\n",
    "        #Third block\n",
    "        \n",
    "        out = self.residual_upsampling(out)\n",
    "        out += residual1\n",
    "        out = self.upsample_layer3(out)\n",
    "        out = self.deconv3(out)\n",
    "        out = self.batchnorm3(out)\n",
    "        out = self.activation(out)\n",
    "        return out\n",
    "    \n",
    "    \n",
    "class MeteoModel(nn.Module):\n",
    "    def __init__(self,params_model):\n",
    "        super(MeteoModel,self).__init__()\n",
    "        self.params_model = params_model\n",
    "        self.params_encoder = self.params_model[\"params_encoder\"]\n",
    "        self.params_decoder = self.params_model[\"params_decoder\"]\n",
    "        self.encoder = EncoderLayer(self.params_encoder)\n",
    "        self.decoder = DecoderLayer(self.params_decoder)\n",
    "    def forward(self,x):\n",
    "        out,residual1,residual2 = self.encoder(x)\n",
    "        out = self.decoder(out,residual1,residual2)\n",
    "        return out"
   ]
  },
  {
   "cell_type": "code",
   "execution_count": 166,
   "id": "35fb9d72-afab-4ec7-b17a-3173af224c3c",
   "metadata": {},
   "outputs": [
    {
     "name": "stdout",
     "output_type": "stream",
     "text": [
      "CPU times: user 22 µs, sys: 6 µs, total: 28 µs\n",
      "Wall time: 57.7 µs\n"
     ]
    },
    {
     "data": {
      "text/plain": [
       "MeteoModel(\n",
       "  (encoder): EncoderLayer(\n",
       "    (conv1): Conv3d(15, 25, kernel_size=(3, 3, 3), stride=(1, 1, 1))\n",
       "    (batchnorm1): BatchNorm3d(25, eps=1e-05, momentum=0.1, affine=True, track_running_stats=True)\n",
       "    (conv2): Conv3d(25, 32, kernel_size=(3, 3, 3), stride=(1, 1, 1))\n",
       "    (batchnorm2): BatchNorm3d(32, eps=1e-05, momentum=0.1, affine=True, track_running_stats=True)\n",
       "    (conv3): Conv3d(32, 64, kernel_size=(3, 3, 3), stride=(1, 1, 1))\n",
       "    (batchnorm3): BatchNorm3d(64, eps=1e-05, momentum=0.1, affine=True, track_running_stats=True)\n",
       "    (activation): ReLU(inplace=True)\n",
       "    (maxpool3d): MaxPool3d(kernel_size=2, stride=2, padding=0, dilation=1, ceil_mode=False)\n",
       "  )\n",
       "  (decoder): DecoderLayer(\n",
       "    (upsample_layer1): Upsample(size=(2, 15, 15), mode=nearest)\n",
       "    (deconv1): ConvTranspose3d(64, 32, kernel_size=(2, 2, 2), stride=(1, 1, 1))\n",
       "    (batchnorm1): BatchNorm3d(32, eps=1e-05, momentum=0.1, affine=True, track_running_stats=True)\n",
       "    (upsample_layer2): Upsample(size=(3, 14, 14), mode=nearest)\n",
       "    (deconv2): ConvTranspose3d(32, 25, kernel_size=(3, 3, 3), stride=(1, 1, 1))\n",
       "    (batchnorm2): BatchNorm3d(25, eps=1e-05, momentum=0.1, affine=True, track_running_stats=True)\n",
       "    (upsample_layer3): Upsample(size=(1, 63, 63), mode=nearest)\n",
       "    (deconv3): ConvTranspose3d(25, 15, kernel_size=(2, 2, 2), stride=(1, 1, 1))\n",
       "    (batchnorm3): BatchNorm3d(15, eps=1e-05, momentum=0.1, affine=True, track_running_stats=True)\n",
       "    (activation): ReLU(inplace=True)\n",
       "    (residual_upsampling): Upsample(size=(9, 31, 31), mode=nearest)\n",
       "  )\n",
       ")"
      ]
     },
     "execution_count": 166,
     "metadata": {},
     "output_type": "execute_result"
    }
   ],
   "source": [
    "%time\n",
    "model = MeteoModel(params_model)\n",
    "model.to(params_model[\"device\"])"
   ]
  },
  {
   "cell_type": "code",
   "execution_count": 167,
   "id": "7e19869c-60df-4dfb-a2b7-110d36a4279f",
   "metadata": {},
   "outputs": [],
   "source": [
    "criterion = Loss(\"L1Loss\")\n",
    "optimizer = torch.optim.AdamW(model.parameters(), lr=0.001)\n",
    "scheduler = torch.optim.lr_scheduler.ReduceLROnPlateau(optimizer,\n",
    "                                                       factor = 0.2,\n",
    "                                                       patience = 3,\n",
    "                                                       verbose = True)\n",
    "\n",
    "shuffle_trainloader = False\n",
    "train_batch_size = 5\n",
    "shuffle_validloader = False\n",
    "valid_batch_size = 3\n",
    "epoch = 100\n",
    "verbose = True"
   ]
  },
  {
   "cell_type": "code",
   "execution_count": 168,
   "id": "530afb03-03ed-4e5b-bab3-cb4edfa09994",
   "metadata": {},
   "outputs": [],
   "source": [
    "train_config = TrainingConfig(model,\n",
    "                              criterion,\n",
    "                              optimizer,\n",
    "                              scheduler,\n",
    "                              device,\n",
    "                              shuffle_trainloader,\n",
    "                              train_batch_size,\n",
    "                              shuffle_validloader,\n",
    "                              valid_batch_size,\n",
    "                              epoch,\n",
    "                              verbose,\n",
    "                             )"
   ]
  },
  {
   "cell_type": "code",
   "execution_count": 169,
   "id": "55b59fca-183e-474b-a404-68bc64c9601f",
   "metadata": {},
   "outputs": [
    {
     "name": "stdout",
     "output_type": "stream",
     "text": [
      ".........EPOCH 0........\n"
     ]
    },
    {
     "name": "stderr",
     "output_type": "stream",
     "text": [
      "  1%|          | 1/98 [00:00<00:28,  3.38it/s, batch_number=0, loss=9.61]"
     ]
    },
    {
     "name": "stdout",
     "output_type": "stream",
     "text": [
      "torch.Size([5, 15, 2, 64, 64])\n",
      "torch.Size([5, 15, 2, 64, 64])\n"
     ]
    },
    {
     "name": "stderr",
     "output_type": "stream",
     "text": [
      "  3%|▎         | 3/98 [00:00<00:22,  4.14it/s, batch_number=2, loss=9.56]"
     ]
    },
    {
     "name": "stdout",
     "output_type": "stream",
     "text": [
      "torch.Size([5, 15, 2, 64, 64])\n",
      "torch.Size([5, 15, 2, 64, 64])\n"
     ]
    },
    {
     "name": "stderr",
     "output_type": "stream",
     "text": [
      "  5%|▌         | 5/98 [00:01<00:20,  4.56it/s, batch_number=4, loss=9.55]"
     ]
    },
    {
     "name": "stdout",
     "output_type": "stream",
     "text": [
      "torch.Size([5, 15, 2, 64, 64])\n",
      "torch.Size([5, 15, 2, 64, 64])\n"
     ]
    },
    {
     "name": "stderr",
     "output_type": "stream",
     "text": [
      "  7%|▋         | 7/98 [00:01<00:21,  4.20it/s, batch_number=6, loss=9.53]"
     ]
    },
    {
     "name": "stdout",
     "output_type": "stream",
     "text": [
      "torch.Size([5, 15, 2, 64, 64])\n"
     ]
    },
    {
     "name": "stderr",
     "output_type": "stream",
     "text": [
      "  8%|▊         | 8/98 [00:01<00:19,  4.59it/s, batch_number=7, loss=9.52]"
     ]
    },
    {
     "name": "stdout",
     "output_type": "stream",
     "text": [
      "torch.Size([5, 15, 2, 64, 64])\n",
      "torch.Size([5, 15, 2, 64, 64])\n"
     ]
    },
    {
     "name": "stderr",
     "output_type": "stream",
     "text": [
      " 10%|█         | 10/98 [00:02<00:15,  5.53it/s, batch_number=9, loss=9.53]"
     ]
    },
    {
     "name": "stdout",
     "output_type": "stream",
     "text": [
      "torch.Size([5, 15, 2, 64, 64])\n",
      "torch.Size([5, 15, 2, 64, 64])\n"
     ]
    },
    {
     "name": "stderr",
     "output_type": "stream",
     "text": [
      " 11%|█         | 11/98 [00:02<00:18,  4.69it/s, batch_number=10, loss=9.52]\n"
     ]
    },
    {
     "ename": "KeyboardInterrupt",
     "evalue": "",
     "output_type": "error",
     "traceback": [
      "\u001b[0;31m---------------------------------------------------------------------------\u001b[0m",
      "\u001b[0;31mKeyboardInterrupt\u001b[0m                         Traceback (most recent call last)",
      "\u001b[0;32m<ipython-input-169-35d82cad3c34>\u001b[0m in \u001b[0;36m<module>\u001b[0;34m\u001b[0m\n\u001b[1;32m      1\u001b[0m \u001b[0mjob\u001b[0m \u001b[0;34m=\u001b[0m \u001b[0mTraining\u001b[0m\u001b[0;34m(\u001b[0m\u001b[0mtrain_config\u001b[0m\u001b[0;34m)\u001b[0m\u001b[0;34m\u001b[0m\u001b[0;34m\u001b[0m\u001b[0m\n\u001b[0;32m----> 2\u001b[0;31m \u001b[0mjob\u001b[0m\u001b[0;34m.\u001b[0m\u001b[0mfit\u001b[0m\u001b[0;34m(\u001b[0m\u001b[0mtrain_set\u001b[0m\u001b[0;34m,\u001b[0m\u001b[0mvalid_set\u001b[0m\u001b[0;34m)\u001b[0m\u001b[0;34m\u001b[0m\u001b[0;34m\u001b[0m\u001b[0m\n\u001b[0m",
      "\u001b[0;32m~/miniconda3/lib/python3.9/site-packages/models/forecastors/utils/engine.py\u001b[0m in \u001b[0;36mfit\u001b[0;34m(self, train_dataset, valid_dataset)\u001b[0m\n\u001b[1;32m     66\u001b[0m             \u001b[0;32mif\u001b[0m \u001b[0mself\u001b[0m\u001b[0;34m.\u001b[0m\u001b[0mtrain_config\u001b[0m\u001b[0;34m.\u001b[0m\u001b[0mverbose\u001b[0m \u001b[0;34m:\u001b[0m\u001b[0;34m\u001b[0m\u001b[0;34m\u001b[0m\u001b[0m\n\u001b[1;32m     67\u001b[0m                 \u001b[0mprint\u001b[0m\u001b[0;34m(\u001b[0m\u001b[0;34mf\".........EPOCH {epoch}........\"\u001b[0m\u001b[0;34m)\u001b[0m\u001b[0;34m\u001b[0m\u001b[0;34m\u001b[0m\u001b[0m\n\u001b[0;32m---> 68\u001b[0;31m             \u001b[0mtr_loss\u001b[0m \u001b[0;34m=\u001b[0m \u001b[0mself\u001b[0m\u001b[0;34m.\u001b[0m\u001b[0mtrain_fn\u001b[0m\u001b[0;34m(\u001b[0m\u001b[0mself\u001b[0m\u001b[0;34m.\u001b[0m\u001b[0mtrain_config\u001b[0m\u001b[0;34m.\u001b[0m\u001b[0mmodel\u001b[0m\u001b[0;34m,\u001b[0m\u001b[0mtrain_data_loader\u001b[0m\u001b[0;34m)\u001b[0m\u001b[0;34m\u001b[0m\u001b[0;34m\u001b[0m\u001b[0m\n\u001b[0m\u001b[1;32m     69\u001b[0m             \u001b[0mtrain_loss\u001b[0m\u001b[0;34m.\u001b[0m\u001b[0mappend\u001b[0m\u001b[0;34m(\u001b[0m\u001b[0mtr_loss\u001b[0m\u001b[0;34m)\u001b[0m\u001b[0;34m\u001b[0m\u001b[0;34m\u001b[0m\u001b[0m\n\u001b[1;32m     70\u001b[0m             \u001b[0;32mif\u001b[0m \u001b[0mself\u001b[0m\u001b[0;34m.\u001b[0m\u001b[0mtrain_config\u001b[0m\u001b[0;34m.\u001b[0m\u001b[0mverbose\u001b[0m \u001b[0;34m:\u001b[0m\u001b[0;34m\u001b[0m\u001b[0;34m\u001b[0m\u001b[0m\n",
      "\u001b[0;32m~/miniconda3/lib/python3.9/site-packages/models/forecastors/utils/engine.py\u001b[0m in \u001b[0;36mtrain_fn\u001b[0;34m(self, model, train_loader)\u001b[0m\n\u001b[1;32m     18\u001b[0m             \u001b[0mtarget\u001b[0m \u001b[0;34m=\u001b[0m \u001b[0mtrain_batch\u001b[0m\u001b[0;34m[\u001b[0m\u001b[0;34m\"target\"\u001b[0m\u001b[0;34m]\u001b[0m\u001b[0;34m.\u001b[0m\u001b[0mto\u001b[0m\u001b[0;34m(\u001b[0m\u001b[0mself\u001b[0m\u001b[0;34m.\u001b[0m\u001b[0mtrain_config\u001b[0m\u001b[0;34m.\u001b[0m\u001b[0mdevice\u001b[0m\u001b[0;34m)\u001b[0m\u001b[0;34m\u001b[0m\u001b[0;34m\u001b[0m\u001b[0m\n\u001b[1;32m     19\u001b[0m             \u001b[0mself\u001b[0m\u001b[0;34m.\u001b[0m\u001b[0mtrain_config\u001b[0m\u001b[0;34m.\u001b[0m\u001b[0moptimizer\u001b[0m\u001b[0;34m.\u001b[0m\u001b[0mzero_grad\u001b[0m\u001b[0;34m(\u001b[0m\u001b[0;34m)\u001b[0m\u001b[0;34m\u001b[0m\u001b[0;34m\u001b[0m\u001b[0m\n\u001b[0;32m---> 20\u001b[0;31m             \u001b[0mpred_target\u001b[0m \u001b[0;34m=\u001b[0m \u001b[0mmodel\u001b[0m\u001b[0;34m(\u001b[0m\u001b[0mdata\u001b[0m\u001b[0;34m)\u001b[0m\u001b[0;34m\u001b[0m\u001b[0;34m\u001b[0m\u001b[0m\n\u001b[0m\u001b[1;32m     21\u001b[0m             \u001b[0mtrain_loss\u001b[0m \u001b[0;34m=\u001b[0m \u001b[0mself\u001b[0m\u001b[0;34m.\u001b[0m\u001b[0mtrain_config\u001b[0m\u001b[0;34m.\u001b[0m\u001b[0mcriterion\u001b[0m\u001b[0;34m(\u001b[0m\u001b[0mpred_target\u001b[0m\u001b[0;34m,\u001b[0m\u001b[0mtarget\u001b[0m\u001b[0;34m)\u001b[0m\u001b[0;34m\u001b[0m\u001b[0;34m\u001b[0m\u001b[0m\n\u001b[1;32m     22\u001b[0m             \u001b[0mtr_loss\u001b[0m \u001b[0;34m+=\u001b[0m \u001b[0mtrain_loss\u001b[0m\u001b[0;34m.\u001b[0m\u001b[0mitem\u001b[0m\u001b[0;34m(\u001b[0m\u001b[0;34m)\u001b[0m\u001b[0;34m\u001b[0m\u001b[0;34m\u001b[0m\u001b[0m\n",
      "\u001b[0;32m~/miniconda3/lib/python3.9/site-packages/torch/nn/modules/module.py\u001b[0m in \u001b[0;36m_call_impl\u001b[0;34m(self, *input, **kwargs)\u001b[0m\n\u001b[1;32m   1100\u001b[0m         if not (self._backward_hooks or self._forward_hooks or self._forward_pre_hooks or _global_backward_hooks\n\u001b[1;32m   1101\u001b[0m                 or _global_forward_hooks or _global_forward_pre_hooks):\n\u001b[0;32m-> 1102\u001b[0;31m             \u001b[0;32mreturn\u001b[0m \u001b[0mforward_call\u001b[0m\u001b[0;34m(\u001b[0m\u001b[0;34m*\u001b[0m\u001b[0minput\u001b[0m\u001b[0;34m,\u001b[0m \u001b[0;34m**\u001b[0m\u001b[0mkwargs\u001b[0m\u001b[0;34m)\u001b[0m\u001b[0;34m\u001b[0m\u001b[0;34m\u001b[0m\u001b[0m\n\u001b[0m\u001b[1;32m   1103\u001b[0m         \u001b[0;31m# Do not call functions when jit is used\u001b[0m\u001b[0;34m\u001b[0m\u001b[0;34m\u001b[0m\u001b[0;34m\u001b[0m\u001b[0m\n\u001b[1;32m   1104\u001b[0m         \u001b[0mfull_backward_hooks\u001b[0m\u001b[0;34m,\u001b[0m \u001b[0mnon_full_backward_hooks\u001b[0m \u001b[0;34m=\u001b[0m \u001b[0;34m[\u001b[0m\u001b[0;34m]\u001b[0m\u001b[0;34m,\u001b[0m \u001b[0;34m[\u001b[0m\u001b[0;34m]\u001b[0m\u001b[0;34m\u001b[0m\u001b[0;34m\u001b[0m\u001b[0m\n",
      "\u001b[0;32m<ipython-input-165-f50d0650e7b3>\u001b[0m in \u001b[0;36mforward\u001b[0;34m(self, x)\u001b[0m\n\u001b[1;32m    135\u001b[0m         \u001b[0mself\u001b[0m\u001b[0;34m.\u001b[0m\u001b[0mdecoder\u001b[0m \u001b[0;34m=\u001b[0m \u001b[0mDecoderLayer\u001b[0m\u001b[0;34m(\u001b[0m\u001b[0mself\u001b[0m\u001b[0;34m.\u001b[0m\u001b[0mparams_decoder\u001b[0m\u001b[0;34m)\u001b[0m\u001b[0;34m\u001b[0m\u001b[0;34m\u001b[0m\u001b[0m\n\u001b[1;32m    136\u001b[0m     \u001b[0;32mdef\u001b[0m \u001b[0mforward\u001b[0m\u001b[0;34m(\u001b[0m\u001b[0mself\u001b[0m\u001b[0;34m,\u001b[0m\u001b[0mx\u001b[0m\u001b[0;34m)\u001b[0m\u001b[0;34m:\u001b[0m\u001b[0;34m\u001b[0m\u001b[0;34m\u001b[0m\u001b[0m\n\u001b[0;32m--> 137\u001b[0;31m         \u001b[0mout\u001b[0m\u001b[0;34m,\u001b[0m\u001b[0mresidual1\u001b[0m\u001b[0;34m,\u001b[0m\u001b[0mresidual2\u001b[0m \u001b[0;34m=\u001b[0m \u001b[0mself\u001b[0m\u001b[0;34m.\u001b[0m\u001b[0mencoder\u001b[0m\u001b[0;34m(\u001b[0m\u001b[0mx\u001b[0m\u001b[0;34m)\u001b[0m\u001b[0;34m\u001b[0m\u001b[0;34m\u001b[0m\u001b[0m\n\u001b[0m\u001b[1;32m    138\u001b[0m         \u001b[0mout\u001b[0m \u001b[0;34m=\u001b[0m \u001b[0mself\u001b[0m\u001b[0;34m.\u001b[0m\u001b[0mdecoder\u001b[0m\u001b[0;34m(\u001b[0m\u001b[0mout\u001b[0m\u001b[0;34m,\u001b[0m\u001b[0mresidual1\u001b[0m\u001b[0;34m,\u001b[0m\u001b[0mresidual2\u001b[0m\u001b[0;34m)\u001b[0m\u001b[0;34m\u001b[0m\u001b[0;34m\u001b[0m\u001b[0m\n\u001b[1;32m    139\u001b[0m         \u001b[0;32mreturn\u001b[0m \u001b[0mout\u001b[0m\u001b[0;34m\u001b[0m\u001b[0;34m\u001b[0m\u001b[0m\n",
      "\u001b[0;32m~/miniconda3/lib/python3.9/site-packages/torch/nn/modules/module.py\u001b[0m in \u001b[0;36m_call_impl\u001b[0;34m(self, *input, **kwargs)\u001b[0m\n\u001b[1;32m   1100\u001b[0m         if not (self._backward_hooks or self._forward_hooks or self._forward_pre_hooks or _global_backward_hooks\n\u001b[1;32m   1101\u001b[0m                 or _global_forward_hooks or _global_forward_pre_hooks):\n\u001b[0;32m-> 1102\u001b[0;31m             \u001b[0;32mreturn\u001b[0m \u001b[0mforward_call\u001b[0m\u001b[0;34m(\u001b[0m\u001b[0;34m*\u001b[0m\u001b[0minput\u001b[0m\u001b[0;34m,\u001b[0m \u001b[0;34m**\u001b[0m\u001b[0mkwargs\u001b[0m\u001b[0;34m)\u001b[0m\u001b[0;34m\u001b[0m\u001b[0;34m\u001b[0m\u001b[0m\n\u001b[0m\u001b[1;32m   1103\u001b[0m         \u001b[0;31m# Do not call functions when jit is used\u001b[0m\u001b[0;34m\u001b[0m\u001b[0;34m\u001b[0m\u001b[0;34m\u001b[0m\u001b[0m\n\u001b[1;32m   1104\u001b[0m         \u001b[0mfull_backward_hooks\u001b[0m\u001b[0;34m,\u001b[0m \u001b[0mnon_full_backward_hooks\u001b[0m \u001b[0;34m=\u001b[0m \u001b[0;34m[\u001b[0m\u001b[0;34m]\u001b[0m\u001b[0;34m,\u001b[0m \u001b[0;34m[\u001b[0m\u001b[0;34m]\u001b[0m\u001b[0;34m\u001b[0m\u001b[0;34m\u001b[0m\u001b[0m\n",
      "\u001b[0;32m<ipython-input-165-f50d0650e7b3>\u001b[0m in \u001b[0;36mforward\u001b[0;34m(self, x)\u001b[0m\n\u001b[1;32m     44\u001b[0m \u001b[0;34m\u001b[0m\u001b[0m\n\u001b[1;32m     45\u001b[0m     \u001b[0;32mdef\u001b[0m \u001b[0mforward\u001b[0m\u001b[0;34m(\u001b[0m\u001b[0mself\u001b[0m\u001b[0;34m,\u001b[0m\u001b[0mx\u001b[0m\u001b[0;34m)\u001b[0m\u001b[0;34m:\u001b[0m\u001b[0;34m\u001b[0m\u001b[0;34m\u001b[0m\u001b[0m\n\u001b[0;32m---> 46\u001b[0;31m         \u001b[0mout\u001b[0m \u001b[0;34m=\u001b[0m \u001b[0mself\u001b[0m\u001b[0;34m.\u001b[0m\u001b[0mconv1\u001b[0m\u001b[0;34m(\u001b[0m\u001b[0mx\u001b[0m\u001b[0;34m)\u001b[0m\u001b[0;34m\u001b[0m\u001b[0;34m\u001b[0m\u001b[0m\n\u001b[0m\u001b[1;32m     47\u001b[0m         \u001b[0mout\u001b[0m \u001b[0;34m=\u001b[0m \u001b[0mself\u001b[0m\u001b[0;34m.\u001b[0m\u001b[0mbatchnorm1\u001b[0m\u001b[0;34m(\u001b[0m\u001b[0mout\u001b[0m\u001b[0;34m)\u001b[0m\u001b[0;34m\u001b[0m\u001b[0;34m\u001b[0m\u001b[0m\n\u001b[1;32m     48\u001b[0m         \u001b[0mout\u001b[0m \u001b[0;34m=\u001b[0m \u001b[0mself\u001b[0m\u001b[0;34m.\u001b[0m\u001b[0mactivation\u001b[0m\u001b[0;34m(\u001b[0m\u001b[0mout\u001b[0m\u001b[0;34m)\u001b[0m\u001b[0;34m\u001b[0m\u001b[0;34m\u001b[0m\u001b[0m\n",
      "\u001b[0;32m~/miniconda3/lib/python3.9/site-packages/torch/nn/modules/module.py\u001b[0m in \u001b[0;36m_call_impl\u001b[0;34m(self, *input, **kwargs)\u001b[0m\n\u001b[1;32m   1100\u001b[0m         if not (self._backward_hooks or self._forward_hooks or self._forward_pre_hooks or _global_backward_hooks\n\u001b[1;32m   1101\u001b[0m                 or _global_forward_hooks or _global_forward_pre_hooks):\n\u001b[0;32m-> 1102\u001b[0;31m             \u001b[0;32mreturn\u001b[0m \u001b[0mforward_call\u001b[0m\u001b[0;34m(\u001b[0m\u001b[0;34m*\u001b[0m\u001b[0minput\u001b[0m\u001b[0;34m,\u001b[0m \u001b[0;34m**\u001b[0m\u001b[0mkwargs\u001b[0m\u001b[0;34m)\u001b[0m\u001b[0;34m\u001b[0m\u001b[0;34m\u001b[0m\u001b[0m\n\u001b[0m\u001b[1;32m   1103\u001b[0m         \u001b[0;31m# Do not call functions when jit is used\u001b[0m\u001b[0;34m\u001b[0m\u001b[0;34m\u001b[0m\u001b[0;34m\u001b[0m\u001b[0m\n\u001b[1;32m   1104\u001b[0m         \u001b[0mfull_backward_hooks\u001b[0m\u001b[0;34m,\u001b[0m \u001b[0mnon_full_backward_hooks\u001b[0m \u001b[0;34m=\u001b[0m \u001b[0;34m[\u001b[0m\u001b[0;34m]\u001b[0m\u001b[0;34m,\u001b[0m \u001b[0;34m[\u001b[0m\u001b[0;34m]\u001b[0m\u001b[0;34m\u001b[0m\u001b[0;34m\u001b[0m\u001b[0m\n",
      "\u001b[0;32m~/miniconda3/lib/python3.9/site-packages/torch/nn/modules/conv.py\u001b[0m in \u001b[0;36mforward\u001b[0;34m(self, input)\u001b[0m\n\u001b[1;32m    588\u001b[0m \u001b[0;34m\u001b[0m\u001b[0m\n\u001b[1;32m    589\u001b[0m     \u001b[0;32mdef\u001b[0m \u001b[0mforward\u001b[0m\u001b[0;34m(\u001b[0m\u001b[0mself\u001b[0m\u001b[0;34m,\u001b[0m \u001b[0minput\u001b[0m\u001b[0;34m:\u001b[0m \u001b[0mTensor\u001b[0m\u001b[0;34m)\u001b[0m \u001b[0;34m->\u001b[0m \u001b[0mTensor\u001b[0m\u001b[0;34m:\u001b[0m\u001b[0;34m\u001b[0m\u001b[0;34m\u001b[0m\u001b[0m\n\u001b[0;32m--> 590\u001b[0;31m         \u001b[0;32mreturn\u001b[0m \u001b[0mself\u001b[0m\u001b[0;34m.\u001b[0m\u001b[0m_conv_forward\u001b[0m\u001b[0;34m(\u001b[0m\u001b[0minput\u001b[0m\u001b[0;34m,\u001b[0m \u001b[0mself\u001b[0m\u001b[0;34m.\u001b[0m\u001b[0mweight\u001b[0m\u001b[0;34m,\u001b[0m \u001b[0mself\u001b[0m\u001b[0;34m.\u001b[0m\u001b[0mbias\u001b[0m\u001b[0;34m)\u001b[0m\u001b[0;34m\u001b[0m\u001b[0;34m\u001b[0m\u001b[0m\n\u001b[0m\u001b[1;32m    591\u001b[0m \u001b[0;34m\u001b[0m\u001b[0m\n\u001b[1;32m    592\u001b[0m \u001b[0;34m\u001b[0m\u001b[0m\n",
      "\u001b[0;32m~/miniconda3/lib/python3.9/site-packages/torch/nn/modules/conv.py\u001b[0m in \u001b[0;36m_conv_forward\u001b[0;34m(self, input, weight, bias)\u001b[0m\n\u001b[1;32m    583\u001b[0m                 \u001b[0mself\u001b[0m\u001b[0;34m.\u001b[0m\u001b[0mgroups\u001b[0m\u001b[0;34m,\u001b[0m\u001b[0;34m\u001b[0m\u001b[0;34m\u001b[0m\u001b[0m\n\u001b[1;32m    584\u001b[0m             )\n\u001b[0;32m--> 585\u001b[0;31m         return F.conv3d(\n\u001b[0m\u001b[1;32m    586\u001b[0m             \u001b[0minput\u001b[0m\u001b[0;34m,\u001b[0m \u001b[0mweight\u001b[0m\u001b[0;34m,\u001b[0m \u001b[0mbias\u001b[0m\u001b[0;34m,\u001b[0m \u001b[0mself\u001b[0m\u001b[0;34m.\u001b[0m\u001b[0mstride\u001b[0m\u001b[0;34m,\u001b[0m \u001b[0mself\u001b[0m\u001b[0;34m.\u001b[0m\u001b[0mpadding\u001b[0m\u001b[0;34m,\u001b[0m \u001b[0mself\u001b[0m\u001b[0;34m.\u001b[0m\u001b[0mdilation\u001b[0m\u001b[0;34m,\u001b[0m \u001b[0mself\u001b[0m\u001b[0;34m.\u001b[0m\u001b[0mgroups\u001b[0m\u001b[0;34m\u001b[0m\u001b[0;34m\u001b[0m\u001b[0m\n\u001b[1;32m    587\u001b[0m         )\n",
      "\u001b[0;31mKeyboardInterrupt\u001b[0m: "
     ]
    }
   ],
   "source": [
    "job = Training(train_config)\n",
    "job.fit(train_set,valid_set)"
   ]
  },
  {
   "cell_type": "code",
   "execution_count": 125,
   "id": "de73236c-3f3a-4ad8-9819-bfbaac6e6bd5",
   "metadata": {},
   "outputs": [],
   "source": [
    "layer = nn.ConvTranspose3d(in_channels = 60, \n",
    "                           out_channels = 30, \n",
    "                           kernel_size = 15)"
   ]
  },
  {
   "cell_type": "code",
   "execution_count": 127,
   "id": "d22a3eaf-56f6-4125-8e8c-37a9367735e8",
   "metadata": {},
   "outputs": [
    {
     "data": {
      "text/plain": [
       "torch.Size([10, 30, 16, 78, 78])"
      ]
     },
     "execution_count": 127,
     "metadata": {},
     "output_type": "execute_result"
    }
   ],
   "source": [
    "tens = torch.randn(10,60,2,64,64)\n",
    "layer(tens).shape"
   ]
  },
  {
   "cell_type": "code",
   "execution_count": null,
   "id": "b3596b24-ced8-4ecb-bbdd-07aabce8bbcd",
   "metadata": {},
   "outputs": [],
   "source": []
  }
 ],
 "metadata": {
  "kernelspec": {
   "display_name": "Python 3 (ipykernel)",
   "language": "python",
   "name": "python3"
  },
  "language_info": {
   "codemirror_mode": {
    "name": "ipython",
    "version": 3
   },
   "file_extension": ".py",
   "mimetype": "text/x-python",
   "name": "python",
   "nbconvert_exporter": "python",
   "pygments_lexer": "ipython3",
   "version": "3.9.5"
  }
 },
 "nbformat": 4,
 "nbformat_minor": 5
}
