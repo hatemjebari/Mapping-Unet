{
 "cells": [
  {
   "cell_type": "code",
   "execution_count": 1,
   "id": "2b39a350-b2eb-432b-ab78-bc339383bbec",
   "metadata": {},
   "outputs": [],
   "source": [
    "import pandas as pd\n",
    "import numpy as np\n",
    "import torch\n",
    "import torch.nn as nn\n",
    "import torch.nn.functional as F\n",
    "from models.forecastors.MobileNet3D.mobilenet import *"
   ]
  },
  {
   "cell_type": "code",
   "execution_count": 136,
   "id": "eab77deb-092d-4f6a-864b-f9bbfb2036bd",
   "metadata": {},
   "outputs": [],
   "source": [
    "model = get_model(input_channels = 10,num_out_channels = 1,width_mult=1.)\n",
    "input_var = torch.randn(8, 10, 16, 112, 112)\n",
    "output = model(input_var)"
   ]
  },
  {
   "cell_type": "code",
   "execution_count": 137,
   "id": "0e2a0cc3-e82e-4ae0-a1af-9d49dd7a6e3a",
   "metadata": {},
   "outputs": [
    {
     "data": {
      "text/plain": [
       "torch.Size([8, 1, 16, 112, 112])"
      ]
     },
     "execution_count": 137,
     "metadata": {},
     "output_type": "execute_result"
    }
   ],
   "source": [
    "output.shape"
   ]
  },
  {
   "cell_type": "code",
   "execution_count": null,
   "id": "a4cf15d5-5e14-4fec-b9e8-8848ce10b906",
   "metadata": {},
   "outputs": [],
   "source": []
  },
  {
   "cell_type": "code",
   "execution_count": null,
   "id": "5aae48ae-fbac-4dce-9ce1-f91c6d7916d1",
   "metadata": {},
   "outputs": [],
   "source": []
  }
 ],
 "metadata": {
  "kernelspec": {
   "display_name": "Python 3 (ipykernel)",
   "language": "python",
   "name": "python3"
  },
  "language_info": {
   "codemirror_mode": {
    "name": "ipython",
    "version": 3
   },
   "file_extension": ".py",
   "mimetype": "text/x-python",
   "name": "python",
   "nbconvert_exporter": "python",
   "pygments_lexer": "ipython3",
   "version": "3.9.7"
  }
 },
 "nbformat": 4,
 "nbformat_minor": 5
}
